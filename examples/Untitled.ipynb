{
 "cells": [
  {
   "cell_type": "markdown",
   "metadata": {},
   "source": [
    "The theory behind this example can be found in Greiner Relativistic Quantum Mechanics book\n",
    "\n",
    "This has been summarized by a blog post \"https://physicspages.com/Greiner%20RQM.html\" \n",
    "\n",
    "I have reproduced the calculations which can be found at \"../docs/SKGCP/Ex1_10.pdf\"\n",
    "\n",
    "- There is a discrepecy however with the differential equation I find compared to Greiner, however the results dont change all that much, and as such I have taken Greiners word for it and assume I have made a mistake in the calculation \n",
    "- pg(6) of my calcs"
   ]
  },
  {
   "cell_type": "markdown",
   "metadata": {},
   "source": [
    "# Pionic Atom with point like Nucleus"
   ]
  },
  {
   "cell_type": "markdown",
   "metadata": {},
   "source": [
    "## Problem\n",
    "Find the solution of the KG equation for the π meson in a Coulomb potential and discuss the energy eigenvalues. The pion has ass 139.577 MeV and Spin 0. It therefore obeys the KG equation."
   ]
  },
  {
   "cell_type": "code",
   "execution_count": null,
   "metadata": {},
   "outputs": [],
   "source": []
  }
 ],
 "metadata": {
  "kernelspec": {
   "display_name": "Julia 1.2.0",
   "language": "julia",
   "name": "julia-1.2"
  },
  "language_info": {
   "file_extension": ".jl",
   "mimetype": "application/julia",
   "name": "julia",
   "version": "1.2.0"
  }
 },
 "nbformat": 4,
 "nbformat_minor": 4
}
