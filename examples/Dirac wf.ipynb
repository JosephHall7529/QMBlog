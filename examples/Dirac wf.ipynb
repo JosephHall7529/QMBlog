{
 "cells": [
  {
   "cell_type": "markdown",
   "metadata": {},
   "source": [
    "Free electron wavefucntion "
   ]
  },
  {
   "cell_type": "markdown",
   "metadata": {},
   "source": [
    "# Non-rel"
   ]
  },
  {
   "cell_type": "code",
   "execution_count": 11,
   "metadata": {},
   "outputs": [],
   "source": [
    "c = ħ = 1\n",
    "m0 = 938;"
   ]
  },
  {
   "cell_type": "code",
   "execution_count": 12,
   "metadata": {},
   "outputs": [
    {
     "data": {
      "text/plain": [
       "ω (generic function with 1 method)"
      ]
     },
     "execution_count": 12,
     "metadata": {},
     "output_type": "execute_result"
    }
   ],
   "source": [
    "function ω()\n",
    "    ω = Array[]\n",
    "    push!(ω, [1,0,0,0])\n",
    "    push!(ω, [0,1,0,0])\n",
    "    push!(ω, [0,0,1,0])\n",
    "    push!(ω, [0,0,0,1])\n",
    "    return ω\n",
    "end"
   ]
  },
  {
   "cell_type": "code",
   "execution_count": 13,
   "metadata": {},
   "outputs": [
    {
     "data": {
      "text/plain": [
       "ϵ (generic function with 1 method)"
      ]
     },
     "execution_count": 13,
     "metadata": {},
     "output_type": "execute_result"
    }
   ],
   "source": [
    "function ϵ()\n",
    "    return [1, 1, -1, -1]\n",
    "end"
   ]
  },
  {
   "cell_type": "code",
   "execution_count": 17,
   "metadata": {},
   "outputs": [
    {
     "data": {
      "text/plain": [
       "ψ (generic function with 2 methods)"
      ]
     },
     "execution_count": 17,
     "metadata": {},
     "output_type": "execute_result"
    }
   ],
   "source": [
    "function ψ(t = [1.]; i=1)\n",
    "    return [ω()[i].*exp(-im*ϵ()[i]*(m0*c^2/ħ)*t) for i in i, t in t]\n",
    "end"
   ]
  },
  {
   "cell_type": "code",
   "execution_count": 18,
   "metadata": {},
   "outputs": [
    {
     "data": {
      "text/plain": [
       "4×1 Array{Array{Complex{Float64},1},2}:\n",
       " [-0.23244705899272397 - 0.9726090503206481im, -0.0 - 0.0im, -0.0 - 0.0im, -0.0 - 0.0im]\n",
       " [-0.0 - 0.0im, -0.23244705899272397 - 0.9726090503206481im, -0.0 - 0.0im, -0.0 - 0.0im]\n",
       " [-0.0 + 0.0im, -0.0 + 0.0im, -0.23244705899272397 + 0.9726090503206481im, -0.0 + 0.0im]\n",
       " [-0.0 + 0.0im, -0.0 + 0.0im, -0.0 + 0.0im, -0.23244705899272397 + 0.9726090503206481im]"
      ]
     },
     "execution_count": 18,
     "metadata": {},
     "output_type": "execute_result"
    }
   ],
   "source": [
    "ψ(i=1:4)"
   ]
  },
  {
   "cell_type": "code",
   "execution_count": 28,
   "metadata": {},
   "outputs": [
    {
     "data": {
      "text/plain": [
       "eigen (generic function with 1 method)"
      ]
     },
     "execution_count": 28,
     "metadata": {},
     "output_type": "execute_result"
    }
   ],
   "source": [
    "function eigen()\n",
    "    println(\"The free Dirac wavefunctions are eigenfunctions of: \")\n",
    "    println(\"σ₃I\")\n",
    "    println(\"with eigenvalues: \")\n",
    "    println(\"±1\")\n",
    "    println(\"+1 corresponds with r = 1,3\")\n",
    "    println(\"-1 corresponds with r = 2,4\")\n",
    "end"
   ]
  },
  {
   "cell_type": "code",
   "execution_count": 29,
   "metadata": {},
   "outputs": [
    {
     "name": "stdout",
     "output_type": "stream",
     "text": [
      "The free Dirac wavefunctions are eigenfunctions of: \n",
      "σ₃I\n",
      "with eigenvalues: \n",
      "±1\n",
      "+1 corresponds with r = 1,3\n",
      "-1 corresponds with r = 2,4\n"
     ]
    }
   ],
   "source": [
    "eigen()"
   ]
  },
  {
   "cell_type": "code",
   "execution_count": null,
   "metadata": {},
   "outputs": [],
   "source": []
  }
 ],
 "metadata": {
  "kernelspec": {
   "display_name": "Julia 1.5.2",
   "language": "julia",
   "name": "julia-1.5"
  },
  "language_info": {
   "file_extension": ".jl",
   "mimetype": "application/julia",
   "name": "julia",
   "version": "1.5.2"
  }
 },
 "nbformat": 4,
 "nbformat_minor": 2
}
