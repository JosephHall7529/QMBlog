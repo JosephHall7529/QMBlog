{
 "cells": [
  {
   "cell_type": "markdown",
   "metadata": {},
   "source": [
    "# Calculation of the energies of the Solutions to the free dirac equation in the Canonical formalism"
   ]
  },
  {
   "cell_type": "markdown",
   "metadata": {},
   "source": [
    "Calculate the energies of the solutions ** of the free Dirac equation"
   ]
  },
  {
   "cell_type": "markdown",
   "metadata": {},
   "source": [
    "$$E = T^0_0 = -\\psi^\\dagger \\hat{H}_f \\psi$$\n",
    "\n",
    "Inputting the usual +ve and -ve solutions into this, we find"
   ]
  },
  {
   "cell_type": "code",
   "execution_count": 23,
   "metadata": {},
   "outputs": [
    {
     "data": {
      "text/plain": [
       "1×4 LinearAlgebra.Adjoint{Real,Array{Real,1}}:\n",
       " 1  0  0.000533049  0"
      ]
     },
     "execution_count": 23,
     "metadata": {},
     "output_type": "execute_result"
    }
   ],
   "source": [
    "let c = ħ = 1\n",
    "    m0 = 938\n",
    "    λ = 1 \n",
    "    Ep(p) = sqrt((p*c)^2 + (m0*c^2)^2)\n",
    "    ψp = Function[]\n",
    "    push!(ψp, p -> 1)\n",
    "    push!(ψp, p -> 0)\n",
    "    push!(ψp, p -> (p*c)/(m0*c^2 + λ*Ep(p)))\n",
    "    push!(ψp, p -> 0)\n",
    "    [ψp[i](1) for i in 1:4]'   \n",
    "end"
   ]
  },
  {
   "cell_type": "code",
   "execution_count": null,
   "metadata": {},
   "outputs": [],
   "source": []
  }
 ],
 "metadata": {
  "kernelspec": {
   "display_name": "Julia 1.5.2",
   "language": "julia",
   "name": "julia-1.5"
  },
  "language_info": {
   "file_extension": ".jl",
   "mimetype": "application/julia",
   "name": "julia",
   "version": "1.5.2"
  }
 },
 "nbformat": 4,
 "nbformat_minor": 2
}
