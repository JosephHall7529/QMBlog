{
 "cells": [
  {
   "cell_type": "markdown",
   "metadata": {},
   "source": [
    "The theory behind this example can be found in Greiner Relativistic Quantum Mechanics book\n",
    "\n",
    "This has been summarized by a blog post \"https://physicspages.com/Greiner%20RQM.html\" \n",
    "\n",
    "I have reproduced the calculations which can be found at \"../docs/SKGCP/Ex1_10.pdf\"\n",
    "\n",
    "- There is a discrepecy however with the differential equation I find compared to Greiner, however the results dont change all that much, and as such I have taken Greiners word for it and assume I have made a mistake in the calculation \n",
    "- pg(6) of my calcs"
   ]
  },
  {
   "cell_type": "markdown",
   "metadata": {},
   "source": [
    "# Pionic Atom with point like Nucleus"
   ]
  },
  {
   "cell_type": "markdown",
   "metadata": {},
   "source": [
    "## Problem\n",
    "Find the solution of the KG equation for the π meson in a Coulomb potential and discuss the energy eigenvalues. The pion has ass 139.577 MeV and Spin 0. It therefore obeys the KG equation."
   ]
  },
  {
   "cell_type": "code",
   "execution_count": 244,
   "metadata": {},
   "outputs": [
    {
     "data": {
      "text/plain": [
       "Plots.GRBackend()"
      ]
     },
     "execution_count": 244,
     "metadata": {},
     "output_type": "execute_result"
    }
   ],
   "source": [
    "using Plots"
   ]
  },
  {
   "cell_type": "code",
   "execution_count": 237,
   "metadata": {},
   "outputs": [],
   "source": [
    "include(\"../../Constants/src/Short.jl\")\n",
    "m0 = 139.577;"
   ]
  },
  {
   "cell_type": "markdown",
   "metadata": {},
   "source": [
    "### 1st step\n",
    "Once we have inputted the potential into the general formula (9) and (10) we can make some useful definitions"
   ]
  },
  {
   "cell_type": "code",
   "execution_count": 238,
   "metadata": {},
   "outputs": [
    {
     "data": {
      "text/plain": [
       "λ (generic function with 2 methods)"
      ]
     },
     "execution_count": 238,
     "metadata": {},
     "output_type": "execute_result"
    }
   ],
   "source": [
    "β(ε) = 2*sqrt(m0^2*c^4 - ε^2)/(ħ*c)\n",
    "function ρ(r,ε) \n",
    "    return β(ε)*r >= 0 ? β(ε)*r : error(\"ρ must be +VE!\")\n",
    "end\n",
    "Z = 1\n",
    "l = 0\n",
    "μ(Z) = sqrt((l+1/2)^2 - (Z*α)^2)\n",
    "λ(ε) = -m0*c^2 ≤ ε ≤ m0*c^2 ? (2Z*α*ε)/(ħ*c*β(ε)) : error(\"Not a bund state\")"
   ]
  },
  {
   "cell_type": "markdown",
   "metadata": {},
   "source": [
    "### 2nd Step\n",
    "Now we have redefined the ODE, we can look at how it behacves in the extremes. In doing so we choose a polynomial solution in terms of ν"
   ]
  },
  {
   "cell_type": "markdown",
   "metadata": {},
   "source": [
    "We can work out a solution for this approximately analytically."
   ]
  },
  {
   "cell_type": "markdown",
   "metadata": {},
   "source": [
    "however I would still like to be able to do this numerically, for more general cases."
   ]
  },
  {
   "cell_type": "code",
   "execution_count": 239,
   "metadata": {},
   "outputs": [
    {
     "data": {
      "text/plain": [
       "ν (generic function with 1 method)"
      ]
     },
     "execution_count": 239,
     "metadata": {},
     "output_type": "execute_result"
    }
   ],
   "source": [
    "ν(Z) = 1/2 + μ(Z)"
   ]
  },
  {
   "cell_type": "markdown",
   "metadata": {},
   "source": [
    "We can see that the current definition of μ is only real for values of Z $\\leq$ 68 or more concisely $Z\\alpha \\leq 1/2$"
   ]
  },
  {
   "cell_type": "code",
   "execution_count": 245,
   "metadata": {},
   "outputs": [
    {
     "data": {
      "image/svg+xml": [
       "<?xml version=\"1.0\" encoding=\"utf-8\"?>\n",
       "<svg xmlns=\"http://www.w3.org/2000/svg\" xmlns:xlink=\"http://www.w3.org/1999/xlink\" width=\"600\" height=\"400\" viewBox=\"0 0 2400 1600\">\n",
       "<defs>\n",
       "  <clipPath id=\"clip240\">\n",
       "    <rect x=\"0\" y=\"0\" width=\"2400\" height=\"1600\"/>\n",
       "  </clipPath>\n",
       "</defs>\n",
       "<path clip-path=\"url(#clip240)\" d=\"\n",
       "M0 1600 L2400 1600 L2400 0 L0 0  Z\n",
       "  \" fill=\"#a9a9a9\" fill-rule=\"evenodd\" fill-opacity=\"1\"/>\n",
       "<defs>\n",
       "  <clipPath id=\"clip241\">\n",
       "    <rect x=\"480\" y=\"0\" width=\"1681\" height=\"1600\"/>\n",
       "  </clipPath>\n",
       "</defs>\n",
       "<path clip-path=\"url(#clip240)\" d=\"\n",
       "M175.348 1486.45 L2352.76 1486.45 L2352.76 47.2441 L175.348 47.2441  Z\n",
       "  \" fill=\"#a9a9a9\" fill-rule=\"evenodd\" fill-opacity=\"1\"/>\n",
       "<defs>\n",
       "  <clipPath id=\"clip242\">\n",
       "    <rect x=\"175\" y=\"47\" width=\"2178\" height=\"1440\"/>\n",
       "  </clipPath>\n",
       "</defs>\n",
       "<polyline clip-path=\"url(#clip242)\" style=\"stroke:#000000; stroke-width:2; stroke-opacity:0.1; fill:none\" points=\"\n",
       "  236.973,1486.45 236.973,47.2441 \n",
       "  \"/>\n",
       "<polyline clip-path=\"url(#clip242)\" style=\"stroke:#000000; stroke-width:2; stroke-opacity:0.1; fill:none\" points=\"\n",
       "  297.389,1486.45 297.389,47.2441 \n",
       "  \"/>\n",
       "<polyline clip-path=\"url(#clip242)\" style=\"stroke:#000000; stroke-width:2; stroke-opacity:0.1; fill:none\" points=\"\n",
       "  357.806,1486.45 357.806,47.2441 \n",
       "  \"/>\n",
       "<polyline clip-path=\"url(#clip242)\" style=\"stroke:#000000; stroke-width:2; stroke-opacity:0.1; fill:none\" points=\"\n",
       "  418.222,1486.45 418.222,47.2441 \n",
       "  \"/>\n",
       "<polyline clip-path=\"url(#clip242)\" style=\"stroke:#000000; stroke-width:2; stroke-opacity:0.1; fill:none\" points=\"\n",
       "  478.639,1486.45 478.639,47.2441 \n",
       "  \"/>\n",
       "<polyline clip-path=\"url(#clip242)\" style=\"stroke:#000000; stroke-width:2; stroke-opacity:0.1; fill:none\" points=\"\n",
       "  539.055,1486.45 539.055,47.2441 \n",
       "  \"/>\n",
       "<polyline clip-path=\"url(#clip242)\" style=\"stroke:#000000; stroke-width:2; stroke-opacity:0.1; fill:none\" points=\"\n",
       "  599.471,1486.45 599.471,47.2441 \n",
       "  \"/>\n",
       "<polyline clip-path=\"url(#clip242)\" style=\"stroke:#000000; stroke-width:2; stroke-opacity:0.1; fill:none\" points=\"\n",
       "  659.888,1486.45 659.888,47.2441 \n",
       "  \"/>\n",
       "<polyline clip-path=\"url(#clip242)\" style=\"stroke:#000000; stroke-width:2; stroke-opacity:0.1; fill:none\" points=\"\n",
       "  720.304,1486.45 720.304,47.2441 \n",
       "  \"/>\n",
       "<polyline clip-path=\"url(#clip242)\" style=\"stroke:#000000; stroke-width:2; stroke-opacity:0.1; fill:none\" points=\"\n",
       "  780.721,1486.45 780.721,47.2441 \n",
       "  \"/>\n",
       "<polyline clip-path=\"url(#clip242)\" style=\"stroke:#000000; stroke-width:2; stroke-opacity:0.1; fill:none\" points=\"\n",
       "  841.137,1486.45 841.137,47.2441 \n",
       "  \"/>\n",
       "<polyline clip-path=\"url(#clip242)\" style=\"stroke:#000000; stroke-width:2; stroke-opacity:0.1; fill:none\" points=\"\n",
       "  901.554,1486.45 901.554,47.2441 \n",
       "  \"/>\n",
       "<polyline clip-path=\"url(#clip242)\" style=\"stroke:#000000; stroke-width:2; stroke-opacity:0.1; fill:none\" points=\"\n",
       "  961.97,1486.45 961.97,47.2441 \n",
       "  \"/>\n",
       "<polyline clip-path=\"url(#clip242)\" style=\"stroke:#000000; stroke-width:2; stroke-opacity:0.1; fill:none\" points=\"\n",
       "  1022.39,1486.45 1022.39,47.2441 \n",
       "  \"/>\n",
       "<polyline clip-path=\"url(#clip242)\" style=\"stroke:#000000; stroke-width:2; stroke-opacity:0.1; fill:none\" points=\"\n",
       "  1082.8,1486.45 1082.8,47.2441 \n",
       "  \"/>\n",
       "<polyline clip-path=\"url(#clip242)\" style=\"stroke:#000000; stroke-width:2; stroke-opacity:0.1; fill:none\" points=\"\n",
       "  1143.22,1486.45 1143.22,47.2441 \n",
       "  \"/>\n",
       "<polyline clip-path=\"url(#clip242)\" style=\"stroke:#000000; stroke-width:2; stroke-opacity:0.1; fill:none\" points=\"\n",
       "  1203.64,1486.45 1203.64,47.2441 \n",
       "  \"/>\n",
       "<polyline clip-path=\"url(#clip242)\" style=\"stroke:#000000; stroke-width:2; stroke-opacity:0.1; fill:none\" points=\"\n",
       "  1264.05,1486.45 1264.05,47.2441 \n",
       "  \"/>\n",
       "<polyline clip-path=\"url(#clip242)\" style=\"stroke:#000000; stroke-width:2; stroke-opacity:0.1; fill:none\" points=\"\n",
       "  1324.47,1486.45 1324.47,47.2441 \n",
       "  \"/>\n",
       "<polyline clip-path=\"url(#clip242)\" style=\"stroke:#000000; stroke-width:2; stroke-opacity:0.1; fill:none\" points=\"\n",
       "  1384.88,1486.45 1384.88,47.2441 \n",
       "  \"/>\n",
       "<polyline clip-path=\"url(#clip242)\" style=\"stroke:#000000; stroke-width:2; stroke-opacity:0.1; fill:none\" points=\"\n",
       "  1445.3,1486.45 1445.3,47.2441 \n",
       "  \"/>\n",
       "<polyline clip-path=\"url(#clip242)\" style=\"stroke:#000000; stroke-width:2; stroke-opacity:0.1; fill:none\" points=\"\n",
       "  1505.72,1486.45 1505.72,47.2441 \n",
       "  \"/>\n",
       "<polyline clip-path=\"url(#clip242)\" style=\"stroke:#000000; stroke-width:2; stroke-opacity:0.1; fill:none\" points=\"\n",
       "  1566.13,1486.45 1566.13,47.2441 \n",
       "  \"/>\n",
       "<polyline clip-path=\"url(#clip242)\" style=\"stroke:#000000; stroke-width:2; stroke-opacity:0.1; fill:none\" points=\"\n",
       "  1626.55,1486.45 1626.55,47.2441 \n",
       "  \"/>\n",
       "<polyline clip-path=\"url(#clip242)\" style=\"stroke:#000000; stroke-width:2; stroke-opacity:0.1; fill:none\" points=\"\n",
       "  1686.97,1486.45 1686.97,47.2441 \n",
       "  \"/>\n",
       "<polyline clip-path=\"url(#clip242)\" style=\"stroke:#000000; stroke-width:2; stroke-opacity:0.1; fill:none\" points=\"\n",
       "  1747.38,1486.45 1747.38,47.2441 \n",
       "  \"/>\n",
       "<polyline clip-path=\"url(#clip242)\" style=\"stroke:#000000; stroke-width:2; stroke-opacity:0.1; fill:none\" points=\"\n",
       "  1807.8,1486.45 1807.8,47.2441 \n",
       "  \"/>\n",
       "<polyline clip-path=\"url(#clip242)\" style=\"stroke:#000000; stroke-width:2; stroke-opacity:0.1; fill:none\" points=\"\n",
       "  1868.22,1486.45 1868.22,47.2441 \n",
       "  \"/>\n",
       "<polyline clip-path=\"url(#clip242)\" style=\"stroke:#000000; stroke-width:2; stroke-opacity:0.1; fill:none\" points=\"\n",
       "  1928.63,1486.45 1928.63,47.2441 \n",
       "  \"/>\n",
       "<polyline clip-path=\"url(#clip242)\" style=\"stroke:#000000; stroke-width:2; stroke-opacity:0.1; fill:none\" points=\"\n",
       "  1989.05,1486.45 1989.05,47.2441 \n",
       "  \"/>\n",
       "<polyline clip-path=\"url(#clip242)\" style=\"stroke:#000000; stroke-width:2; stroke-opacity:0.1; fill:none\" points=\"\n",
       "  2049.47,1486.45 2049.47,47.2441 \n",
       "  \"/>\n",
       "<polyline clip-path=\"url(#clip242)\" style=\"stroke:#000000; stroke-width:2; stroke-opacity:0.1; fill:none\" points=\"\n",
       "  2109.88,1486.45 2109.88,47.2441 \n",
       "  \"/>\n",
       "<polyline clip-path=\"url(#clip242)\" style=\"stroke:#000000; stroke-width:2; stroke-opacity:0.1; fill:none\" points=\"\n",
       "  2170.3,1486.45 2170.3,47.2441 \n",
       "  \"/>\n",
       "<polyline clip-path=\"url(#clip242)\" style=\"stroke:#000000; stroke-width:2; stroke-opacity:0.1; fill:none\" points=\"\n",
       "  2230.71,1486.45 2230.71,47.2441 \n",
       "  \"/>\n",
       "<polyline clip-path=\"url(#clip242)\" style=\"stroke:#000000; stroke-width:2; stroke-opacity:0.1; fill:none\" points=\"\n",
       "  2291.13,1486.45 2291.13,47.2441 \n",
       "  \"/>\n",
       "<polyline clip-path=\"url(#clip242)\" style=\"stroke:#000000; stroke-width:2; stroke-opacity:0.1; fill:none\" points=\"\n",
       "  175.348,1480.9 2352.76,1480.9 \n",
       "  \"/>\n",
       "<polyline clip-path=\"url(#clip242)\" style=\"stroke:#000000; stroke-width:2; stroke-opacity:0.1; fill:none\" points=\"\n",
       "  175.348,1326.13 2352.76,1326.13 \n",
       "  \"/>\n",
       "<polyline clip-path=\"url(#clip242)\" style=\"stroke:#000000; stroke-width:2; stroke-opacity:0.1; fill:none\" points=\"\n",
       "  175.348,1171.36 2352.76,1171.36 \n",
       "  \"/>\n",
       "<polyline clip-path=\"url(#clip242)\" style=\"stroke:#000000; stroke-width:2; stroke-opacity:0.1; fill:none\" points=\"\n",
       "  175.348,1016.59 2352.76,1016.59 \n",
       "  \"/>\n",
       "<polyline clip-path=\"url(#clip242)\" style=\"stroke:#000000; stroke-width:2; stroke-opacity:0.1; fill:none\" points=\"\n",
       "  175.348,861.82 2352.76,861.82 \n",
       "  \"/>\n",
       "<polyline clip-path=\"url(#clip242)\" style=\"stroke:#000000; stroke-width:2; stroke-opacity:0.1; fill:none\" points=\"\n",
       "  175.348,707.052 2352.76,707.052 \n",
       "  \"/>\n",
       "<polyline clip-path=\"url(#clip242)\" style=\"stroke:#000000; stroke-width:2; stroke-opacity:0.1; fill:none\" points=\"\n",
       "  175.348,552.283 2352.76,552.283 \n",
       "  \"/>\n",
       "<polyline clip-path=\"url(#clip242)\" style=\"stroke:#000000; stroke-width:2; stroke-opacity:0.1; fill:none\" points=\"\n",
       "  175.348,397.514 2352.76,397.514 \n",
       "  \"/>\n",
       "<polyline clip-path=\"url(#clip242)\" style=\"stroke:#000000; stroke-width:2; stroke-opacity:0.1; fill:none\" points=\"\n",
       "  175.348,242.745 2352.76,242.745 \n",
       "  \"/>\n",
       "<polyline clip-path=\"url(#clip242)\" style=\"stroke:#000000; stroke-width:2; stroke-opacity:0.1; fill:none\" points=\"\n",
       "  175.348,87.9763 2352.76,87.9763 \n",
       "  \"/>\n",
       "<polyline clip-path=\"url(#clip240)\" style=\"stroke:#000000; stroke-width:4; stroke-opacity:1; fill:none\" points=\"\n",
       "  175.348,1486.45 2352.76,1486.45 \n",
       "  \"/>\n",
       "<polyline clip-path=\"url(#clip240)\" style=\"stroke:#000000; stroke-width:4; stroke-opacity:1; fill:none\" points=\"\n",
       "  175.348,1486.45 175.348,47.2441 \n",
       "  \"/>\n",
       "<polyline clip-path=\"url(#clip240)\" style=\"stroke:#000000; stroke-width:4; stroke-opacity:1; fill:none\" points=\"\n",
       "  236.973,1486.45 236.973,1469.18 \n",
       "  \"/>\n",
       "<polyline clip-path=\"url(#clip240)\" style=\"stroke:#000000; stroke-width:4; stroke-opacity:1; fill:none\" points=\"\n",
       "  297.389,1486.45 297.389,1469.18 \n",
       "  \"/>\n",
       "<polyline clip-path=\"url(#clip240)\" style=\"stroke:#000000; stroke-width:4; stroke-opacity:1; fill:none\" points=\"\n",
       "  357.806,1486.45 357.806,1469.18 \n",
       "  \"/>\n",
       "<polyline clip-path=\"url(#clip240)\" style=\"stroke:#000000; stroke-width:4; stroke-opacity:1; fill:none\" points=\"\n",
       "  418.222,1486.45 418.222,1469.18 \n",
       "  \"/>\n",
       "<polyline clip-path=\"url(#clip240)\" style=\"stroke:#000000; stroke-width:4; stroke-opacity:1; fill:none\" points=\"\n",
       "  478.639,1486.45 478.639,1469.18 \n",
       "  \"/>\n",
       "<polyline clip-path=\"url(#clip240)\" style=\"stroke:#000000; stroke-width:4; stroke-opacity:1; fill:none\" points=\"\n",
       "  539.055,1486.45 539.055,1469.18 \n",
       "  \"/>\n",
       "<polyline clip-path=\"url(#clip240)\" style=\"stroke:#000000; stroke-width:4; stroke-opacity:1; fill:none\" points=\"\n",
       "  599.471,1486.45 599.471,1469.18 \n",
       "  \"/>\n",
       "<polyline clip-path=\"url(#clip240)\" style=\"stroke:#000000; stroke-width:4; stroke-opacity:1; fill:none\" points=\"\n",
       "  659.888,1486.45 659.888,1469.18 \n",
       "  \"/>\n",
       "<polyline clip-path=\"url(#clip240)\" style=\"stroke:#000000; stroke-width:4; stroke-opacity:1; fill:none\" points=\"\n",
       "  720.304,1486.45 720.304,1469.18 \n",
       "  \"/>\n",
       "<polyline clip-path=\"url(#clip240)\" style=\"stroke:#000000; stroke-width:4; stroke-opacity:1; fill:none\" points=\"\n",
       "  780.721,1486.45 780.721,1469.18 \n",
       "  \"/>\n",
       "<polyline clip-path=\"url(#clip240)\" style=\"stroke:#000000; stroke-width:4; stroke-opacity:1; fill:none\" points=\"\n",
       "  841.137,1486.45 841.137,1469.18 \n",
       "  \"/>\n",
       "<polyline clip-path=\"url(#clip240)\" style=\"stroke:#000000; stroke-width:4; stroke-opacity:1; fill:none\" points=\"\n",
       "  901.554,1486.45 901.554,1469.18 \n",
       "  \"/>\n",
       "<polyline clip-path=\"url(#clip240)\" style=\"stroke:#000000; stroke-width:4; stroke-opacity:1; fill:none\" points=\"\n",
       "  961.97,1486.45 961.97,1469.18 \n",
       "  \"/>\n",
       "<polyline clip-path=\"url(#clip240)\" style=\"stroke:#000000; stroke-width:4; stroke-opacity:1; fill:none\" points=\"\n",
       "  1022.39,1486.45 1022.39,1469.18 \n",
       "  \"/>\n",
       "<polyline clip-path=\"url(#clip240)\" style=\"stroke:#000000; stroke-width:4; stroke-opacity:1; fill:none\" points=\"\n",
       "  1082.8,1486.45 1082.8,1469.18 \n",
       "  \"/>\n",
       "<polyline clip-path=\"url(#clip240)\" style=\"stroke:#000000; stroke-width:4; stroke-opacity:1; fill:none\" points=\"\n",
       "  1143.22,1486.45 1143.22,1469.18 \n",
       "  \"/>\n",
       "<polyline clip-path=\"url(#clip240)\" style=\"stroke:#000000; stroke-width:4; stroke-opacity:1; fill:none\" points=\"\n",
       "  1203.64,1486.45 1203.64,1469.18 \n",
       "  \"/>\n",
       "<polyline clip-path=\"url(#clip240)\" style=\"stroke:#000000; stroke-width:4; stroke-opacity:1; fill:none\" points=\"\n",
       "  1264.05,1486.45 1264.05,1469.18 \n",
       "  \"/>\n",
       "<polyline clip-path=\"url(#clip240)\" style=\"stroke:#000000; stroke-width:4; stroke-opacity:1; fill:none\" points=\"\n",
       "  1324.47,1486.45 1324.47,1469.18 \n",
       "  \"/>\n",
       "<polyline clip-path=\"url(#clip240)\" style=\"stroke:#000000; stroke-width:4; stroke-opacity:1; fill:none\" points=\"\n",
       "  1384.88,1486.45 1384.88,1469.18 \n",
       "  \"/>\n",
       "<polyline clip-path=\"url(#clip240)\" style=\"stroke:#000000; stroke-width:4; stroke-opacity:1; fill:none\" points=\"\n",
       "  1445.3,1486.45 1445.3,1469.18 \n",
       "  \"/>\n",
       "<polyline clip-path=\"url(#clip240)\" style=\"stroke:#000000; stroke-width:4; stroke-opacity:1; fill:none\" points=\"\n",
       "  1505.72,1486.45 1505.72,1469.18 \n",
       "  \"/>\n",
       "<polyline clip-path=\"url(#clip240)\" style=\"stroke:#000000; stroke-width:4; stroke-opacity:1; fill:none\" points=\"\n",
       "  1566.13,1486.45 1566.13,1469.18 \n",
       "  \"/>\n",
       "<polyline clip-path=\"url(#clip240)\" style=\"stroke:#000000; stroke-width:4; stroke-opacity:1; fill:none\" points=\"\n",
       "  1626.55,1486.45 1626.55,1469.18 \n",
       "  \"/>\n",
       "<polyline clip-path=\"url(#clip240)\" style=\"stroke:#000000; stroke-width:4; stroke-opacity:1; fill:none\" points=\"\n",
       "  1686.97,1486.45 1686.97,1469.18 \n",
       "  \"/>\n",
       "<polyline clip-path=\"url(#clip240)\" style=\"stroke:#000000; stroke-width:4; stroke-opacity:1; fill:none\" points=\"\n",
       "  1747.38,1486.45 1747.38,1469.18 \n",
       "  \"/>\n",
       "<polyline clip-path=\"url(#clip240)\" style=\"stroke:#000000; stroke-width:4; stroke-opacity:1; fill:none\" points=\"\n",
       "  1807.8,1486.45 1807.8,1469.18 \n",
       "  \"/>\n",
       "<polyline clip-path=\"url(#clip240)\" style=\"stroke:#000000; stroke-width:4; stroke-opacity:1; fill:none\" points=\"\n",
       "  1868.22,1486.45 1868.22,1469.18 \n",
       "  \"/>\n",
       "<polyline clip-path=\"url(#clip240)\" style=\"stroke:#000000; stroke-width:4; stroke-opacity:1; fill:none\" points=\"\n",
       "  1928.63,1486.45 1928.63,1469.18 \n",
       "  \"/>\n",
       "<polyline clip-path=\"url(#clip240)\" style=\"stroke:#000000; stroke-width:4; stroke-opacity:1; fill:none\" points=\"\n",
       "  1989.05,1486.45 1989.05,1469.18 \n",
       "  \"/>\n",
       "<polyline clip-path=\"url(#clip240)\" style=\"stroke:#000000; stroke-width:4; stroke-opacity:1; fill:none\" points=\"\n",
       "  2049.47,1486.45 2049.47,1469.18 \n",
       "  \"/>\n",
       "<polyline clip-path=\"url(#clip240)\" style=\"stroke:#000000; stroke-width:4; stroke-opacity:1; fill:none\" points=\"\n",
       "  2109.88,1486.45 2109.88,1469.18 \n",
       "  \"/>\n",
       "<polyline clip-path=\"url(#clip240)\" style=\"stroke:#000000; stroke-width:4; stroke-opacity:1; fill:none\" points=\"\n",
       "  2170.3,1486.45 2170.3,1469.18 \n",
       "  \"/>\n",
       "<polyline clip-path=\"url(#clip240)\" style=\"stroke:#000000; stroke-width:4; stroke-opacity:1; fill:none\" points=\"\n",
       "  2230.71,1486.45 2230.71,1469.18 \n",
       "  \"/>\n",
       "<polyline clip-path=\"url(#clip240)\" style=\"stroke:#000000; stroke-width:4; stroke-opacity:1; fill:none\" points=\"\n",
       "  2291.13,1486.45 2291.13,1469.18 \n",
       "  \"/>\n",
       "<polyline clip-path=\"url(#clip240)\" style=\"stroke:#000000; stroke-width:4; stroke-opacity:1; fill:none\" points=\"\n",
       "  175.348,1480.9 201.477,1480.9 \n",
       "  \"/>\n",
       "<polyline clip-path=\"url(#clip240)\" style=\"stroke:#000000; stroke-width:4; stroke-opacity:1; fill:none\" points=\"\n",
       "  175.348,1326.13 201.477,1326.13 \n",
       "  \"/>\n",
       "<polyline clip-path=\"url(#clip240)\" style=\"stroke:#000000; stroke-width:4; stroke-opacity:1; fill:none\" points=\"\n",
       "  175.348,1171.36 201.477,1171.36 \n",
       "  \"/>\n",
       "<polyline clip-path=\"url(#clip240)\" style=\"stroke:#000000; stroke-width:4; stroke-opacity:1; fill:none\" points=\"\n",
       "  175.348,1016.59 201.477,1016.59 \n",
       "  \"/>\n",
       "<polyline clip-path=\"url(#clip240)\" style=\"stroke:#000000; stroke-width:4; stroke-opacity:1; fill:none\" points=\"\n",
       "  175.348,861.82 201.477,861.82 \n",
       "  \"/>\n",
       "<polyline clip-path=\"url(#clip240)\" style=\"stroke:#000000; stroke-width:4; stroke-opacity:1; fill:none\" points=\"\n",
       "  175.348,707.052 201.477,707.052 \n",
       "  \"/>\n",
       "<polyline clip-path=\"url(#clip240)\" style=\"stroke:#000000; stroke-width:4; stroke-opacity:1; fill:none\" points=\"\n",
       "  175.348,552.283 201.477,552.283 \n",
       "  \"/>\n",
       "<polyline clip-path=\"url(#clip240)\" style=\"stroke:#000000; stroke-width:4; stroke-opacity:1; fill:none\" points=\"\n",
       "  175.348,397.514 201.477,397.514 \n",
       "  \"/>\n",
       "<polyline clip-path=\"url(#clip240)\" style=\"stroke:#000000; stroke-width:4; stroke-opacity:1; fill:none\" points=\"\n",
       "  175.348,242.745 201.477,242.745 \n",
       "  \"/>\n",
       "<polyline clip-path=\"url(#clip240)\" style=\"stroke:#000000; stroke-width:4; stroke-opacity:1; fill:none\" points=\"\n",
       "  175.348,87.9763 201.477,87.9763 \n",
       "  \"/>\n",
       "<path clip-path=\"url(#clip240)\" d=\"M 0 0 M236.973 1508.44 Q233.362 1508.44 231.533 1512 Q229.728 1515.55 229.728 1522.67 Q229.728 1529.78 231.533 1533.35 Q233.362 1536.89 236.973 1536.89 Q240.607 1536.89 242.413 1533.35 Q244.241 1529.78 244.241 1522.67 Q244.241 1515.55 242.413 1512 Q240.607 1508.44 236.973 1508.44 M236.973 1504.73 Q242.783 1504.73 245.839 1509.34 Q248.917 1513.92 248.917 1522.67 Q248.917 1531.4 245.839 1536.01 Q242.783 1540.59 236.973 1540.59 Q231.163 1540.59 228.084 1536.01 Q225.029 1531.4 225.029 1522.67 Q225.029 1513.92 228.084 1509.34 Q231.163 1504.73 236.973 1504.73 Z\" fill=\"#000000\" fill-rule=\"evenodd\" fill-opacity=\"1\" /><path clip-path=\"url(#clip240)\" d=\"M 0 0 M292.042 1535.98 L308.361 1535.98 L308.361 1539.92 L286.417 1539.92 L286.417 1535.98 Q289.079 1533.23 293.662 1528.6 Q298.269 1523.95 299.449 1522.61 Q301.695 1520.08 302.574 1518.35 Q303.477 1516.59 303.477 1514.9 Q303.477 1512.14 301.533 1510.41 Q299.612 1508.67 296.51 1508.67 Q294.311 1508.67 291.857 1509.43 Q289.426 1510.2 286.649 1511.75 L286.649 1507.03 Q289.473 1505.89 291.926 1505.31 Q294.38 1504.73 296.417 1504.73 Q301.787 1504.73 304.982 1507.42 Q308.176 1510.11 308.176 1514.6 Q308.176 1516.73 307.366 1518.65 Q306.579 1520.54 304.473 1523.14 Q303.894 1523.81 300.792 1527.03 Q297.69 1530.22 292.042 1535.98 Z\" fill=\"#000000\" fill-rule=\"evenodd\" fill-opacity=\"1\" /><path clip-path=\"url(#clip240)\" d=\"M 0 0 M360.815 1509.43 L349.009 1527.88 L360.815 1527.88 L360.815 1509.43 M359.588 1505.36 L365.468 1505.36 L365.468 1527.88 L370.398 1527.88 L370.398 1531.77 L365.468 1531.77 L365.468 1539.92 L360.815 1539.92 L360.815 1531.77 L345.213 1531.77 L345.213 1527.26 L359.588 1505.36 Z\" fill=\"#000000\" fill-rule=\"evenodd\" fill-opacity=\"1\" /><path clip-path=\"url(#clip240)\" d=\"M 0 0 M418.627 1520.78 Q415.479 1520.78 413.627 1522.93 Q411.799 1525.08 411.799 1528.83 Q411.799 1532.56 413.627 1534.73 Q415.479 1536.89 418.627 1536.89 Q421.775 1536.89 423.604 1534.73 Q425.456 1532.56 425.456 1528.83 Q425.456 1525.08 423.604 1522.93 Q421.775 1520.78 418.627 1520.78 M427.91 1506.12 L427.91 1510.38 Q426.15 1509.55 424.345 1509.11 Q422.562 1508.67 420.803 1508.67 Q416.174 1508.67 413.72 1511.8 Q411.289 1514.92 410.942 1521.24 Q412.308 1519.23 414.368 1518.16 Q416.428 1517.07 418.905 1517.07 Q424.113 1517.07 427.123 1520.24 Q430.155 1523.39 430.155 1528.83 Q430.155 1534.16 427.007 1537.37 Q423.859 1540.59 418.627 1540.59 Q412.632 1540.59 409.461 1536.01 Q406.289 1531.4 406.289 1522.67 Q406.289 1514.48 410.178 1509.62 Q414.067 1504.73 420.618 1504.73 Q422.377 1504.73 424.16 1505.08 Q425.965 1505.43 427.91 1506.12 Z\" fill=\"#000000\" fill-rule=\"evenodd\" fill-opacity=\"1\" /><path clip-path=\"url(#clip240)\" d=\"M 0 0 M478.639 1523.51 Q475.305 1523.51 473.384 1525.29 Q471.486 1527.07 471.486 1530.2 Q471.486 1533.32 473.384 1535.11 Q475.305 1536.89 478.639 1536.89 Q481.972 1536.89 483.893 1535.11 Q485.814 1533.3 485.814 1530.2 Q485.814 1527.07 483.893 1525.29 Q481.995 1523.51 478.639 1523.51 M473.963 1521.52 Q470.953 1520.78 469.264 1518.72 Q467.597 1516.66 467.597 1513.69 Q467.597 1509.55 470.537 1507.14 Q473.5 1504.73 478.639 1504.73 Q483.801 1504.73 486.74 1507.14 Q489.68 1509.55 489.68 1513.69 Q489.68 1516.66 487.99 1518.72 Q486.324 1520.78 483.338 1521.52 Q486.717 1522.3 488.592 1524.6 Q490.49 1526.89 490.49 1530.2 Q490.49 1535.22 487.412 1537.91 Q484.356 1540.59 478.639 1540.59 Q472.921 1540.59 469.842 1537.91 Q466.787 1535.22 466.787 1530.2 Q466.787 1526.89 468.685 1524.6 Q470.583 1522.3 473.963 1521.52 M472.25 1514.13 Q472.25 1516.82 473.916 1518.32 Q475.606 1519.83 478.639 1519.83 Q481.648 1519.83 483.338 1518.32 Q485.051 1516.82 485.051 1514.13 Q485.051 1511.45 483.338 1509.94 Q481.648 1508.44 478.639 1508.44 Q475.606 1508.44 473.916 1509.94 Q472.25 1511.45 472.25 1514.13 Z\" fill=\"#000000\" fill-rule=\"evenodd\" fill-opacity=\"1\" /><path clip-path=\"url(#clip240)\" d=\"M 0 0 M515.93 1535.98 L523.569 1535.98 L523.569 1509.62 L515.259 1511.29 L515.259 1507.03 L523.523 1505.36 L528.199 1505.36 L528.199 1535.98 L535.837 1535.98 L535.837 1539.92 L515.93 1539.92 L515.93 1535.98 Z\" fill=\"#000000\" fill-rule=\"evenodd\" fill-opacity=\"1\" /><path clip-path=\"url(#clip240)\" d=\"M 0 0 M550.907 1508.44 Q547.296 1508.44 545.467 1512 Q543.661 1515.55 543.661 1522.67 Q543.661 1529.78 545.467 1533.35 Q547.296 1536.89 550.907 1536.89 Q554.541 1536.89 556.347 1533.35 Q558.175 1529.78 558.175 1522.67 Q558.175 1515.55 556.347 1512 Q554.541 1508.44 550.907 1508.44 M550.907 1504.73 Q556.717 1504.73 559.772 1509.34 Q562.851 1513.92 562.851 1522.67 Q562.851 1531.4 559.772 1536.01 Q556.717 1540.59 550.907 1540.59 Q545.097 1540.59 542.018 1536.01 Q538.962 1531.4 538.962 1522.67 Q538.962 1513.92 542.018 1509.34 Q545.097 1504.73 550.907 1504.73 Z\" fill=\"#000000\" fill-rule=\"evenodd\" fill-opacity=\"1\" /><path clip-path=\"url(#clip240)\" d=\"M 0 0 M577.145 1535.98 L584.784 1535.98 L584.784 1509.62 L576.474 1511.29 L576.474 1507.03 L584.738 1505.36 L589.414 1505.36 L589.414 1535.98 L597.052 1535.98 L597.052 1539.92 L577.145 1539.92 L577.145 1535.98 Z\" fill=\"#000000\" fill-rule=\"evenodd\" fill-opacity=\"1\" /><path clip-path=\"url(#clip240)\" d=\"M 0 0 M606.15 1535.98 L622.469 1535.98 L622.469 1539.92 L600.525 1539.92 L600.525 1535.98 Q603.187 1533.23 607.77 1528.6 Q612.376 1523.95 613.557 1522.61 Q615.802 1520.08 616.682 1518.35 Q617.585 1516.59 617.585 1514.9 Q617.585 1512.14 615.64 1510.41 Q613.719 1508.67 610.617 1508.67 Q608.418 1508.67 605.964 1509.43 Q603.534 1510.2 600.756 1511.75 L600.756 1507.03 Q603.58 1505.89 606.034 1505.31 Q608.488 1504.73 610.525 1504.73 Q615.895 1504.73 619.089 1507.42 Q622.284 1510.11 622.284 1514.6 Q622.284 1516.73 621.474 1518.65 Q620.687 1520.54 618.58 1523.14 Q618.001 1523.81 614.9 1527.03 Q611.798 1530.22 606.15 1535.98 Z\" fill=\"#000000\" fill-rule=\"evenodd\" fill-opacity=\"1\" /><path clip-path=\"url(#clip240)\" d=\"M 0 0 M636.52 1535.98 L644.159 1535.98 L644.159 1509.62 L635.849 1511.29 L635.849 1507.03 L644.112 1505.36 L648.788 1505.36 L648.788 1535.98 L656.427 1535.98 L656.427 1539.92 L636.52 1539.92 L636.52 1535.98 Z\" fill=\"#000000\" fill-rule=\"evenodd\" fill-opacity=\"1\" /><path clip-path=\"url(#clip240)\" d=\"M 0 0 M674.344 1509.43 L662.538 1527.88 L674.344 1527.88 L674.344 1509.43 M673.117 1505.36 L678.997 1505.36 L678.997 1527.88 L683.927 1527.88 L683.927 1531.77 L678.997 1531.77 L678.997 1539.92 L674.344 1539.92 L674.344 1531.77 L658.742 1531.77 L658.742 1527.26 L673.117 1505.36 Z\" fill=\"#000000\" fill-rule=\"evenodd\" fill-opacity=\"1\" /><path clip-path=\"url(#clip240)\" d=\"M 0 0 M697.098 1535.98 L704.737 1535.98 L704.737 1509.62 L696.427 1511.29 L696.427 1507.03 L704.691 1505.36 L709.367 1505.36 L709.367 1535.98 L717.006 1535.98 L717.006 1539.92 L697.098 1539.92 L697.098 1535.98 Z\" fill=\"#000000\" fill-rule=\"evenodd\" fill-opacity=\"1\" /><path clip-path=\"url(#clip240)\" d=\"M 0 0 M732.654 1520.78 Q729.506 1520.78 727.654 1522.93 Q725.825 1525.08 725.825 1528.83 Q725.825 1532.56 727.654 1534.73 Q729.506 1536.89 732.654 1536.89 Q735.802 1536.89 737.631 1534.73 Q739.482 1532.56 739.482 1528.83 Q739.482 1525.08 737.631 1522.93 Q735.802 1520.78 732.654 1520.78 M741.936 1506.12 L741.936 1510.38 Q740.177 1509.55 738.371 1509.11 Q736.589 1508.67 734.83 1508.67 Q730.2 1508.67 727.746 1511.8 Q725.316 1514.92 724.969 1521.24 Q726.334 1519.23 728.394 1518.16 Q730.455 1517.07 732.931 1517.07 Q738.14 1517.07 741.149 1520.24 Q744.181 1523.39 744.181 1528.83 Q744.181 1534.16 741.033 1537.37 Q737.885 1540.59 732.654 1540.59 Q726.658 1540.59 723.487 1536.01 Q720.316 1531.4 720.316 1522.67 Q720.316 1514.48 724.205 1509.62 Q728.094 1504.73 734.644 1504.73 Q736.404 1504.73 738.186 1505.08 Q739.992 1505.43 741.936 1506.12 Z\" fill=\"#000000\" fill-rule=\"evenodd\" fill-opacity=\"1\" /><path clip-path=\"url(#clip240)\" d=\"M 0 0 M757.642 1535.98 L765.281 1535.98 L765.281 1509.62 L756.971 1511.29 L756.971 1507.03 L765.235 1505.36 L769.911 1505.36 L769.911 1535.98 L777.549 1535.98 L777.549 1539.92 L757.642 1539.92 L757.642 1535.98 Z\" fill=\"#000000\" fill-rule=\"evenodd\" fill-opacity=\"1\" /><path clip-path=\"url(#clip240)\" d=\"M 0 0 M792.619 1523.51 Q789.285 1523.51 787.364 1525.29 Q785.466 1527.07 785.466 1530.2 Q785.466 1533.32 787.364 1535.11 Q789.285 1536.89 792.619 1536.89 Q795.952 1536.89 797.873 1535.11 Q799.795 1533.3 799.795 1530.2 Q799.795 1527.07 797.873 1525.29 Q795.975 1523.51 792.619 1523.51 M787.943 1521.52 Q784.934 1520.78 783.244 1518.72 Q781.577 1516.66 781.577 1513.69 Q781.577 1509.55 784.517 1507.14 Q787.48 1504.73 792.619 1504.73 Q797.781 1504.73 800.721 1507.14 Q803.66 1509.55 803.66 1513.69 Q803.66 1516.66 801.971 1518.72 Q800.304 1520.78 797.318 1521.52 Q800.697 1522.3 802.572 1524.6 Q804.471 1526.89 804.471 1530.2 Q804.471 1535.22 801.392 1537.91 Q798.336 1540.59 792.619 1540.59 Q786.901 1540.59 783.822 1537.91 Q780.767 1535.22 780.767 1530.2 Q780.767 1526.89 782.665 1524.6 Q784.563 1522.3 787.943 1521.52 M786.23 1514.13 Q786.23 1516.82 787.897 1518.32 Q789.586 1519.83 792.619 1519.83 Q795.628 1519.83 797.318 1518.32 Q799.031 1516.82 799.031 1514.13 Q799.031 1511.45 797.318 1509.94 Q795.628 1508.44 792.619 1508.44 Q789.586 1508.44 787.897 1509.94 Q786.23 1511.45 786.23 1514.13 Z\" fill=\"#000000\" fill-rule=\"evenodd\" fill-opacity=\"1\" /><path clip-path=\"url(#clip240)\" d=\"M 0 0 M822.283 1535.98 L838.602 1535.98 L838.602 1539.92 L816.658 1539.92 L816.658 1535.98 Q819.32 1533.23 823.903 1528.6 Q828.51 1523.95 829.69 1522.61 Q831.936 1520.08 832.815 1518.35 Q833.718 1516.59 833.718 1514.9 Q833.718 1512.14 831.774 1510.41 Q829.852 1508.67 826.751 1508.67 Q824.552 1508.67 822.098 1509.43 Q819.667 1510.2 816.89 1511.75 L816.89 1507.03 Q819.714 1505.89 822.167 1505.31 Q824.621 1504.73 826.658 1504.73 Q832.028 1504.73 835.223 1507.42 Q838.417 1510.11 838.417 1514.6 Q838.417 1516.73 837.607 1518.65 Q836.82 1520.54 834.714 1523.14 Q834.135 1523.81 831.033 1527.03 Q827.931 1530.22 822.283 1535.98 Z\" fill=\"#000000\" fill-rule=\"evenodd\" fill-opacity=\"1\" /><path clip-path=\"url(#clip240)\" d=\"M 0 0 M853.672 1508.44 Q850.061 1508.44 848.232 1512 Q846.426 1515.55 846.426 1522.67 Q846.426 1529.78 848.232 1533.35 Q850.061 1536.89 853.672 1536.89 Q857.306 1536.89 859.112 1533.35 Q860.94 1529.78 860.94 1522.67 Q860.94 1515.55 859.112 1512 Q857.306 1508.44 853.672 1508.44 M853.672 1504.73 Q859.482 1504.73 862.537 1509.34 Q865.616 1513.92 865.616 1522.67 Q865.616 1531.4 862.537 1536.01 Q859.482 1540.59 853.672 1540.59 Q847.862 1540.59 844.783 1536.01 Q841.727 1531.4 841.727 1522.67 Q841.727 1513.92 844.783 1509.34 Q847.862 1504.73 853.672 1504.73 Z\" fill=\"#000000\" fill-rule=\"evenodd\" fill-opacity=\"1\" /><path clip-path=\"url(#clip240)\" d=\"M 0 0 M883.498 1535.98 L899.817 1535.98 L899.817 1539.92 L877.873 1539.92 L877.873 1535.98 Q880.535 1533.23 885.118 1528.6 Q889.725 1523.95 890.905 1522.61 Q893.151 1520.08 894.03 1518.35 Q894.933 1516.59 894.933 1514.9 Q894.933 1512.14 892.989 1510.41 Q891.067 1508.67 887.966 1508.67 Q885.767 1508.67 883.313 1509.43 Q880.882 1510.2 878.105 1511.75 L878.105 1507.03 Q880.929 1505.89 883.382 1505.31 Q885.836 1504.73 887.873 1504.73 Q893.243 1504.73 896.438 1507.42 Q899.632 1510.11 899.632 1514.6 Q899.632 1516.73 898.822 1518.65 Q898.035 1520.54 895.929 1523.14 Q895.35 1523.81 892.248 1527.03 Q889.146 1530.22 883.498 1535.98 Z\" fill=\"#000000\" fill-rule=\"evenodd\" fill-opacity=\"1\" /><path clip-path=\"url(#clip240)\" d=\"M 0 0 M908.915 1535.98 L925.234 1535.98 L925.234 1539.92 L903.29 1539.92 L903.29 1535.98 Q905.952 1533.23 910.535 1528.6 Q915.141 1523.95 916.322 1522.61 Q918.567 1520.08 919.447 1518.35 Q920.35 1516.59 920.35 1514.9 Q920.35 1512.14 918.405 1510.41 Q916.484 1508.67 913.382 1508.67 Q911.183 1508.67 908.729 1509.43 Q906.299 1510.2 903.521 1511.75 L903.521 1507.03 Q906.345 1505.89 908.799 1505.31 Q911.253 1504.73 913.29 1504.73 Q918.66 1504.73 921.854 1507.42 Q925.049 1510.11 925.049 1514.6 Q925.049 1516.73 924.239 1518.65 Q923.452 1520.54 921.345 1523.14 Q920.766 1523.81 917.665 1527.03 Q914.563 1530.22 908.915 1535.98 Z\" fill=\"#000000\" fill-rule=\"evenodd\" fill-opacity=\"1\" /><path clip-path=\"url(#clip240)\" d=\"M 0 0 M942.873 1535.98 L959.192 1535.98 L959.192 1539.92 L937.248 1539.92 L937.248 1535.98 Q939.91 1533.23 944.493 1528.6 Q949.1 1523.95 950.28 1522.61 Q952.526 1520.08 953.405 1518.35 Q954.308 1516.59 954.308 1514.9 Q954.308 1512.14 952.363 1510.41 Q950.442 1508.67 947.34 1508.67 Q945.141 1508.67 942.688 1509.43 Q940.257 1510.2 937.479 1511.75 L937.479 1507.03 Q940.303 1505.89 942.757 1505.31 Q945.211 1504.73 947.248 1504.73 Q952.618 1504.73 955.813 1507.42 Q959.007 1510.11 959.007 1514.6 Q959.007 1516.73 958.197 1518.65 Q957.41 1520.54 955.303 1523.14 Q954.725 1523.81 951.623 1527.03 Q948.521 1530.22 942.873 1535.98 Z\" fill=\"#000000\" fill-rule=\"evenodd\" fill-opacity=\"1\" /><path clip-path=\"url(#clip240)\" d=\"M 0 0 M977.109 1509.43 L965.303 1527.88 L977.109 1527.88 L977.109 1509.43 M975.882 1505.36 L981.761 1505.36 L981.761 1527.88 L986.692 1527.88 L986.692 1531.77 L981.761 1531.77 L981.761 1539.92 L977.109 1539.92 L977.109 1531.77 L961.507 1531.77 L961.507 1527.26 L975.882 1505.36 Z\" fill=\"#000000\" fill-rule=\"evenodd\" fill-opacity=\"1\" /><path clip-path=\"url(#clip240)\" d=\"M 0 0 M1003.45 1535.98 L1019.77 1535.98 L1019.77 1539.92 L997.826 1539.92 L997.826 1535.98 Q1000.49 1533.23 1005.07 1528.6 Q1009.68 1523.95 1010.86 1522.61 Q1013.1 1520.08 1013.98 1518.35 Q1014.89 1516.59 1014.89 1514.9 Q1014.89 1512.14 1012.94 1510.41 Q1011.02 1508.67 1007.92 1508.67 Q1005.72 1508.67 1003.27 1509.43 Q1000.84 1510.2 998.058 1511.75 L998.058 1507.03 Q1000.88 1505.89 1003.34 1505.31 Q1005.79 1504.73 1007.83 1504.73 Q1013.2 1504.73 1016.39 1507.42 Q1019.59 1510.11 1019.59 1514.6 Q1019.59 1516.73 1018.78 1518.65 Q1017.99 1520.54 1015.88 1523.14 Q1015.3 1523.81 1012.2 1527.03 Q1009.1 1530.22 1003.45 1535.98 Z\" fill=\"#000000\" fill-rule=\"evenodd\" fill-opacity=\"1\" /><path clip-path=\"url(#clip240)\" d=\"M 0 0 M1035.42 1520.78 Q1032.27 1520.78 1030.42 1522.93 Q1028.59 1525.08 1028.59 1528.83 Q1028.59 1532.56 1030.42 1534.73 Q1032.27 1536.89 1035.42 1536.89 Q1038.57 1536.89 1040.4 1534.73 Q1042.25 1532.56 1042.25 1528.83 Q1042.25 1525.08 1040.4 1522.93 Q1038.57 1520.78 1035.42 1520.78 M1044.7 1506.12 L1044.7 1510.38 Q1042.94 1509.55 1041.14 1509.11 Q1039.35 1508.67 1037.59 1508.67 Q1032.96 1508.67 1030.51 1511.8 Q1028.08 1514.92 1027.73 1521.24 Q1029.1 1519.23 1031.16 1518.16 Q1033.22 1517.07 1035.7 1517.07 Q1040.9 1517.07 1043.91 1520.24 Q1046.95 1523.39 1046.95 1528.83 Q1046.95 1534.16 1043.8 1537.37 Q1040.65 1540.59 1035.42 1540.59 Q1029.42 1540.59 1026.25 1536.01 Q1023.08 1531.4 1023.08 1522.67 Q1023.08 1514.48 1026.97 1509.62 Q1030.86 1504.73 1037.41 1504.73 Q1039.17 1504.73 1040.95 1505.08 Q1042.76 1505.43 1044.7 1506.12 Z\" fill=\"#000000\" fill-rule=\"evenodd\" fill-opacity=\"1\" /><path clip-path=\"url(#clip240)\" d=\"M 0 0 M1063.99 1535.98 L1080.31 1535.98 L1080.31 1539.92 L1058.37 1539.92 L1058.37 1535.98 Q1061.03 1533.23 1065.62 1528.6 Q1070.22 1523.95 1071.4 1522.61 Q1073.65 1520.08 1074.53 1518.35 Q1075.43 1516.59 1075.43 1514.9 Q1075.43 1512.14 1073.49 1510.41 Q1071.56 1508.67 1068.46 1508.67 Q1066.26 1508.67 1063.81 1509.43 Q1061.38 1510.2 1058.6 1511.75 L1058.6 1507.03 Q1061.43 1505.89 1063.88 1505.31 Q1066.33 1504.73 1068.37 1504.73 Q1073.74 1504.73 1076.93 1507.42 Q1080.13 1510.11 1080.13 1514.6 Q1080.13 1516.73 1079.32 1518.65 Q1078.53 1520.54 1076.43 1523.14 Q1075.85 1523.81 1072.74 1527.03 Q1069.64 1530.22 1063.99 1535.98 Z\" fill=\"#000000\" fill-rule=\"evenodd\" fill-opacity=\"1\" /><path clip-path=\"url(#clip240)\" d=\"M 0 0 M1095.38 1523.51 Q1092.05 1523.51 1090.13 1525.29 Q1088.23 1527.07 1088.23 1530.2 Q1088.23 1533.32 1090.13 1535.11 Q1092.05 1536.89 1095.38 1536.89 Q1098.72 1536.89 1100.64 1535.11 Q1102.56 1533.3 1102.56 1530.2 Q1102.56 1527.07 1100.64 1525.29 Q1098.74 1523.51 1095.38 1523.51 M1090.71 1521.52 Q1087.7 1520.78 1086.01 1518.72 Q1084.34 1516.66 1084.34 1513.69 Q1084.34 1509.55 1087.28 1507.14 Q1090.24 1504.73 1095.38 1504.73 Q1100.55 1504.73 1103.49 1507.14 Q1106.43 1509.55 1106.43 1513.69 Q1106.43 1516.66 1104.74 1518.72 Q1103.07 1520.78 1100.08 1521.52 Q1103.46 1522.3 1105.34 1524.6 Q1107.24 1526.89 1107.24 1530.2 Q1107.24 1535.22 1104.16 1537.91 Q1101.1 1540.59 1095.38 1540.59 Q1089.67 1540.59 1086.59 1537.91 Q1083.53 1535.22 1083.53 1530.2 Q1083.53 1526.89 1085.43 1524.6 Q1087.33 1522.3 1090.71 1521.52 M1088.99 1514.13 Q1088.99 1516.82 1090.66 1518.32 Q1092.35 1519.83 1095.38 1519.83 Q1098.39 1519.83 1100.08 1518.32 Q1101.8 1516.82 1101.8 1514.13 Q1101.8 1511.45 1100.08 1509.94 Q1098.39 1508.44 1095.38 1508.44 Q1092.35 1508.44 1090.66 1509.94 Q1088.99 1511.45 1088.99 1514.13 Z\" fill=\"#000000\" fill-rule=\"evenodd\" fill-opacity=\"1\" /><path clip-path=\"url(#clip240)\" d=\"M 0 0 M1133.96 1521.29 Q1137.32 1522 1139.19 1524.27 Q1141.09 1526.54 1141.09 1529.87 Q1141.09 1534.99 1137.57 1537.79 Q1134.05 1540.59 1127.57 1540.59 Q1125.4 1540.59 1123.08 1540.15 Q1120.79 1539.73 1118.34 1538.88 L1118.34 1534.36 Q1120.28 1535.5 1122.59 1536.08 Q1124.91 1536.66 1127.43 1536.66 Q1131.83 1536.66 1134.12 1534.92 Q1136.44 1533.18 1136.44 1529.87 Q1136.44 1526.82 1134.28 1525.11 Q1132.15 1523.37 1128.34 1523.37 L1124.31 1523.37 L1124.31 1519.53 L1128.52 1519.53 Q1131.97 1519.53 1133.8 1518.16 Q1135.63 1516.77 1135.63 1514.18 Q1135.63 1511.52 1133.73 1510.11 Q1131.85 1508.67 1128.34 1508.67 Q1126.41 1508.67 1124.21 1509.09 Q1122.02 1509.5 1119.38 1510.38 L1119.38 1506.22 Q1122.04 1505.48 1124.35 1505.11 Q1126.69 1504.73 1128.75 1504.73 Q1134.08 1504.73 1137.18 1507.17 Q1140.28 1509.57 1140.28 1513.69 Q1140.28 1516.56 1138.64 1518.55 Q1136.99 1520.52 1133.96 1521.29 Z\" fill=\"#000000\" fill-rule=\"evenodd\" fill-opacity=\"1\" /><path clip-path=\"url(#clip240)\" d=\"M 0 0 M1156.16 1508.44 Q1152.55 1508.44 1150.72 1512 Q1148.91 1515.55 1148.91 1522.67 Q1148.91 1529.78 1150.72 1533.35 Q1152.55 1536.89 1156.16 1536.89 Q1159.79 1536.89 1161.6 1533.35 Q1163.43 1529.78 1163.43 1522.67 Q1163.43 1515.55 1161.6 1512 Q1159.79 1508.44 1156.16 1508.44 M1156.16 1504.73 Q1161.97 1504.73 1165.02 1509.34 Q1168.1 1513.92 1168.1 1522.67 Q1168.1 1531.4 1165.02 1536.01 Q1161.97 1540.59 1156.16 1540.59 Q1150.35 1540.59 1147.27 1536.01 Q1144.21 1531.4 1144.21 1522.67 Q1144.21 1513.92 1147.27 1509.34 Q1150.35 1504.73 1156.16 1504.73 Z\" fill=\"#000000\" fill-rule=\"evenodd\" fill-opacity=\"1\" /><path clip-path=\"url(#clip240)\" d=\"M 0 0 M1195.17 1521.29 Q1198.53 1522 1200.41 1524.27 Q1202.3 1526.54 1202.3 1529.87 Q1202.3 1534.99 1198.79 1537.79 Q1195.27 1540.59 1188.79 1540.59 Q1186.61 1540.59 1184.3 1540.15 Q1182 1539.73 1179.55 1538.88 L1179.55 1534.36 Q1181.49 1535.5 1183.81 1536.08 Q1186.12 1536.66 1188.65 1536.66 Q1193.05 1536.66 1195.34 1534.92 Q1197.65 1533.18 1197.65 1529.87 Q1197.65 1526.82 1195.5 1525.11 Q1193.37 1523.37 1189.55 1523.37 L1185.52 1523.37 L1185.52 1519.53 L1189.74 1519.53 Q1193.18 1519.53 1195.01 1518.16 Q1196.84 1516.77 1196.84 1514.18 Q1196.84 1511.52 1194.94 1510.11 Q1193.07 1508.67 1189.55 1508.67 Q1187.63 1508.67 1185.43 1509.09 Q1183.23 1509.5 1180.59 1510.38 L1180.59 1506.22 Q1183.25 1505.48 1185.57 1505.11 Q1187.91 1504.73 1189.97 1504.73 Q1195.29 1504.73 1198.39 1507.17 Q1201.49 1509.57 1201.49 1513.69 Q1201.49 1516.56 1199.85 1518.55 Q1198.21 1520.52 1195.17 1521.29 Z\" fill=\"#000000\" fill-rule=\"evenodd\" fill-opacity=\"1\" /><path clip-path=\"url(#clip240)\" d=\"M 0 0 M1211.4 1535.98 L1227.72 1535.98 L1227.72 1539.92 L1205.78 1539.92 L1205.78 1535.98 Q1208.44 1533.23 1213.02 1528.6 Q1217.63 1523.95 1218.81 1522.61 Q1221.05 1520.08 1221.93 1518.35 Q1222.84 1516.59 1222.84 1514.9 Q1222.84 1512.14 1220.89 1510.41 Q1218.97 1508.67 1215.87 1508.67 Q1213.67 1508.67 1211.22 1509.43 Q1208.79 1510.2 1206.01 1511.75 L1206.01 1507.03 Q1208.83 1505.89 1211.29 1505.31 Q1213.74 1504.73 1215.78 1504.73 Q1221.15 1504.73 1224.34 1507.42 Q1227.54 1510.11 1227.54 1514.6 Q1227.54 1516.73 1226.73 1518.65 Q1225.94 1520.54 1223.83 1523.14 Q1223.25 1523.81 1220.15 1527.03 Q1217.05 1530.22 1211.4 1535.98 Z\" fill=\"#000000\" fill-rule=\"evenodd\" fill-opacity=\"1\" /><path clip-path=\"url(#clip240)\" d=\"M 0 0 M1254.55 1521.29 Q1257.91 1522 1259.78 1524.27 Q1261.68 1526.54 1261.68 1529.87 Q1261.68 1534.99 1258.16 1537.79 Q1254.64 1540.59 1248.16 1540.59 Q1245.98 1540.59 1243.67 1540.15 Q1241.38 1539.73 1238.92 1538.88 L1238.92 1534.36 Q1240.87 1535.5 1243.18 1536.08 Q1245.5 1536.66 1248.02 1536.66 Q1252.42 1536.66 1254.71 1534.92 Q1257.03 1533.18 1257.03 1529.87 Q1257.03 1526.82 1254.87 1525.11 Q1252.74 1523.37 1248.92 1523.37 L1244.9 1523.37 L1244.9 1519.53 L1249.11 1519.53 Q1252.56 1519.53 1254.39 1518.16 Q1256.22 1516.77 1256.22 1514.18 Q1256.22 1511.52 1254.32 1510.11 Q1252.44 1508.67 1248.92 1508.67 Q1247 1508.67 1244.8 1509.09 Q1242.61 1509.5 1239.97 1510.38 L1239.97 1506.22 Q1242.63 1505.48 1244.94 1505.11 Q1247.28 1504.73 1249.34 1504.73 Q1254.67 1504.73 1257.77 1507.17 Q1260.87 1509.57 1260.87 1513.69 Q1260.87 1516.56 1259.23 1518.55 Q1257.58 1520.52 1254.55 1521.29 Z\" fill=\"#000000\" fill-rule=\"evenodd\" fill-opacity=\"1\" /><path clip-path=\"url(#clip240)\" d=\"M 0 0 M1279.6 1509.43 L1267.79 1527.88 L1279.6 1527.88 L1279.6 1509.43 M1278.37 1505.36 L1284.25 1505.36 L1284.25 1527.88 L1289.18 1527.88 L1289.18 1531.77 L1284.25 1531.77 L1284.25 1539.92 L1279.6 1539.92 L1279.6 1531.77 L1263.99 1531.77 L1263.99 1527.26 L1278.37 1505.36 Z\" fill=\"#000000\" fill-rule=\"evenodd\" fill-opacity=\"1\" /><path clip-path=\"url(#clip240)\" d=\"M 0 0 M1315.13 1521.29 Q1318.48 1522 1320.36 1524.27 Q1322.26 1526.54 1322.26 1529.87 Q1322.26 1534.99 1318.74 1537.79 Q1315.22 1540.59 1308.74 1540.59 Q1306.56 1540.59 1304.25 1540.15 Q1301.96 1539.73 1299.5 1538.88 L1299.5 1534.36 Q1301.45 1535.5 1303.76 1536.08 Q1306.08 1536.66 1308.6 1536.66 Q1313 1536.66 1315.29 1534.92 Q1317.61 1533.18 1317.61 1529.87 Q1317.61 1526.82 1315.45 1525.11 Q1313.32 1523.37 1309.5 1523.37 L1305.48 1523.37 L1305.48 1519.53 L1309.69 1519.53 Q1313.14 1519.53 1314.97 1518.16 Q1316.79 1516.77 1316.79 1514.18 Q1316.79 1511.52 1314.9 1510.11 Q1313.02 1508.67 1309.5 1508.67 Q1307.58 1508.67 1305.38 1509.09 Q1303.18 1509.5 1300.54 1510.38 L1300.54 1506.22 Q1303.21 1505.48 1305.52 1505.11 Q1307.86 1504.73 1309.92 1504.73 Q1315.24 1504.73 1318.35 1507.17 Q1321.45 1509.57 1321.45 1513.69 Q1321.45 1516.56 1319.8 1518.55 Q1318.16 1520.52 1315.13 1521.29 Z\" fill=\"#000000\" fill-rule=\"evenodd\" fill-opacity=\"1\" /><path clip-path=\"url(#clip240)\" d=\"M 0 0 M1337.91 1520.78 Q1334.76 1520.78 1332.91 1522.93 Q1331.08 1525.08 1331.08 1528.83 Q1331.08 1532.56 1332.91 1534.73 Q1334.76 1536.89 1337.91 1536.89 Q1341.05 1536.89 1342.88 1534.73 Q1344.73 1532.56 1344.73 1528.83 Q1344.73 1525.08 1342.88 1522.93 Q1341.05 1520.78 1337.91 1520.78 M1347.19 1506.12 L1347.19 1510.38 Q1345.43 1509.55 1343.62 1509.11 Q1341.84 1508.67 1340.08 1508.67 Q1335.45 1508.67 1333 1511.8 Q1330.57 1514.92 1330.22 1521.24 Q1331.59 1519.23 1333.65 1518.16 Q1335.71 1517.07 1338.18 1517.07 Q1343.39 1517.07 1346.4 1520.24 Q1349.43 1523.39 1349.43 1528.83 Q1349.43 1534.16 1346.29 1537.37 Q1343.14 1540.59 1337.91 1540.59 Q1331.91 1540.59 1328.74 1536.01 Q1325.57 1531.4 1325.57 1522.67 Q1325.57 1514.48 1329.46 1509.62 Q1333.35 1504.73 1339.9 1504.73 Q1341.66 1504.73 1343.44 1505.08 Q1345.24 1505.43 1347.19 1506.12 Z\" fill=\"#000000\" fill-rule=\"evenodd\" fill-opacity=\"1\" /><path clip-path=\"url(#clip240)\" d=\"M 0 0 M1375.67 1521.29 Q1379.03 1522 1380.9 1524.27 Q1382.8 1526.54 1382.8 1529.87 Q1382.8 1534.99 1379.28 1537.79 Q1375.76 1540.59 1369.28 1540.59 Q1367.11 1540.59 1364.79 1540.15 Q1362.5 1539.73 1360.05 1538.88 L1360.05 1534.36 Q1361.99 1535.5 1364.31 1536.08 Q1366.62 1536.66 1369.14 1536.66 Q1373.54 1536.66 1375.83 1534.92 Q1378.15 1533.18 1378.15 1529.87 Q1378.15 1526.82 1376 1525.11 Q1373.87 1523.37 1370.05 1523.37 L1366.02 1523.37 L1366.02 1519.53 L1370.23 1519.53 Q1373.68 1519.53 1375.51 1518.16 Q1377.34 1516.77 1377.34 1514.18 Q1377.34 1511.52 1375.44 1510.11 Q1373.57 1508.67 1370.05 1508.67 Q1368.13 1508.67 1365.93 1509.09 Q1363.73 1509.5 1361.09 1510.38 L1361.09 1506.22 Q1363.75 1505.48 1366.07 1505.11 Q1368.4 1504.73 1370.46 1504.73 Q1375.79 1504.73 1378.89 1507.17 Q1381.99 1509.57 1381.99 1513.69 Q1381.99 1516.56 1380.35 1518.55 Q1378.7 1520.52 1375.67 1521.29 Z\" fill=\"#000000\" fill-rule=\"evenodd\" fill-opacity=\"1\" /><path clip-path=\"url(#clip240)\" d=\"M 0 0 M1397.87 1523.51 Q1394.54 1523.51 1392.62 1525.29 Q1390.72 1527.07 1390.72 1530.2 Q1390.72 1533.32 1392.62 1535.11 Q1394.54 1536.89 1397.87 1536.89 Q1401.2 1536.89 1403.13 1535.11 Q1405.05 1533.3 1405.05 1530.2 Q1405.05 1527.07 1403.13 1525.29 Q1401.23 1523.51 1397.87 1523.51 M1393.2 1521.52 Q1390.19 1520.78 1388.5 1518.72 Q1386.83 1516.66 1386.83 1513.69 Q1386.83 1509.55 1389.77 1507.14 Q1392.73 1504.73 1397.87 1504.73 Q1403.03 1504.73 1405.97 1507.14 Q1408.91 1509.55 1408.91 1513.69 Q1408.91 1516.66 1407.22 1518.72 Q1405.56 1520.78 1402.57 1521.52 Q1405.95 1522.3 1407.82 1524.6 Q1409.72 1526.89 1409.72 1530.2 Q1409.72 1535.22 1406.64 1537.91 Q1403.59 1540.59 1397.87 1540.59 Q1392.15 1540.59 1389.07 1537.91 Q1386.02 1535.22 1386.02 1530.2 Q1386.02 1526.89 1387.92 1524.6 Q1389.82 1522.3 1393.2 1521.52 M1391.48 1514.13 Q1391.48 1516.82 1393.15 1518.32 Q1394.84 1519.83 1397.87 1519.83 Q1400.88 1519.83 1402.57 1518.32 Q1404.28 1516.82 1404.28 1514.13 Q1404.28 1511.45 1402.57 1509.94 Q1400.88 1508.44 1397.87 1508.44 Q1394.84 1508.44 1393.15 1509.94 Q1391.48 1511.45 1391.48 1514.13 Z\" fill=\"#000000\" fill-rule=\"evenodd\" fill-opacity=\"1\" /><path clip-path=\"url(#clip240)\" d=\"M 0 0 M1434.8 1509.43 L1423 1527.88 L1434.8 1527.88 L1434.8 1509.43 M1433.58 1505.36 L1439.46 1505.36 L1439.46 1527.88 L1444.39 1527.88 L1444.39 1531.77 L1439.46 1531.77 L1439.46 1539.92 L1434.8 1539.92 L1434.8 1531.77 L1419.2 1531.77 L1419.2 1527.26 L1433.58 1505.36 Z\" fill=\"#000000\" fill-rule=\"evenodd\" fill-opacity=\"1\" /><path clip-path=\"url(#clip240)\" d=\"M 0 0 M1459.46 1508.44 Q1455.85 1508.44 1454.02 1512 Q1452.21 1515.55 1452.21 1522.67 Q1452.21 1529.78 1454.02 1533.35 Q1455.85 1536.89 1459.46 1536.89 Q1463.09 1536.89 1464.9 1533.35 Q1466.72 1529.78 1466.72 1522.67 Q1466.72 1515.55 1464.9 1512 Q1463.09 1508.44 1459.46 1508.44 M1459.46 1504.73 Q1465.27 1504.73 1468.32 1509.34 Q1471.4 1513.92 1471.4 1522.67 Q1471.4 1531.4 1468.32 1536.01 Q1465.27 1540.59 1459.46 1540.59 Q1453.65 1540.59 1450.57 1536.01 Q1447.51 1531.4 1447.51 1522.67 Q1447.51 1513.92 1450.57 1509.34 Q1453.65 1504.73 1459.46 1504.73 Z\" fill=\"#000000\" fill-rule=\"evenodd\" fill-opacity=\"1\" /><path clip-path=\"url(#clip240)\" d=\"M 0 0 M1496.02 1509.43 L1484.21 1527.88 L1496.02 1527.88 L1496.02 1509.43 M1494.79 1505.36 L1500.67 1505.36 L1500.67 1527.88 L1505.6 1527.88 L1505.6 1531.77 L1500.67 1531.77 L1500.67 1539.92 L1496.02 1539.92 L1496.02 1531.77 L1480.42 1531.77 L1480.42 1527.26 L1494.79 1505.36 Z\" fill=\"#000000\" fill-rule=\"evenodd\" fill-opacity=\"1\" /><path clip-path=\"url(#clip240)\" d=\"M 0 0 M1514.7 1535.98 L1531.02 1535.98 L1531.02 1539.92 L1509.07 1539.92 L1509.07 1535.98 Q1511.74 1533.23 1516.32 1528.6 Q1520.93 1523.95 1522.11 1522.61 Q1524.35 1520.08 1525.23 1518.35 Q1526.13 1516.59 1526.13 1514.9 Q1526.13 1512.14 1524.19 1510.41 Q1522.27 1508.67 1519.17 1508.67 Q1516.97 1508.67 1514.51 1509.43 Q1512.08 1510.2 1509.31 1511.75 L1509.31 1507.03 Q1512.13 1505.89 1514.58 1505.31 Q1517.04 1504.73 1519.07 1504.73 Q1524.44 1504.73 1527.64 1507.42 Q1530.83 1510.11 1530.83 1514.6 Q1530.83 1516.73 1530.02 1518.65 Q1529.24 1520.54 1527.13 1523.14 Q1526.55 1523.81 1523.45 1527.03 Q1520.35 1530.22 1514.7 1535.98 Z\" fill=\"#000000\" fill-rule=\"evenodd\" fill-opacity=\"1\" /><path clip-path=\"url(#clip240)\" d=\"M 0 0 M1555.39 1509.43 L1543.59 1527.88 L1555.39 1527.88 L1555.39 1509.43 M1554.17 1505.36 L1560.05 1505.36 L1560.05 1527.88 L1564.98 1527.88 L1564.98 1531.77 L1560.05 1531.77 L1560.05 1539.92 L1555.39 1539.92 L1555.39 1531.77 L1539.79 1531.77 L1539.79 1527.26 L1554.17 1505.36 Z\" fill=\"#000000\" fill-rule=\"evenodd\" fill-opacity=\"1\" /><path clip-path=\"url(#clip240)\" d=\"M 0 0 M1582.89 1509.43 L1571.09 1527.88 L1582.89 1527.88 L1582.89 1509.43 M1581.67 1505.36 L1587.55 1505.36 L1587.55 1527.88 L1592.48 1527.88 L1592.48 1531.77 L1587.55 1531.77 L1587.55 1539.92 L1582.89 1539.92 L1582.89 1531.77 L1567.29 1531.77 L1567.29 1527.26 L1581.67 1505.36 Z\" fill=\"#000000\" fill-rule=\"evenodd\" fill-opacity=\"1\" /><path clip-path=\"url(#clip240)\" d=\"M 0 0 M1615.97 1509.43 L1604.17 1527.88 L1615.97 1527.88 L1615.97 1509.43 M1614.75 1505.36 L1620.62 1505.36 L1620.62 1527.88 L1625.56 1527.88 L1625.56 1531.77 L1620.62 1531.77 L1620.62 1539.92 L1615.97 1539.92 L1615.97 1531.77 L1600.37 1531.77 L1600.37 1527.26 L1614.75 1505.36 Z\" fill=\"#000000\" fill-rule=\"evenodd\" fill-opacity=\"1\" /><path clip-path=\"url(#clip240)\" d=\"M 0 0 M1641.2 1520.78 Q1638.06 1520.78 1636.2 1522.93 Q1634.37 1525.08 1634.37 1528.83 Q1634.37 1532.56 1636.2 1534.73 Q1638.06 1536.89 1641.2 1536.89 Q1644.35 1536.89 1646.18 1534.73 Q1648.03 1532.56 1648.03 1528.83 Q1648.03 1525.08 1646.18 1522.93 Q1644.35 1520.78 1641.2 1520.78 M1650.49 1506.12 L1650.49 1510.38 Q1648.73 1509.55 1646.92 1509.11 Q1645.14 1508.67 1643.38 1508.67 Q1638.75 1508.67 1636.3 1511.8 Q1633.87 1514.92 1633.52 1521.24 Q1634.88 1519.23 1636.94 1518.16 Q1639 1517.07 1641.48 1517.07 Q1646.69 1517.07 1649.7 1520.24 Q1652.73 1523.39 1652.73 1528.83 Q1652.73 1534.16 1649.58 1537.37 Q1646.43 1540.59 1641.2 1540.59 Q1635.21 1540.59 1632.04 1536.01 Q1628.87 1531.4 1628.87 1522.67 Q1628.87 1514.48 1632.75 1509.62 Q1636.64 1504.73 1643.19 1504.73 Q1644.95 1504.73 1646.74 1505.08 Q1648.54 1505.43 1650.49 1506.12 Z\" fill=\"#000000\" fill-rule=\"evenodd\" fill-opacity=\"1\" /><path clip-path=\"url(#clip240)\" d=\"M 0 0 M1676.52 1509.43 L1664.71 1527.88 L1676.52 1527.88 L1676.52 1509.43 M1675.29 1505.36 L1681.17 1505.36 L1681.17 1527.88 L1686.1 1527.88 L1686.1 1531.77 L1681.17 1531.77 L1681.17 1539.92 L1676.52 1539.92 L1676.52 1531.77 L1660.91 1531.77 L1660.91 1527.26 L1675.29 1505.36 Z\" fill=\"#000000\" fill-rule=\"evenodd\" fill-opacity=\"1\" /><path clip-path=\"url(#clip240)\" d=\"M 0 0 M1701.17 1523.51 Q1697.83 1523.51 1695.91 1525.29 Q1694.02 1527.07 1694.02 1530.2 Q1694.02 1533.32 1695.91 1535.11 Q1697.83 1536.89 1701.17 1536.89 Q1704.5 1536.89 1706.42 1535.11 Q1708.34 1533.3 1708.34 1530.2 Q1708.34 1527.07 1706.42 1525.29 Q1704.52 1523.51 1701.17 1523.51 M1696.49 1521.52 Q1693.48 1520.78 1691.79 1518.72 Q1690.13 1516.66 1690.13 1513.69 Q1690.13 1509.55 1693.07 1507.14 Q1696.03 1504.73 1701.17 1504.73 Q1706.33 1504.73 1709.27 1507.14 Q1712.21 1509.55 1712.21 1513.69 Q1712.21 1516.66 1710.52 1518.72 Q1708.85 1520.78 1705.87 1521.52 Q1709.25 1522.3 1711.12 1524.6 Q1713.02 1526.89 1713.02 1530.2 Q1713.02 1535.22 1709.94 1537.91 Q1706.89 1540.59 1701.17 1540.59 Q1695.45 1540.59 1692.37 1537.91 Q1689.32 1535.22 1689.32 1530.2 Q1689.32 1526.89 1691.21 1524.6 Q1693.11 1522.3 1696.49 1521.52 M1694.78 1514.13 Q1694.78 1516.82 1696.45 1518.32 Q1698.14 1519.83 1701.17 1519.83 Q1704.18 1519.83 1705.87 1518.32 Q1707.58 1516.82 1707.58 1514.13 Q1707.58 1511.45 1705.87 1509.94 Q1704.18 1508.44 1701.17 1508.44 Q1698.14 1508.44 1696.45 1509.94 Q1694.78 1511.45 1694.78 1514.13 Z\" fill=\"#000000\" fill-rule=\"evenodd\" fill-opacity=\"1\" /><path clip-path=\"url(#clip240)\" d=\"M 0 0 M1724.15 1505.36 L1742.51 1505.36 L1742.51 1509.3 L1728.44 1509.3 L1728.44 1517.77 Q1729.46 1517.42 1730.47 1517.26 Q1731.49 1517.07 1732.51 1517.07 Q1738.3 1517.07 1741.68 1520.24 Q1745.06 1523.42 1745.06 1528.83 Q1745.06 1534.41 1741.58 1537.51 Q1738.11 1540.59 1731.79 1540.59 Q1729.62 1540.59 1727.35 1540.22 Q1725.1 1539.85 1722.7 1539.11 L1722.7 1534.41 Q1724.78 1535.54 1727 1536.1 Q1729.22 1536.66 1731.7 1536.66 Q1735.71 1536.66 1738.04 1534.55 Q1740.38 1532.44 1740.38 1528.83 Q1740.38 1525.22 1738.04 1523.11 Q1735.71 1521.01 1731.7 1521.01 Q1729.83 1521.01 1727.95 1521.42 Q1726.1 1521.84 1724.15 1522.72 L1724.15 1505.36 Z\" fill=\"#000000\" fill-rule=\"evenodd\" fill-opacity=\"1\" /><path clip-path=\"url(#clip240)\" d=\"M 0 0 M1760.13 1508.44 Q1756.52 1508.44 1754.69 1512 Q1752.88 1515.55 1752.88 1522.67 Q1752.88 1529.78 1754.69 1533.35 Q1756.52 1536.89 1760.13 1536.89 Q1763.76 1536.89 1765.57 1533.35 Q1767.39 1529.78 1767.39 1522.67 Q1767.39 1515.55 1765.57 1512 Q1763.76 1508.44 1760.13 1508.44 M1760.13 1504.73 Q1765.94 1504.73 1768.99 1509.34 Q1772.07 1513.92 1772.07 1522.67 Q1772.07 1531.4 1768.99 1536.01 Q1765.94 1540.59 1760.13 1540.59 Q1754.32 1540.59 1751.24 1536.01 Q1748.18 1531.4 1748.18 1522.67 Q1748.18 1513.92 1751.24 1509.34 Q1754.32 1504.73 1760.13 1504.73 Z\" fill=\"#000000\" fill-rule=\"evenodd\" fill-opacity=\"1\" /><path clip-path=\"url(#clip240)\" d=\"M 0 0 M1785.37 1505.36 L1803.73 1505.36 L1803.73 1509.3 L1789.65 1509.3 L1789.65 1517.77 Q1790.67 1517.42 1791.69 1517.26 Q1792.71 1517.07 1793.73 1517.07 Q1799.51 1517.07 1802.89 1520.24 Q1806.27 1523.42 1806.27 1528.83 Q1806.27 1534.41 1802.8 1537.51 Q1799.33 1540.59 1793.01 1540.59 Q1790.83 1540.59 1788.56 1540.22 Q1786.32 1539.85 1783.91 1539.11 L1783.91 1534.41 Q1785.99 1535.54 1788.22 1536.1 Q1790.44 1536.66 1792.92 1536.66 Q1796.92 1536.66 1799.26 1534.55 Q1801.6 1532.44 1801.6 1528.83 Q1801.6 1525.22 1799.26 1523.11 Q1796.92 1521.01 1792.92 1521.01 Q1791.04 1521.01 1789.17 1521.42 Q1787.31 1521.84 1785.37 1522.72 L1785.37 1505.36 Z\" fill=\"#000000\" fill-rule=\"evenodd\" fill-opacity=\"1\" /><path clip-path=\"url(#clip240)\" d=\"M 0 0 M1815.37 1535.98 L1831.69 1535.98 L1831.69 1539.92 L1809.74 1539.92 L1809.74 1535.98 Q1812.41 1533.23 1816.99 1528.6 Q1821.6 1523.95 1822.78 1522.61 Q1825.02 1520.08 1825.9 1518.35 Q1826.8 1516.59 1826.8 1514.9 Q1826.8 1512.14 1824.86 1510.41 Q1822.94 1508.67 1819.84 1508.67 Q1817.64 1508.67 1815.18 1509.43 Q1812.75 1510.2 1809.98 1511.75 L1809.98 1507.03 Q1812.8 1505.89 1815.25 1505.31 Q1817.71 1504.73 1819.74 1504.73 Q1825.11 1504.73 1828.31 1507.42 Q1831.5 1510.11 1831.5 1514.6 Q1831.5 1516.73 1830.69 1518.65 Q1829.91 1520.54 1827.8 1523.14 Q1827.22 1523.81 1824.12 1527.03 Q1821.02 1530.22 1815.37 1535.98 Z\" fill=\"#000000\" fill-rule=\"evenodd\" fill-opacity=\"1\" /><path clip-path=\"url(#clip240)\" d=\"M 0 0 M1844.74 1505.36 L1863.1 1505.36 L1863.1 1509.3 L1849.03 1509.3 L1849.03 1517.77 Q1850.05 1517.42 1851.06 1517.26 Q1852.08 1517.07 1853.1 1517.07 Q1858.89 1517.07 1862.27 1520.24 Q1865.65 1523.42 1865.65 1528.83 Q1865.65 1534.41 1862.17 1537.51 Q1858.7 1540.59 1852.38 1540.59 Q1850.21 1540.59 1847.94 1540.22 Q1845.69 1539.85 1843.29 1539.11 L1843.29 1534.41 Q1845.37 1535.54 1847.59 1536.1 Q1849.81 1536.66 1852.29 1536.66 Q1856.29 1536.66 1858.63 1534.55 Q1860.97 1532.44 1860.97 1528.83 Q1860.97 1525.22 1858.63 1523.11 Q1856.29 1521.01 1852.29 1521.01 Q1850.42 1521.01 1848.54 1521.42 Q1846.69 1521.84 1844.74 1522.72 L1844.74 1505.36 Z\" fill=\"#000000\" fill-rule=\"evenodd\" fill-opacity=\"1\" /><path clip-path=\"url(#clip240)\" d=\"M 0 0 M1883.56 1509.43 L1871.76 1527.88 L1883.56 1527.88 L1883.56 1509.43 M1882.34 1505.36 L1888.22 1505.36 L1888.22 1527.88 L1893.15 1527.88 L1893.15 1531.77 L1888.22 1531.77 L1888.22 1539.92 L1883.56 1539.92 L1883.56 1531.77 L1867.96 1531.77 L1867.96 1527.26 L1882.34 1505.36 Z\" fill=\"#000000\" fill-rule=\"evenodd\" fill-opacity=\"1\" /><path clip-path=\"url(#clip240)\" d=\"M 0 0 M1905.32 1505.36 L1923.68 1505.36 L1923.68 1509.3 L1909.6 1509.3 L1909.6 1517.77 Q1910.62 1517.42 1911.64 1517.26 Q1912.66 1517.07 1913.68 1517.07 Q1919.47 1517.07 1922.85 1520.24 Q1926.23 1523.42 1926.23 1528.83 Q1926.23 1534.41 1922.75 1537.51 Q1919.28 1540.59 1912.96 1540.59 Q1910.79 1540.59 1908.52 1540.22 Q1906.27 1539.85 1903.86 1539.11 L1903.86 1534.41 Q1905.95 1535.54 1908.17 1536.1 Q1910.39 1536.66 1912.87 1536.66 Q1916.87 1536.66 1919.21 1534.55 Q1921.55 1532.44 1921.55 1528.83 Q1921.55 1525.22 1919.21 1523.11 Q1916.87 1521.01 1912.87 1521.01 Q1910.99 1521.01 1909.12 1521.42 Q1907.27 1521.84 1905.32 1522.72 L1905.32 1505.36 Z\" fill=\"#000000\" fill-rule=\"evenodd\" fill-opacity=\"1\" /><path clip-path=\"url(#clip240)\" d=\"M 0 0 M1941.87 1520.78 Q1938.73 1520.78 1936.87 1522.93 Q1935.04 1525.08 1935.04 1528.83 Q1935.04 1532.56 1936.87 1534.73 Q1938.73 1536.89 1941.87 1536.89 Q1945.02 1536.89 1946.85 1534.73 Q1948.7 1532.56 1948.7 1528.83 Q1948.7 1525.08 1946.85 1522.93 Q1945.02 1520.78 1941.87 1520.78 M1951.16 1506.12 L1951.16 1510.38 Q1949.4 1509.55 1947.59 1509.11 Q1945.81 1508.67 1944.05 1508.67 Q1939.42 1508.67 1936.97 1511.8 Q1934.54 1514.92 1934.19 1521.24 Q1935.55 1519.23 1937.61 1518.16 Q1939.67 1517.07 1942.15 1517.07 Q1947.36 1517.07 1950.37 1520.24 Q1953.4 1523.39 1953.4 1528.83 Q1953.4 1534.16 1950.25 1537.37 Q1947.1 1540.59 1941.87 1540.59 Q1935.88 1540.59 1932.71 1536.01 Q1929.54 1531.4 1929.54 1522.67 Q1929.54 1514.48 1933.42 1509.62 Q1937.31 1504.73 1943.86 1504.73 Q1945.62 1504.73 1947.41 1505.08 Q1949.21 1505.43 1951.16 1506.12 Z\" fill=\"#000000\" fill-rule=\"evenodd\" fill-opacity=\"1\" /><path clip-path=\"url(#clip240)\" d=\"M 0 0 M1965.87 1505.36 L1984.22 1505.36 L1984.22 1509.3 L1970.15 1509.3 L1970.15 1517.77 Q1971.17 1517.42 1972.19 1517.26 Q1973.2 1517.07 1974.22 1517.07 Q1980.01 1517.07 1983.39 1520.24 Q1986.77 1523.42 1986.77 1528.83 Q1986.77 1534.41 1983.3 1537.51 Q1979.82 1540.59 1973.51 1540.59 Q1971.33 1540.59 1969.06 1540.22 Q1966.82 1539.85 1964.41 1539.11 L1964.41 1534.41 Q1966.49 1535.54 1968.71 1536.1 Q1970.94 1536.66 1973.41 1536.66 Q1977.42 1536.66 1979.76 1534.55 Q1982.09 1532.44 1982.09 1528.83 Q1982.09 1525.22 1979.76 1523.11 Q1977.42 1521.01 1973.41 1521.01 Q1971.54 1521.01 1969.66 1521.42 Q1967.81 1521.84 1965.87 1522.72 L1965.87 1505.36 Z\" fill=\"#000000\" fill-rule=\"evenodd\" fill-opacity=\"1\" /><path clip-path=\"url(#clip240)\" d=\"M 0 0 M2001.84 1523.51 Q1998.51 1523.51 1996.58 1525.29 Q1994.69 1527.07 1994.69 1530.2 Q1994.69 1533.32 1996.58 1535.11 Q1998.51 1536.89 2001.84 1536.89 Q2005.17 1536.89 2007.09 1535.11 Q2009.01 1533.3 2009.01 1530.2 Q2009.01 1527.07 2007.09 1525.29 Q2005.19 1523.51 2001.84 1523.51 M1997.16 1521.52 Q1994.15 1520.78 1992.46 1518.72 Q1990.8 1516.66 1990.8 1513.69 Q1990.8 1509.55 1993.74 1507.14 Q1996.7 1504.73 2001.84 1504.73 Q2007 1504.73 2009.94 1507.14 Q2012.88 1509.55 2012.88 1513.69 Q2012.88 1516.66 2011.19 1518.72 Q2009.52 1520.78 2006.54 1521.52 Q2009.92 1522.3 2011.79 1524.6 Q2013.69 1526.89 2013.69 1530.2 Q2013.69 1535.22 2010.61 1537.91 Q2007.56 1540.59 2001.84 1540.59 Q1996.12 1540.59 1993.04 1537.91 Q1989.99 1535.22 1989.99 1530.2 Q1989.99 1526.89 1991.88 1524.6 Q1993.78 1522.3 1997.16 1521.52 M1995.45 1514.13 Q1995.45 1516.82 1997.12 1518.32 Q1998.81 1519.83 2001.84 1519.83 Q2004.85 1519.83 2006.54 1518.32 Q2008.25 1516.82 2008.25 1514.13 Q2008.25 1511.45 2006.54 1509.94 Q2004.85 1508.44 2001.84 1508.44 Q1998.81 1508.44 1997.12 1509.94 Q1995.45 1511.45 1995.45 1514.13 Z\" fill=\"#000000\" fill-rule=\"evenodd\" fill-opacity=\"1\" /><path clip-path=\"url(#clip240)\" d=\"M 0 0 M2036.36 1520.78 Q2033.22 1520.78 2031.36 1522.93 Q2029.54 1525.08 2029.54 1528.83 Q2029.54 1532.56 2031.36 1534.73 Q2033.22 1536.89 2036.36 1536.89 Q2039.51 1536.89 2041.34 1534.73 Q2043.19 1532.56 2043.19 1528.83 Q2043.19 1525.08 2041.34 1522.93 Q2039.51 1520.78 2036.36 1520.78 M2045.65 1506.12 L2045.65 1510.38 Q2043.89 1509.55 2042.08 1509.11 Q2040.3 1508.67 2038.54 1508.67 Q2033.91 1508.67 2031.46 1511.8 Q2029.03 1514.92 2028.68 1521.24 Q2030.04 1519.23 2032.1 1518.16 Q2034.16 1517.07 2036.64 1517.07 Q2041.85 1517.07 2044.86 1520.24 Q2047.89 1523.39 2047.89 1528.83 Q2047.89 1534.16 2044.74 1537.37 Q2041.6 1540.59 2036.36 1540.59 Q2030.37 1540.59 2027.2 1536.01 Q2024.03 1531.4 2024.03 1522.67 Q2024.03 1514.48 2027.91 1509.62 Q2031.8 1504.73 2038.35 1504.73 Q2040.11 1504.73 2041.9 1505.08 Q2043.7 1505.43 2045.65 1506.12 Z\" fill=\"#000000\" fill-rule=\"evenodd\" fill-opacity=\"1\" /><path clip-path=\"url(#clip240)\" d=\"M 0 0 M2062.96 1508.44 Q2059.35 1508.44 2057.52 1512 Q2055.72 1515.55 2055.72 1522.67 Q2055.72 1529.78 2057.52 1533.35 Q2059.35 1536.89 2062.96 1536.89 Q2066.6 1536.89 2068.4 1533.35 Q2070.23 1529.78 2070.23 1522.67 Q2070.23 1515.55 2068.4 1512 Q2066.6 1508.44 2062.96 1508.44 M2062.96 1504.73 Q2068.77 1504.73 2071.83 1509.34 Q2074.91 1513.92 2074.91 1522.67 Q2074.91 1531.4 2071.83 1536.01 Q2068.77 1540.59 2062.96 1540.59 Q2057.15 1540.59 2054.07 1536.01 Q2051.02 1531.4 2051.02 1522.67 Q2051.02 1513.92 2054.07 1509.34 Q2057.15 1504.73 2062.96 1504.73 Z\" fill=\"#000000\" fill-rule=\"evenodd\" fill-opacity=\"1\" /><path clip-path=\"url(#clip240)\" d=\"M 0 0 M2097.58 1520.78 Q2094.43 1520.78 2092.58 1522.93 Q2090.75 1525.08 2090.75 1528.83 Q2090.75 1532.56 2092.58 1534.73 Q2094.43 1536.89 2097.58 1536.89 Q2100.73 1536.89 2102.56 1534.73 Q2104.41 1532.56 2104.41 1528.83 Q2104.41 1525.08 2102.56 1522.93 Q2100.73 1520.78 2097.58 1520.78 M2106.86 1506.12 L2106.86 1510.38 Q2105.1 1509.55 2103.3 1509.11 Q2101.51 1508.67 2099.75 1508.67 Q2095.13 1508.67 2092.67 1511.8 Q2090.24 1514.92 2089.89 1521.24 Q2091.26 1519.23 2093.32 1518.16 Q2095.38 1517.07 2097.86 1517.07 Q2103.06 1517.07 2106.07 1520.24 Q2109.11 1523.39 2109.11 1528.83 Q2109.11 1534.16 2105.96 1537.37 Q2102.81 1540.59 2097.58 1540.59 Q2091.58 1540.59 2088.41 1536.01 Q2085.24 1531.4 2085.24 1522.67 Q2085.24 1514.48 2089.13 1509.62 Q2093.02 1504.73 2099.57 1504.73 Q2101.33 1504.73 2103.11 1505.08 Q2104.92 1505.43 2106.86 1506.12 Z\" fill=\"#000000\" fill-rule=\"evenodd\" fill-opacity=\"1\" /><path clip-path=\"url(#clip240)\" d=\"M 0 0 M2118.2 1535.98 L2134.52 1535.98 L2134.52 1539.92 L2112.58 1539.92 L2112.58 1535.98 Q2115.24 1533.23 2119.82 1528.6 Q2124.43 1523.95 2125.61 1522.61 Q2127.86 1520.08 2128.74 1518.35 Q2129.64 1516.59 2129.64 1514.9 Q2129.64 1512.14 2127.69 1510.41 Q2125.77 1508.67 2122.67 1508.67 Q2120.47 1508.67 2118.02 1509.43 Q2115.59 1510.2 2112.81 1511.75 L2112.81 1507.03 Q2115.63 1505.89 2118.09 1505.31 Q2120.54 1504.73 2122.58 1504.73 Q2127.95 1504.73 2131.14 1507.42 Q2134.34 1510.11 2134.34 1514.6 Q2134.34 1516.73 2133.53 1518.65 Q2132.74 1520.54 2130.63 1523.14 Q2130.06 1523.81 2126.95 1527.03 Q2123.85 1530.22 2118.2 1535.98 Z\" fill=\"#000000\" fill-rule=\"evenodd\" fill-opacity=\"1\" /><path clip-path=\"url(#clip240)\" d=\"M 0 0 M2156.95 1520.78 Q2153.81 1520.78 2151.95 1522.93 Q2150.12 1525.08 2150.12 1528.83 Q2150.12 1532.56 2151.95 1534.73 Q2153.81 1536.89 2156.95 1536.89 Q2160.1 1536.89 2161.93 1534.73 Q2163.78 1532.56 2163.78 1528.83 Q2163.78 1525.08 2161.93 1522.93 Q2160.1 1520.78 2156.95 1520.78 M2166.24 1506.12 L2166.24 1510.38 Q2164.48 1509.55 2162.67 1509.11 Q2160.89 1508.67 2159.13 1508.67 Q2154.5 1508.67 2152.05 1511.8 Q2149.62 1514.92 2149.27 1521.24 Q2150.63 1519.23 2152.69 1518.16 Q2154.75 1517.07 2157.23 1517.07 Q2162.44 1517.07 2165.45 1520.24 Q2168.48 1523.39 2168.48 1528.83 Q2168.48 1534.16 2165.33 1537.37 Q2162.18 1540.59 2156.95 1540.59 Q2150.96 1540.59 2147.79 1536.01 Q2144.62 1531.4 2144.62 1522.67 Q2144.62 1514.48 2148.5 1509.62 Q2152.39 1504.73 2158.94 1504.73 Q2160.7 1504.73 2162.49 1505.08 Q2164.29 1505.43 2166.24 1506.12 Z\" fill=\"#000000\" fill-rule=\"evenodd\" fill-opacity=\"1\" /><path clip-path=\"url(#clip240)\" d=\"M 0 0 M2186.4 1509.43 L2174.59 1527.88 L2186.4 1527.88 L2186.4 1509.43 M2185.17 1505.36 L2191.05 1505.36 L2191.05 1527.88 L2195.98 1527.88 L2195.98 1531.77 L2191.05 1531.77 L2191.05 1539.92 L2186.4 1539.92 L2186.4 1531.77 L2170.8 1531.77 L2170.8 1527.26 L2185.17 1505.36 Z\" fill=\"#000000\" fill-rule=\"evenodd\" fill-opacity=\"1\" /><path clip-path=\"url(#clip240)\" d=\"M 0 0 M2217.53 1520.78 Q2214.38 1520.78 2212.53 1522.93 Q2210.7 1525.08 2210.7 1528.83 Q2210.7 1532.56 2212.53 1534.73 Q2214.38 1536.89 2217.53 1536.89 Q2220.68 1536.89 2222.51 1534.73 Q2224.36 1532.56 2224.36 1528.83 Q2224.36 1525.08 2222.51 1522.93 Q2220.68 1520.78 2217.53 1520.78 M2226.81 1506.12 L2226.81 1510.38 Q2225.06 1509.55 2223.25 1509.11 Q2221.47 1508.67 2219.71 1508.67 Q2215.08 1508.67 2212.62 1511.8 Q2210.19 1514.92 2209.85 1521.24 Q2211.21 1519.23 2213.27 1518.16 Q2215.33 1517.07 2217.81 1517.07 Q2223.02 1517.07 2226.03 1520.24 Q2229.06 1523.39 2229.06 1528.83 Q2229.06 1534.16 2225.91 1537.37 Q2222.76 1540.59 2217.53 1540.59 Q2211.54 1540.59 2208.37 1536.01 Q2205.19 1531.4 2205.19 1522.67 Q2205.19 1514.48 2209.08 1509.62 Q2212.97 1504.73 2219.52 1504.73 Q2221.28 1504.73 2223.06 1505.08 Q2224.87 1505.43 2226.81 1506.12 Z\" fill=\"#000000\" fill-rule=\"evenodd\" fill-opacity=\"1\" /><path clip-path=\"url(#clip240)\" d=\"M 0 0 M2244.71 1520.78 Q2241.56 1520.78 2239.71 1522.93 Q2237.88 1525.08 2237.88 1528.83 Q2237.88 1532.56 2239.71 1534.73 Q2241.56 1536.89 2244.71 1536.89 Q2247.86 1536.89 2249.68 1534.73 Q2251.54 1532.56 2251.54 1528.83 Q2251.54 1525.08 2249.68 1522.93 Q2247.86 1520.78 2244.71 1520.78 M2253.99 1506.12 L2253.99 1510.38 Q2252.23 1509.55 2250.43 1509.11 Q2248.64 1508.67 2246.88 1508.67 Q2242.25 1508.67 2239.8 1511.8 Q2237.37 1514.92 2237.02 1521.24 Q2238.39 1519.23 2240.45 1518.16 Q2242.51 1517.07 2244.99 1517.07 Q2250.19 1517.07 2253.2 1520.24 Q2256.24 1523.39 2256.24 1528.83 Q2256.24 1534.16 2253.09 1537.37 Q2249.94 1540.59 2244.71 1540.59 Q2238.71 1540.59 2235.54 1536.01 Q2232.37 1531.4 2232.37 1522.67 Q2232.37 1514.48 2236.26 1509.62 Q2240.15 1504.73 2246.7 1504.73 Q2248.46 1504.73 2250.24 1505.08 Q2252.05 1505.43 2253.99 1506.12 Z\" fill=\"#000000\" fill-rule=\"evenodd\" fill-opacity=\"1\" /><path clip-path=\"url(#clip240)\" d=\"M 0 0 M2278.08 1520.78 Q2274.93 1520.78 2273.08 1522.93 Q2271.25 1525.08 2271.25 1528.83 Q2271.25 1532.56 2273.08 1534.73 Q2274.93 1536.89 2278.08 1536.89 Q2281.22 1536.89 2283.05 1534.73 Q2284.9 1532.56 2284.9 1528.83 Q2284.9 1525.08 2283.05 1522.93 Q2281.22 1520.78 2278.08 1520.78 M2287.36 1506.12 L2287.36 1510.38 Q2285.6 1509.55 2283.79 1509.11 Q2282.01 1508.67 2280.25 1508.67 Q2275.62 1508.67 2273.17 1511.8 Q2270.74 1514.92 2270.39 1521.24 Q2271.76 1519.23 2273.82 1518.16 Q2275.88 1517.07 2278.35 1517.07 Q2283.56 1517.07 2286.57 1520.24 Q2289.6 1523.39 2289.6 1528.83 Q2289.6 1534.16 2286.46 1537.37 Q2283.31 1540.59 2278.08 1540.59 Q2272.08 1540.59 2268.91 1536.01 Q2265.74 1531.4 2265.74 1522.67 Q2265.74 1514.48 2269.63 1509.62 Q2273.52 1504.73 2280.07 1504.73 Q2281.83 1504.73 2283.61 1505.08 Q2285.41 1505.43 2287.36 1506.12 Z\" fill=\"#000000\" fill-rule=\"evenodd\" fill-opacity=\"1\" /><path clip-path=\"url(#clip240)\" d=\"M 0 0 M2304.67 1523.51 Q2301.34 1523.51 2299.42 1525.29 Q2297.52 1527.07 2297.52 1530.2 Q2297.52 1533.32 2299.42 1535.11 Q2301.34 1536.89 2304.67 1536.89 Q2308.01 1536.89 2309.93 1535.11 Q2311.85 1533.3 2311.85 1530.2 Q2311.85 1527.07 2309.93 1525.29 Q2308.03 1523.51 2304.67 1523.51 M2300 1521.52 Q2296.99 1520.78 2295.3 1518.72 Q2293.63 1516.66 2293.63 1513.69 Q2293.63 1509.55 2296.57 1507.14 Q2299.53 1504.73 2304.67 1504.73 Q2309.83 1504.73 2312.77 1507.14 Q2315.71 1509.55 2315.71 1513.69 Q2315.71 1516.66 2314.02 1518.72 Q2312.36 1520.78 2309.37 1521.52 Q2312.75 1522.3 2314.63 1524.6 Q2316.52 1526.89 2316.52 1530.2 Q2316.52 1535.22 2313.45 1537.91 Q2310.39 1540.59 2304.67 1540.59 Q2298.96 1540.59 2295.88 1537.91 Q2292.82 1535.22 2292.82 1530.2 Q2292.82 1526.89 2294.72 1524.6 Q2296.62 1522.3 2300 1521.52 M2298.28 1514.13 Q2298.28 1516.82 2299.95 1518.32 Q2301.64 1519.83 2304.67 1519.83 Q2307.68 1519.83 2309.37 1518.32 Q2311.08 1516.82 2311.08 1514.13 Q2311.08 1511.45 2309.37 1509.94 Q2307.68 1508.44 2304.67 1508.44 Q2301.64 1508.44 2299.95 1509.94 Q2298.28 1511.45 2298.28 1514.13 Z\" fill=\"#000000\" fill-rule=\"evenodd\" fill-opacity=\"1\" /><path clip-path=\"url(#clip240)\" d=\"M 0 0 M76.418 1466.69 Q72.8069 1466.69 70.9782 1470.26 Q69.1726 1473.8 69.1726 1480.93 Q69.1726 1488.04 70.9782 1491.6 Q72.8069 1495.14 76.418 1495.14 Q80.0522 1495.14 81.8578 1491.6 Q83.6865 1488.04 83.6865 1480.93 Q83.6865 1473.8 81.8578 1470.26 Q80.0522 1466.69 76.418 1466.69 M76.418 1462.99 Q82.2281 1462.99 85.2837 1467.6 Q88.3624 1472.18 88.3624 1480.93 Q88.3624 1489.66 85.2837 1494.26 Q82.2281 1498.85 76.418 1498.85 Q70.6078 1498.85 67.5291 1494.26 Q64.4736 1489.66 64.4736 1480.93 Q64.4736 1472.18 67.5291 1467.6 Q70.6078 1462.99 76.418 1462.99 Z\" fill=\"#000000\" fill-rule=\"evenodd\" fill-opacity=\"1\" /><path clip-path=\"url(#clip240)\" d=\"M 0 0 M93.4318 1492.3 L98.316 1492.3 L98.316 1498.18 L93.4318 1498.18 L93.4318 1492.3 Z\" fill=\"#000000\" fill-rule=\"evenodd\" fill-opacity=\"1\" /><path clip-path=\"url(#clip240)\" d=\"M 0 0 M113.385 1466.69 Q109.774 1466.69 107.946 1470.26 Q106.14 1473.8 106.14 1480.93 Q106.14 1488.04 107.946 1491.6 Q109.774 1495.14 113.385 1495.14 Q117.02 1495.14 118.825 1491.6 Q120.654 1488.04 120.654 1480.93 Q120.654 1473.8 118.825 1470.26 Q117.02 1466.69 113.385 1466.69 M113.385 1462.99 Q119.196 1462.99 122.251 1467.6 Q125.33 1472.18 125.33 1480.93 Q125.33 1489.66 122.251 1494.26 Q119.196 1498.85 113.385 1498.85 Q107.575 1498.85 104.497 1494.26 Q101.441 1489.66 101.441 1480.93 Q101.441 1472.18 104.497 1467.6 Q107.575 1462.99 113.385 1462.99 Z\" fill=\"#000000\" fill-rule=\"evenodd\" fill-opacity=\"1\" /><path clip-path=\"url(#clip240)\" d=\"M 0 0 M130.445 1463.62 L148.802 1463.62 L148.802 1467.55 L134.728 1467.55 L134.728 1476.02 Q135.746 1475.68 136.765 1475.51 Q137.783 1475.33 138.802 1475.33 Q144.589 1475.33 147.969 1478.5 Q151.348 1481.67 151.348 1487.09 Q151.348 1492.67 147.876 1495.77 Q144.404 1498.85 138.084 1498.85 Q135.908 1498.85 133.64 1498.48 Q131.395 1498.11 128.987 1497.37 L128.987 1492.67 Q131.07 1493.8 133.293 1494.36 Q135.515 1494.91 137.992 1494.91 Q141.996 1494.91 144.334 1492.81 Q146.672 1490.7 146.672 1487.09 Q146.672 1483.48 144.334 1481.37 Q141.996 1479.26 137.992 1479.26 Q136.117 1479.26 134.242 1479.68 Q132.39 1480.1 130.445 1480.98 L130.445 1463.62 Z\" fill=\"#000000\" fill-rule=\"evenodd\" fill-opacity=\"1\" /><path clip-path=\"url(#clip240)\" d=\"M 0 0 M76.6495 1311.93 Q73.0384 1311.93 71.2097 1315.49 Q69.4041 1319.03 69.4041 1326.16 Q69.4041 1333.27 71.2097 1336.83 Q73.0384 1340.37 76.6495 1340.37 Q80.2837 1340.37 82.0892 1336.83 Q83.9179 1333.27 83.9179 1326.16 Q83.9179 1319.03 82.0892 1315.49 Q80.2837 1311.93 76.6495 1311.93 M76.6495 1308.22 Q82.4596 1308.22 85.5152 1312.83 Q88.5938 1317.41 88.5938 1326.16 Q88.5938 1334.89 85.5152 1339.49 Q82.4596 1344.08 76.6495 1344.08 Q70.8393 1344.08 67.7606 1339.49 Q64.7051 1334.89 64.7051 1326.16 Q64.7051 1317.41 67.7606 1312.83 Q70.8393 1308.22 76.6495 1308.22 Z\" fill=\"#000000\" fill-rule=\"evenodd\" fill-opacity=\"1\" /><path clip-path=\"url(#clip240)\" d=\"M 0 0 M93.6633 1337.53 L98.5475 1337.53 L98.5475 1343.41 L93.6633 1343.41 L93.6633 1337.53 Z\" fill=\"#000000\" fill-rule=\"evenodd\" fill-opacity=\"1\" /><path clip-path=\"url(#clip240)\" d=\"M 0 0 M104.427 1339.47 L112.066 1339.47 L112.066 1313.11 L103.756 1314.77 L103.756 1310.51 L112.02 1308.85 L116.696 1308.85 L116.696 1339.47 L124.334 1339.47 L124.334 1343.41 L104.427 1343.41 L104.427 1339.47 Z\" fill=\"#000000\" fill-rule=\"evenodd\" fill-opacity=\"1\" /><path clip-path=\"url(#clip240)\" d=\"M 0 0 M139.404 1311.93 Q135.793 1311.93 133.964 1315.49 Q132.158 1319.03 132.158 1326.16 Q132.158 1333.27 133.964 1336.83 Q135.793 1340.37 139.404 1340.37 Q143.038 1340.37 144.844 1336.83 Q146.672 1333.27 146.672 1326.16 Q146.672 1319.03 144.844 1315.49 Q143.038 1311.93 139.404 1311.93 M139.404 1308.22 Q145.214 1308.22 148.269 1312.83 Q151.348 1317.41 151.348 1326.16 Q151.348 1334.89 148.269 1339.49 Q145.214 1344.08 139.404 1344.08 Q133.594 1344.08 130.515 1339.49 Q127.459 1334.89 127.459 1326.16 Q127.459 1317.41 130.515 1312.83 Q133.594 1308.22 139.404 1308.22 Z\" fill=\"#000000\" fill-rule=\"evenodd\" fill-opacity=\"1\" /><path clip-path=\"url(#clip240)\" d=\"M 0 0 M77.6448 1157.16 Q74.0337 1157.16 72.205 1160.72 Q70.3995 1164.26 70.3995 1171.39 Q70.3995 1178.5 72.205 1182.06 Q74.0337 1185.61 77.6448 1185.61 Q81.2791 1185.61 83.0846 1182.06 Q84.9133 1178.5 84.9133 1171.39 Q84.9133 1164.26 83.0846 1160.72 Q81.2791 1157.16 77.6448 1157.16 M77.6448 1153.45 Q83.455 1153.45 86.5105 1158.06 Q89.5892 1162.64 89.5892 1171.39 Q89.5892 1180.12 86.5105 1184.73 Q83.455 1189.31 77.6448 1189.31 Q71.8347 1189.31 68.756 1184.73 Q65.7004 1180.12 65.7004 1171.39 Q65.7004 1162.64 68.756 1158.06 Q71.8347 1153.45 77.6448 1153.45 Z\" fill=\"#000000\" fill-rule=\"evenodd\" fill-opacity=\"1\" /><path clip-path=\"url(#clip240)\" d=\"M 0 0 M94.6586 1182.76 L99.5429 1182.76 L99.5429 1188.64 L94.6586 1188.64 L94.6586 1182.76 Z\" fill=\"#000000\" fill-rule=\"evenodd\" fill-opacity=\"1\" /><path clip-path=\"url(#clip240)\" d=\"M 0 0 M105.422 1184.7 L113.061 1184.7 L113.061 1158.34 L104.751 1160 L104.751 1155.74 L113.015 1154.08 L117.691 1154.08 L117.691 1184.7 L125.33 1184.7 L125.33 1188.64 L105.422 1188.64 L105.422 1184.7 Z\" fill=\"#000000\" fill-rule=\"evenodd\" fill-opacity=\"1\" /><path clip-path=\"url(#clip240)\" d=\"M 0 0 M130.445 1154.08 L148.802 1154.08 L148.802 1158.01 L134.728 1158.01 L134.728 1166.49 Q135.746 1166.14 136.765 1165.98 Q137.783 1165.79 138.802 1165.79 Q144.589 1165.79 147.969 1168.96 Q151.348 1172.13 151.348 1177.55 Q151.348 1183.13 147.876 1186.23 Q144.404 1189.31 138.084 1189.31 Q135.908 1189.31 133.64 1188.94 Q131.395 1188.57 128.987 1187.83 L128.987 1183.13 Q131.07 1184.26 133.293 1184.82 Q135.515 1185.37 137.992 1185.37 Q141.996 1185.37 144.334 1183.27 Q146.672 1181.16 146.672 1177.55 Q146.672 1173.94 144.334 1171.83 Q141.996 1169.73 137.992 1169.73 Q136.117 1169.73 134.242 1170.14 Q132.39 1170.56 130.445 1171.44 L130.445 1154.08 Z\" fill=\"#000000\" fill-rule=\"evenodd\" fill-opacity=\"1\" /><path clip-path=\"url(#clip240)\" d=\"M 0 0 M77.0198 1002.39 Q73.4087 1002.39 71.58 1005.95 Q69.7745 1009.49 69.7745 1016.62 Q69.7745 1023.73 71.58 1027.3 Q73.4087 1030.84 77.0198 1030.84 Q80.6541 1030.84 82.4596 1027.3 Q84.2883 1023.73 84.2883 1016.62 Q84.2883 1009.49 82.4596 1005.95 Q80.6541 1002.39 77.0198 1002.39 M77.0198 998.684 Q82.83 998.684 85.8855 1003.29 Q88.9642 1007.87 88.9642 1016.62 Q88.9642 1025.35 85.8855 1029.96 Q82.83 1034.54 77.0198 1034.54 Q71.2097 1034.54 68.131 1029.96 Q65.0754 1025.35 65.0754 1016.62 Q65.0754 1007.87 68.131 1003.29 Q71.2097 998.684 77.0198 998.684 Z\" fill=\"#000000\" fill-rule=\"evenodd\" fill-opacity=\"1\" /><path clip-path=\"url(#clip240)\" d=\"M 0 0 M94.0336 1027.99 L98.9179 1027.99 L98.9179 1033.87 L94.0336 1033.87 L94.0336 1027.99 Z\" fill=\"#000000\" fill-rule=\"evenodd\" fill-opacity=\"1\" /><path clip-path=\"url(#clip240)\" d=\"M 0 0 M108.015 1029.93 L124.334 1029.93 L124.334 1033.87 L102.39 1033.87 L102.39 1029.93 Q105.052 1027.18 109.635 1022.55 Q114.242 1017.9 115.422 1016.55 Q117.668 1014.03 118.547 1012.3 Q119.45 1010.54 119.45 1008.85 Q119.45 1006.09 117.506 1004.36 Q115.584 1002.62 112.483 1002.62 Q110.284 1002.62 107.83 1003.38 Q105.399 1004.15 102.622 1005.7 L102.622 1000.98 Q105.446 999.842 107.899 999.263 Q110.353 998.684 112.39 998.684 Q117.76 998.684 120.955 1001.37 Q124.149 1004.05 124.149 1008.55 Q124.149 1010.67 123.339 1012.6 Q122.552 1014.49 120.446 1017.09 Q119.867 1017.76 116.765 1020.98 Q113.663 1024.17 108.015 1029.93 Z\" fill=\"#000000\" fill-rule=\"evenodd\" fill-opacity=\"1\" /><path clip-path=\"url(#clip240)\" d=\"M 0 0 M139.404 1002.39 Q135.793 1002.39 133.964 1005.95 Q132.158 1009.49 132.158 1016.62 Q132.158 1023.73 133.964 1027.3 Q135.793 1030.84 139.404 1030.84 Q143.038 1030.84 144.844 1027.3 Q146.672 1023.73 146.672 1016.62 Q146.672 1009.49 144.844 1005.95 Q143.038 1002.39 139.404 1002.39 M139.404 998.684 Q145.214 998.684 148.269 1003.29 Q151.348 1007.87 151.348 1016.62 Q151.348 1025.35 148.269 1029.96 Q145.214 1034.54 139.404 1034.54 Q133.594 1034.54 130.515 1029.96 Q127.459 1025.35 127.459 1016.62 Q127.459 1007.87 130.515 1003.29 Q133.594 998.684 139.404 998.684 Z\" fill=\"#000000\" fill-rule=\"evenodd\" fill-opacity=\"1\" /><path clip-path=\"url(#clip240)\" d=\"M 0 0 M78.0152 847.619 Q74.4041 847.619 72.5754 851.184 Q70.7699 854.726 70.7699 861.855 Q70.7699 868.962 72.5754 872.526 Q74.4041 876.068 78.0152 876.068 Q81.6494 876.068 83.455 872.526 Q85.2837 868.962 85.2837 861.855 Q85.2837 854.726 83.455 851.184 Q81.6494 847.619 78.0152 847.619 M78.0152 843.915 Q83.8253 843.915 86.8809 848.522 Q89.9596 853.105 89.9596 861.855 Q89.9596 870.582 86.8809 875.188 Q83.8253 879.772 78.0152 879.772 Q72.205 879.772 69.1264 875.188 Q66.0708 870.582 66.0708 861.855 Q66.0708 853.105 69.1264 848.522 Q72.205 843.915 78.0152 843.915 Z\" fill=\"#000000\" fill-rule=\"evenodd\" fill-opacity=\"1\" /><path clip-path=\"url(#clip240)\" d=\"M 0 0 M95.029 873.221 L99.9132 873.221 L99.9132 879.1 L95.029 879.1 L95.029 873.221 Z\" fill=\"#000000\" fill-rule=\"evenodd\" fill-opacity=\"1\" /><path clip-path=\"url(#clip240)\" d=\"M 0 0 M109.01 875.165 L125.33 875.165 L125.33 879.1 L103.385 879.1 L103.385 875.165 Q106.047 872.411 110.631 867.781 Q115.237 863.128 116.418 861.786 Q118.663 859.263 119.543 857.526 Q120.446 855.767 120.446 854.077 Q120.446 851.323 118.501 849.587 Q116.58 847.851 113.478 847.851 Q111.279 847.851 108.825 848.614 Q106.395 849.378 103.617 850.929 L103.617 846.207 Q106.441 845.073 108.895 844.494 Q111.348 843.915 113.385 843.915 Q118.756 843.915 121.95 846.601 Q125.145 849.286 125.145 853.776 Q125.145 855.906 124.334 857.827 Q123.547 859.725 121.441 862.318 Q120.862 862.989 117.76 866.207 Q114.659 869.401 109.01 875.165 Z\" fill=\"#000000\" fill-rule=\"evenodd\" fill-opacity=\"1\" /><path clip-path=\"url(#clip240)\" d=\"M 0 0 M130.445 844.54 L148.802 844.54 L148.802 848.476 L134.728 848.476 L134.728 856.948 Q135.746 856.601 136.765 856.438 Q137.783 856.253 138.802 856.253 Q144.589 856.253 147.969 859.425 Q151.348 862.596 151.348 868.012 Q151.348 873.591 147.876 876.693 Q144.404 879.772 138.084 879.772 Q135.908 879.772 133.64 879.401 Q131.395 879.031 128.987 878.29 L128.987 873.591 Q131.07 874.725 133.293 875.281 Q135.515 875.837 137.992 875.837 Q141.996 875.837 144.334 873.73 Q146.672 871.624 146.672 868.012 Q146.672 864.401 144.334 862.295 Q141.996 860.188 137.992 860.188 Q136.117 860.188 134.242 860.605 Q132.39 861.022 130.445 861.901 L130.445 844.54 Z\" fill=\"#000000\" fill-rule=\"evenodd\" fill-opacity=\"1\" /><path clip-path=\"url(#clip240)\" d=\"M 0 0 M76.0708 692.85 Q72.4597 692.85 70.631 696.415 Q68.8254 699.957 68.8254 707.086 Q68.8254 714.193 70.631 717.758 Q72.4597 721.299 76.0708 721.299 Q79.705 721.299 81.5105 717.758 Q83.3392 714.193 83.3392 707.086 Q83.3392 699.957 81.5105 696.415 Q79.705 692.85 76.0708 692.85 M76.0708 689.147 Q81.8809 689.147 84.9365 693.753 Q88.0151 698.336 88.0151 707.086 Q88.0151 715.813 84.9365 720.42 Q81.8809 725.003 76.0708 725.003 Q70.2606 725.003 67.1819 720.42 Q64.1264 715.813 64.1264 707.086 Q64.1264 698.336 67.1819 693.753 Q70.2606 689.147 76.0708 689.147 Z\" fill=\"#000000\" fill-rule=\"evenodd\" fill-opacity=\"1\" /><path clip-path=\"url(#clip240)\" d=\"M 0 0 M93.0846 718.452 L97.9688 718.452 L97.9688 724.332 L93.0846 724.332 L93.0846 718.452 Z\" fill=\"#000000\" fill-rule=\"evenodd\" fill-opacity=\"1\" /><path clip-path=\"url(#clip240)\" d=\"M 0 0 M117.205 705.697 Q120.561 706.415 122.436 708.684 Q124.334 710.952 124.334 714.285 Q124.334 719.401 120.816 722.202 Q117.297 725.003 110.816 725.003 Q108.64 725.003 106.325 724.563 Q104.034 724.146 101.58 723.29 L101.58 718.776 Q103.524 719.91 105.839 720.489 Q108.154 721.068 110.677 721.068 Q115.075 721.068 117.367 719.332 Q119.682 717.595 119.682 714.285 Q119.682 711.23 117.529 709.517 Q115.399 707.781 111.58 707.781 L107.552 707.781 L107.552 703.938 L111.765 703.938 Q115.214 703.938 117.043 702.572 Q118.871 701.184 118.871 698.591 Q118.871 695.929 116.973 694.517 Q115.098 693.082 111.58 693.082 Q109.659 693.082 107.459 693.498 Q105.26 693.915 102.622 694.795 L102.622 690.628 Q105.284 689.887 107.598 689.517 Q109.936 689.147 111.996 689.147 Q117.321 689.147 120.422 691.577 Q123.524 693.985 123.524 698.105 Q123.524 700.975 121.881 702.966 Q120.237 704.934 117.205 705.697 Z\" fill=\"#000000\" fill-rule=\"evenodd\" fill-opacity=\"1\" /><path clip-path=\"url(#clip240)\" d=\"M 0 0 M139.404 692.85 Q135.793 692.85 133.964 696.415 Q132.158 699.957 132.158 707.086 Q132.158 714.193 133.964 717.758 Q135.793 721.299 139.404 721.299 Q143.038 721.299 144.844 717.758 Q146.672 714.193 146.672 707.086 Q146.672 699.957 144.844 696.415 Q143.038 692.85 139.404 692.85 M139.404 689.147 Q145.214 689.147 148.269 693.753 Q151.348 698.336 151.348 707.086 Q151.348 715.813 148.269 720.42 Q145.214 725.003 139.404 725.003 Q133.594 725.003 130.515 720.42 Q127.459 715.813 127.459 707.086 Q127.459 698.336 130.515 693.753 Q133.594 689.147 139.404 689.147 Z\" fill=\"#000000\" fill-rule=\"evenodd\" fill-opacity=\"1\" /><path clip-path=\"url(#clip240)\" d=\"M 0 0 M77.0661 538.081 Q73.455 538.081 71.6263 541.646 Q69.8208 545.188 69.8208 552.317 Q69.8208 559.424 71.6263 562.989 Q73.455 566.53 77.0661 566.53 Q80.7004 566.53 82.5059 562.989 Q84.3346 559.424 84.3346 552.317 Q84.3346 545.188 82.5059 541.646 Q80.7004 538.081 77.0661 538.081 M77.0661 534.378 Q82.8763 534.378 85.9318 538.984 Q89.0105 543.568 89.0105 552.317 Q89.0105 561.044 85.9318 565.651 Q82.8763 570.234 77.0661 570.234 Q71.256 570.234 68.1773 565.651 Q65.1217 561.044 65.1217 552.317 Q65.1217 543.568 68.1773 538.984 Q71.256 534.378 77.0661 534.378 Z\" fill=\"#000000\" fill-rule=\"evenodd\" fill-opacity=\"1\" /><path clip-path=\"url(#clip240)\" d=\"M 0 0 M94.0799 563.683 L98.9642 563.683 L98.9642 569.563 L94.0799 569.563 L94.0799 563.683 Z\" fill=\"#000000\" fill-rule=\"evenodd\" fill-opacity=\"1\" /><path clip-path=\"url(#clip240)\" d=\"M 0 0 M118.2 550.929 Q121.557 551.646 123.432 553.915 Q125.33 556.183 125.33 559.517 Q125.33 564.632 121.811 567.433 Q118.293 570.234 111.811 570.234 Q109.635 570.234 107.321 569.794 Q105.029 569.378 102.575 568.521 L102.575 564.007 Q104.52 565.141 106.834 565.72 Q109.149 566.299 111.672 566.299 Q116.071 566.299 118.362 564.563 Q120.677 562.827 120.677 559.517 Q120.677 556.461 118.524 554.748 Q116.395 553.012 112.575 553.012 L108.547 553.012 L108.547 549.169 L112.76 549.169 Q116.209 549.169 118.038 547.804 Q119.867 546.415 119.867 543.822 Q119.867 541.16 117.969 539.748 Q116.094 538.313 112.575 538.313 Q110.654 538.313 108.455 538.73 Q106.256 539.146 103.617 540.026 L103.617 535.859 Q106.279 535.118 108.594 534.748 Q110.932 534.378 112.992 534.378 Q118.316 534.378 121.418 536.808 Q124.52 539.216 124.52 543.336 Q124.52 546.206 122.876 548.197 Q121.233 550.165 118.2 550.929 Z\" fill=\"#000000\" fill-rule=\"evenodd\" fill-opacity=\"1\" /><path clip-path=\"url(#clip240)\" d=\"M 0 0 M130.445 535.003 L148.802 535.003 L148.802 538.938 L134.728 538.938 L134.728 547.41 Q135.746 547.063 136.765 546.901 Q137.783 546.716 138.802 546.716 Q144.589 546.716 147.969 549.887 Q151.348 553.058 151.348 558.475 Q151.348 564.054 147.876 567.155 Q144.404 570.234 138.084 570.234 Q135.908 570.234 133.64 569.864 Q131.395 569.493 128.987 568.753 L128.987 564.054 Q131.07 565.188 133.293 565.743 Q135.515 566.299 137.992 566.299 Q141.996 566.299 144.334 564.192 Q146.672 562.086 146.672 558.475 Q146.672 554.864 144.334 552.757 Q141.996 550.651 137.992 550.651 Q136.117 550.651 134.242 551.067 Q132.39 551.484 130.445 552.364 L130.445 535.003 Z\" fill=\"#000000\" fill-rule=\"evenodd\" fill-opacity=\"1\" /><path clip-path=\"url(#clip240)\" d=\"M 0 0 M74.9365 383.313 Q71.3254 383.313 69.4967 386.877 Q67.6912 390.419 67.6912 397.549 Q67.6912 404.655 69.4967 408.22 Q71.3254 411.762 74.9365 411.762 Q78.5707 411.762 80.3763 408.22 Q82.205 404.655 82.205 397.549 Q82.205 390.419 80.3763 386.877 Q78.5707 383.313 74.9365 383.313 M74.9365 379.609 Q80.7467 379.609 83.8022 384.215 Q86.8809 388.799 86.8809 397.549 Q86.8809 406.275 83.8022 410.882 Q80.7467 415.465 74.9365 415.465 Q69.1264 415.465 66.0477 410.882 Q62.9921 406.275 62.9921 397.549 Q62.9921 388.799 66.0477 384.215 Q69.1264 379.609 74.9365 379.609 Z\" fill=\"#000000\" fill-rule=\"evenodd\" fill-opacity=\"1\" /><path clip-path=\"url(#clip240)\" d=\"M 0 0 M91.9503 408.914 L96.8345 408.914 L96.8345 414.794 L91.9503 414.794 L91.9503 408.914 Z\" fill=\"#000000\" fill-rule=\"evenodd\" fill-opacity=\"1\" /><path clip-path=\"url(#clip240)\" d=\"M 0 0 M114.751 384.308 L102.946 402.757 L114.751 402.757 L114.751 384.308 M113.524 380.234 L119.404 380.234 L119.404 402.757 L124.334 402.757 L124.334 406.646 L119.404 406.646 L119.404 414.794 L114.751 414.794 L114.751 406.646 L99.1493 406.646 L99.1493 402.132 L113.524 380.234 Z\" fill=\"#000000\" fill-rule=\"evenodd\" fill-opacity=\"1\" /><path clip-path=\"url(#clip240)\" d=\"M 0 0 M139.404 383.313 Q135.793 383.313 133.964 386.877 Q132.158 390.419 132.158 397.549 Q132.158 404.655 133.964 408.22 Q135.793 411.762 139.404 411.762 Q143.038 411.762 144.844 408.22 Q146.672 404.655 146.672 397.549 Q146.672 390.419 144.844 386.877 Q143.038 383.313 139.404 383.313 M139.404 379.609 Q145.214 379.609 148.269 384.215 Q151.348 388.799 151.348 397.549 Q151.348 406.275 148.269 410.882 Q145.214 415.465 139.404 415.465 Q133.594 415.465 130.515 410.882 Q127.459 406.275 127.459 397.549 Q127.459 388.799 130.515 384.215 Q133.594 379.609 139.404 379.609 Z\" fill=\"#000000\" fill-rule=\"evenodd\" fill-opacity=\"1\" /><path clip-path=\"url(#clip240)\" d=\"M 0 0 M75.9319 228.544 Q72.3208 228.544 70.4921 232.109 Q68.6865 235.65 68.6865 242.78 Q68.6865 249.886 70.4921 253.451 Q72.3208 256.993 75.9319 256.993 Q79.5661 256.993 81.3717 253.451 Q83.2004 249.886 83.2004 242.78 Q83.2004 235.65 81.3717 232.109 Q79.5661 228.544 75.9319 228.544 M75.9319 224.84 Q81.742 224.84 84.7976 229.447 Q87.8763 234.03 87.8763 242.78 Q87.8763 251.507 84.7976 256.113 Q81.742 260.696 75.9319 260.696 Q70.1217 260.696 67.043 256.113 Q63.9875 251.507 63.9875 242.78 Q63.9875 234.03 67.043 229.447 Q70.1217 224.84 75.9319 224.84 Z\" fill=\"#000000\" fill-rule=\"evenodd\" fill-opacity=\"1\" /><path clip-path=\"url(#clip240)\" d=\"M 0 0 M92.9457 254.146 L97.8299 254.146 L97.8299 260.025 L92.9457 260.025 L92.9457 254.146 Z\" fill=\"#000000\" fill-rule=\"evenodd\" fill-opacity=\"1\" /><path clip-path=\"url(#clip240)\" d=\"M 0 0 M115.746 229.539 L103.941 247.988 L115.746 247.988 L115.746 229.539 M114.52 225.465 L120.399 225.465 L120.399 247.988 L125.33 247.988 L125.33 251.877 L120.399 251.877 L120.399 260.025 L115.746 260.025 L115.746 251.877 L100.145 251.877 L100.145 247.363 L114.52 225.465 Z\" fill=\"#000000\" fill-rule=\"evenodd\" fill-opacity=\"1\" /><path clip-path=\"url(#clip240)\" d=\"M 0 0 M130.445 225.465 L148.802 225.465 L148.802 229.4 L134.728 229.4 L134.728 237.872 Q135.746 237.525 136.765 237.363 Q137.783 237.178 138.802 237.178 Q144.589 237.178 147.969 240.349 Q151.348 243.521 151.348 248.937 Q151.348 254.516 147.876 257.618 Q144.404 260.696 138.084 260.696 Q135.908 260.696 133.64 260.326 Q131.395 259.956 128.987 259.215 L128.987 254.516 Q131.07 255.65 133.293 256.206 Q135.515 256.761 137.992 256.761 Q141.996 256.761 144.334 254.655 Q146.672 252.548 146.672 248.937 Q146.672 245.326 144.334 243.22 Q141.996 241.113 137.992 241.113 Q136.117 241.113 134.242 241.53 Q132.39 241.946 130.445 242.826 L130.445 225.465 Z\" fill=\"#000000\" fill-rule=\"evenodd\" fill-opacity=\"1\" /><path clip-path=\"url(#clip240)\" d=\"M 0 0 M76.418 73.775 Q72.8069 73.775 70.9782 77.3398 Q69.1726 80.8814 69.1726 88.011 Q69.1726 95.1174 70.9782 98.6822 Q72.8069 102.224 76.418 102.224 Q80.0522 102.224 81.8578 98.6822 Q83.6865 95.1174 83.6865 88.011 Q83.6865 80.8814 81.8578 77.3398 Q80.0522 73.775 76.418 73.775 M76.418 70.0713 Q82.2281 70.0713 85.2837 74.6777 Q88.3624 79.261 88.3624 88.011 Q88.3624 96.7378 85.2837 101.344 Q82.2281 105.928 76.418 105.928 Q70.6078 105.928 67.5291 101.344 Q64.4736 96.7378 64.4736 88.011 Q64.4736 79.261 67.5291 74.6777 Q70.6078 70.0713 76.418 70.0713 Z\" fill=\"#000000\" fill-rule=\"evenodd\" fill-opacity=\"1\" /><path clip-path=\"url(#clip240)\" d=\"M 0 0 M93.4318 99.3767 L98.316 99.3767 L98.316 105.256 L93.4318 105.256 L93.4318 99.3767 Z\" fill=\"#000000\" fill-rule=\"evenodd\" fill-opacity=\"1\" /><path clip-path=\"url(#clip240)\" d=\"M 0 0 M103.432 70.6963 L121.788 70.6963 L121.788 74.6314 L107.714 74.6314 L107.714 83.1036 Q108.733 82.7564 109.751 82.5944 Q110.77 82.4092 111.788 82.4092 Q117.575 82.4092 120.955 85.5805 Q124.334 88.7517 124.334 94.1684 Q124.334 99.747 120.862 102.849 Q117.39 105.928 111.071 105.928 Q108.895 105.928 106.626 105.557 Q104.381 105.187 101.973 104.446 L101.973 99.747 Q104.057 100.881 106.279 101.437 Q108.501 101.992 110.978 101.992 Q114.983 101.992 117.321 99.8859 Q119.658 97.7795 119.658 94.1684 Q119.658 90.5573 117.321 88.4508 Q114.983 86.3443 110.978 86.3443 Q109.103 86.3443 107.228 86.761 Q105.376 87.1777 103.432 88.0573 L103.432 70.6963 Z\" fill=\"#000000\" fill-rule=\"evenodd\" fill-opacity=\"1\" /><path clip-path=\"url(#clip240)\" d=\"M 0 0 M139.404 73.775 Q135.793 73.775 133.964 77.3398 Q132.158 80.8814 132.158 88.011 Q132.158 95.1174 133.964 98.6822 Q135.793 102.224 139.404 102.224 Q143.038 102.224 144.844 98.6822 Q146.672 95.1174 146.672 88.011 Q146.672 80.8814 144.844 77.3398 Q143.038 73.775 139.404 73.775 M139.404 70.0713 Q145.214 70.0713 148.269 74.6777 Q151.348 79.261 151.348 88.011 Q151.348 96.7378 148.269 101.344 Q145.214 105.928 139.404 105.928 Q133.594 105.928 130.515 101.344 Q127.459 96.7378 127.459 88.011 Q127.459 79.261 130.515 74.6777 Q133.594 70.0713 139.404 70.0713 Z\" fill=\"#000000\" fill-rule=\"evenodd\" fill-opacity=\"1\" /><polyline clip-path=\"url(#clip242)\" style=\"stroke:#009af9; stroke-width:4; stroke-opacity:1; fill:none\" points=\"\n",
       "  236.973,87.9763 267.181,88.1411 297.389,88.6357 327.598,89.4605 357.806,90.6159 388.014,92.1026 418.222,93.9217 448.43,96.0743 478.639,98.5618 508.847,101.386 \n",
       "  539.055,104.548 569.263,108.051 599.471,111.897 629.68,116.088 659.888,120.628 690.096,125.519 720.304,130.765 750.512,136.37 780.721,142.337 810.929,148.671 \n",
       "  841.137,155.377 871.345,162.46 901.554,169.925 931.762,177.778 961.97,186.026 992.178,194.675 1022.39,203.732 1052.59,213.206 1082.8,223.104 1113.01,233.436 \n",
       "  1143.22,244.212 1173.43,255.441 1203.64,267.135 1233.84,279.306 1264.05,291.967 1294.26,305.131 1324.47,318.815 1354.68,333.034 1384.88,347.805 1415.09,363.15 \n",
       "  1445.3,379.087 1475.51,395.641 1505.72,412.836 1535.93,430.699 1566.13,449.261 1596.34,468.556 1626.55,488.619 1656.76,509.493 1686.97,531.223 1717.18,553.86 \n",
       "  1747.38,577.464 1777.59,602.1 1807.8,627.843 1838.01,654.782 1868.22,683.017 1898.42,712.668 1928.63,743.875 1958.84,776.809 1989.05,811.675 2019.26,848.732 \n",
       "  2049.47,888.305 2079.67,930.817 2109.88,976.838 2140.09,1027.16 2170.3,1082.96 2200.51,1146.12 2230.71,1219.95 2260.92,1311.69 2291.13,1445.72 \n",
       "  \"/>\n",
       "</svg>\n"
      ]
     },
     "execution_count": 245,
     "metadata": {},
     "output_type": "execute_result"
    }
   ],
   "source": [
    "plot([Z for Z in 0:68], Z -> μ(Z), background_color=\"darkgrey\", legend=false, xticks=[i for i in 0:2:68], \n",
    "    yticks=[i for i in 0:0.05:0.5])"
   ]
  },
  {
   "cell_type": "markdown",
   "metadata": {},
   "source": [
    "We choose the Radial wavefunction to have the form (15)"
   ]
  },
  {
   "cell_type": "markdown",
   "metadata": {},
   "source": [
    "_₂F₁ is the Gaussian hyperbolic function that becomes asymptotically close to the confluent Hypergeometric function as $a\\longrightarrow \\infty$, this can be found inside the package HypergeometricFunctions\n",
    "\n",
    "However we need to be able put an upper limit on the summation for the purposes of normalizaton, so instead we can make our own approximation using a recurrence relation"
   ]
  },
  {
   "cell_type": "code",
   "execution_count": 246,
   "metadata": {},
   "outputs": [
    {
     "data": {
      "text/plain": [
       "f (generic function with 2 methods)"
      ]
     },
     "execution_count": 246,
     "metadata": {},
     "output_type": "execute_result"
    }
   ],
   "source": [
    "function f(r,ε; N=10, a0=1, kw...)\n",
    "    Z = try Z == Int catch nothing end == nothing ? 10 : Z\n",
    "    S = Float64[]\n",
    "    a = ν(Z)-λ(ε)\n",
    "    b = 2ν(Z)\n",
    "    \n",
    "    push!(S, a0)\n",
    "    \n",
    "    for i in 2:N\n",
    "        push!(S, S[i-1]*((a+i-1)*ρ(r,ε))/(b+i-1))\n",
    "    end\n",
    "    return sum(S)\n",
    "end"
   ]
  },
  {
   "cell_type": "code",
   "execution_count": 247,
   "metadata": {
    "scrolled": true
   },
   "outputs": [
    {
     "data": {
      "text/plain": [
       "R (generic function with 2 methods)"
      ]
     },
     "execution_count": 247,
     "metadata": {},
     "output_type": "execute_result"
    }
   ],
   "source": [
    "function R(r ,ε; Z::Int=1) \n",
    "    return ρ(r,ε)^(ν(Z))*exp(-ρ(r,ε)/2)*f(r,ε; Z=Z)\n",
    "end"
   ]
  },
  {
   "cell_type": "markdown",
   "metadata": {},
   "source": [
    "### 3rd Step\n",
    "after having made logical constraints, we are naturally led to the energy values (22)"
   ]
  },
  {
   "cell_type": "code",
   "execution_count": 248,
   "metadata": {},
   "outputs": [
    {
     "data": {
      "text/plain": [
       "ε (generic function with 1 method)"
      ]
     },
     "execution_count": 248,
     "metadata": {},
     "output_type": "execute_result"
    }
   ],
   "source": [
    "function ε(n,l; Z=10, m0=m0)\n",
    "    rest = m0*c^2\n",
    "    return rest/sqrt(1+((Z*α)^2)/(n-l-1/2+sqrt((l+1/2)^2-(Z*α)^2))^2)\n",
    "end"
   ]
  },
  {
   "cell_type": "code",
   "execution_count": 249,
   "metadata": {
    "scrolled": false
   },
   "outputs": [
    {
     "data": {
      "image/svg+xml": [
       "<?xml version=\"1.0\" encoding=\"utf-8\"?>\n",
       "<svg xmlns=\"http://www.w3.org/2000/svg\" xmlns:xlink=\"http://www.w3.org/1999/xlink\" width=\"600\" height=\"400\" viewBox=\"0 0 2400 1600\">\n",
       "<defs>\n",
       "  <clipPath id=\"clip280\">\n",
       "    <rect x=\"0\" y=\"0\" width=\"2400\" height=\"1600\"/>\n",
       "  </clipPath>\n",
       "</defs>\n",
       "<path clip-path=\"url(#clip280)\" d=\"\n",
       "M0 1600 L2400 1600 L2400 0 L0 0  Z\n",
       "  \" fill=\"#a9a9a9\" fill-rule=\"evenodd\" fill-opacity=\"1\"/>\n",
       "<defs>\n",
       "  <clipPath id=\"clip281\">\n",
       "    <rect x=\"480\" y=\"0\" width=\"1681\" height=\"1600\"/>\n",
       "  </clipPath>\n",
       "</defs>\n",
       "<path clip-path=\"url(#clip280)\" d=\"\n",
       "M162.084 1486.45 L2352.76 1486.45 L2352.76 47.2441 L162.084 47.2441  Z\n",
       "  \" fill=\"#a9a9a9\" fill-rule=\"evenodd\" fill-opacity=\"1\"/>\n",
       "<defs>\n",
       "  <clipPath id=\"clip282\">\n",
       "    <rect x=\"162\" y=\"47\" width=\"2192\" height=\"1440\"/>\n",
       "  </clipPath>\n",
       "</defs>\n",
       "<polyline clip-path=\"url(#clip282)\" style=\"stroke:#000000; stroke-width:2; stroke-opacity:0.1; fill:none\" points=\"\n",
       "  224.084,1486.45 224.084,47.2441 \n",
       "  \"/>\n",
       "<polyline clip-path=\"url(#clip282)\" style=\"stroke:#000000; stroke-width:2; stroke-opacity:0.1; fill:none\" points=\"\n",
       "  912.975,1486.45 912.975,47.2441 \n",
       "  \"/>\n",
       "<polyline clip-path=\"url(#clip282)\" style=\"stroke:#000000; stroke-width:2; stroke-opacity:0.1; fill:none\" points=\"\n",
       "  1601.87,1486.45 1601.87,47.2441 \n",
       "  \"/>\n",
       "<polyline clip-path=\"url(#clip282)\" style=\"stroke:#000000; stroke-width:2; stroke-opacity:0.1; fill:none\" points=\"\n",
       "  2290.76,1486.45 2290.76,47.2441 \n",
       "  \"/>\n",
       "<polyline clip-path=\"url(#clip282)\" style=\"stroke:#000000; stroke-width:2; stroke-opacity:0.1; fill:none\" points=\"\n",
       "  162.084,1327.82 2352.76,1327.82 \n",
       "  \"/>\n",
       "<polyline clip-path=\"url(#clip282)\" style=\"stroke:#000000; stroke-width:2; stroke-opacity:0.1; fill:none\" points=\"\n",
       "  162.084,1013.93 2352.76,1013.93 \n",
       "  \"/>\n",
       "<polyline clip-path=\"url(#clip282)\" style=\"stroke:#000000; stroke-width:2; stroke-opacity:0.1; fill:none\" points=\"\n",
       "  162.084,700.049 2352.76,700.049 \n",
       "  \"/>\n",
       "<polyline clip-path=\"url(#clip282)\" style=\"stroke:#000000; stroke-width:2; stroke-opacity:0.1; fill:none\" points=\"\n",
       "  162.084,386.166 2352.76,386.166 \n",
       "  \"/>\n",
       "<polyline clip-path=\"url(#clip282)\" style=\"stroke:#000000; stroke-width:2; stroke-opacity:0.1; fill:none\" points=\"\n",
       "  162.084,72.2821 2352.76,72.2821 \n",
       "  \"/>\n",
       "<polyline clip-path=\"url(#clip280)\" style=\"stroke:#000000; stroke-width:4; stroke-opacity:1; fill:none\" points=\"\n",
       "  162.084,1486.45 2352.76,1486.45 \n",
       "  \"/>\n",
       "<polyline clip-path=\"url(#clip280)\" style=\"stroke:#000000; stroke-width:4; stroke-opacity:1; fill:none\" points=\"\n",
       "  162.084,1486.45 162.084,47.2441 \n",
       "  \"/>\n",
       "<polyline clip-path=\"url(#clip280)\" style=\"stroke:#000000; stroke-width:4; stroke-opacity:1; fill:none\" points=\"\n",
       "  224.084,1486.45 224.084,1469.18 \n",
       "  \"/>\n",
       "<polyline clip-path=\"url(#clip280)\" style=\"stroke:#000000; stroke-width:4; stroke-opacity:1; fill:none\" points=\"\n",
       "  912.975,1486.45 912.975,1469.18 \n",
       "  \"/>\n",
       "<polyline clip-path=\"url(#clip280)\" style=\"stroke:#000000; stroke-width:4; stroke-opacity:1; fill:none\" points=\"\n",
       "  1601.87,1486.45 1601.87,1469.18 \n",
       "  \"/>\n",
       "<polyline clip-path=\"url(#clip280)\" style=\"stroke:#000000; stroke-width:4; stroke-opacity:1; fill:none\" points=\"\n",
       "  2290.76,1486.45 2290.76,1469.18 \n",
       "  \"/>\n",
       "<polyline clip-path=\"url(#clip280)\" style=\"stroke:#000000; stroke-width:4; stroke-opacity:1; fill:none\" points=\"\n",
       "  162.084,1327.82 188.372,1327.82 \n",
       "  \"/>\n",
       "<polyline clip-path=\"url(#clip280)\" style=\"stroke:#000000; stroke-width:4; stroke-opacity:1; fill:none\" points=\"\n",
       "  162.084,1013.93 188.372,1013.93 \n",
       "  \"/>\n",
       "<polyline clip-path=\"url(#clip280)\" style=\"stroke:#000000; stroke-width:4; stroke-opacity:1; fill:none\" points=\"\n",
       "  162.084,700.049 188.372,700.049 \n",
       "  \"/>\n",
       "<polyline clip-path=\"url(#clip280)\" style=\"stroke:#000000; stroke-width:4; stroke-opacity:1; fill:none\" points=\"\n",
       "  162.084,386.166 188.372,386.166 \n",
       "  \"/>\n",
       "<polyline clip-path=\"url(#clip280)\" style=\"stroke:#000000; stroke-width:4; stroke-opacity:1; fill:none\" points=\"\n",
       "  162.084,72.2821 188.372,72.2821 \n",
       "  \"/>\n",
       "<path clip-path=\"url(#clip280)\" d=\"M 0 0 M224.084 1508.44 Q220.473 1508.44 218.645 1512 Q216.839 1515.55 216.839 1522.67 Q216.839 1529.78 218.645 1533.35 Q220.473 1536.89 224.084 1536.89 Q227.719 1536.89 229.524 1533.35 Q231.353 1529.78 231.353 1522.67 Q231.353 1515.55 229.524 1512 Q227.719 1508.44 224.084 1508.44 M224.084 1504.73 Q229.895 1504.73 232.95 1509.34 Q236.029 1513.92 236.029 1522.67 Q236.029 1531.4 232.95 1536.01 Q229.895 1540.59 224.084 1540.59 Q218.274 1540.59 215.196 1536.01 Q212.14 1531.4 212.14 1522.67 Q212.14 1513.92 215.196 1509.34 Q218.274 1504.73 224.084 1504.73 Z\" fill=\"#000000\" fill-rule=\"evenodd\" fill-opacity=\"1\" /><path clip-path=\"url(#clip280)\" d=\"M 0 0 M876.343 1535.98 L883.982 1535.98 L883.982 1509.62 L875.672 1511.29 L875.672 1507.03 L883.936 1505.36 L888.612 1505.36 L888.612 1535.98 L896.25 1535.98 L896.25 1539.92 L876.343 1539.92 L876.343 1535.98 Z\" fill=\"#000000\" fill-rule=\"evenodd\" fill-opacity=\"1\" /><path clip-path=\"url(#clip280)\" d=\"M 0 0 M911.32 1508.44 Q907.709 1508.44 905.88 1512 Q904.074 1515.55 904.074 1522.67 Q904.074 1529.78 905.88 1533.35 Q907.709 1536.89 911.32 1536.89 Q914.954 1536.89 916.76 1533.35 Q918.588 1529.78 918.588 1522.67 Q918.588 1515.55 916.76 1512 Q914.954 1508.44 911.32 1508.44 M911.32 1504.73 Q917.13 1504.73 920.186 1509.34 Q923.264 1513.92 923.264 1522.67 Q923.264 1531.4 920.186 1536.01 Q917.13 1540.59 911.32 1540.59 Q905.51 1540.59 902.431 1536.01 Q899.375 1531.4 899.375 1522.67 Q899.375 1513.92 902.431 1509.34 Q905.51 1504.73 911.32 1504.73 Z\" fill=\"#000000\" fill-rule=\"evenodd\" fill-opacity=\"1\" /><path clip-path=\"url(#clip280)\" d=\"M 0 0 M938.334 1508.44 Q934.722 1508.44 932.894 1512 Q931.088 1515.55 931.088 1522.67 Q931.088 1529.78 932.894 1533.35 Q934.722 1536.89 938.334 1536.89 Q941.968 1536.89 943.773 1533.35 Q945.602 1529.78 945.602 1522.67 Q945.602 1515.55 943.773 1512 Q941.968 1508.44 938.334 1508.44 M938.334 1504.73 Q944.144 1504.73 947.199 1509.34 Q950.278 1513.92 950.278 1522.67 Q950.278 1531.4 947.199 1536.01 Q944.144 1540.59 938.334 1540.59 Q932.523 1540.59 929.445 1536.01 Q926.389 1531.4 926.389 1522.67 Q926.389 1513.92 929.445 1509.34 Q932.523 1504.73 938.334 1504.73 Z\" fill=\"#000000\" fill-rule=\"evenodd\" fill-opacity=\"1\" /><path clip-path=\"url(#clip280)\" d=\"M 0 0 M1569.5 1535.98 L1585.82 1535.98 L1585.82 1539.92 L1563.88 1539.92 L1563.88 1535.98 Q1566.54 1533.23 1571.12 1528.6 Q1575.73 1523.95 1576.91 1522.61 Q1579.16 1520.08 1580.04 1518.35 Q1580.94 1516.59 1580.94 1514.9 Q1580.94 1512.14 1579 1510.41 Q1577.07 1508.67 1573.97 1508.67 Q1571.77 1508.67 1569.32 1509.43 Q1566.89 1510.2 1564.11 1511.75 L1564.11 1507.03 Q1566.93 1505.89 1569.39 1505.31 Q1571.84 1504.73 1573.88 1504.73 Q1579.25 1504.73 1582.44 1507.42 Q1585.64 1510.11 1585.64 1514.6 Q1585.64 1516.73 1584.83 1518.65 Q1584.04 1520.54 1581.93 1523.14 Q1581.36 1523.81 1578.25 1527.03 Q1575.15 1530.22 1569.5 1535.98 Z\" fill=\"#000000\" fill-rule=\"evenodd\" fill-opacity=\"1\" /><path clip-path=\"url(#clip280)\" d=\"M 0 0 M1600.89 1508.44 Q1597.28 1508.44 1595.45 1512 Q1593.65 1515.55 1593.65 1522.67 Q1593.65 1529.78 1595.45 1533.35 Q1597.28 1536.89 1600.89 1536.89 Q1604.53 1536.89 1606.33 1533.35 Q1608.16 1529.78 1608.16 1522.67 Q1608.16 1515.55 1606.33 1512 Q1604.53 1508.44 1600.89 1508.44 M1600.89 1504.73 Q1606.7 1504.73 1609.76 1509.34 Q1612.84 1513.92 1612.84 1522.67 Q1612.84 1531.4 1609.76 1536.01 Q1606.7 1540.59 1600.89 1540.59 Q1595.08 1540.59 1592 1536.01 Q1588.95 1531.4 1588.95 1522.67 Q1588.95 1513.92 1592 1509.34 Q1595.08 1504.73 1600.89 1504.73 Z\" fill=\"#000000\" fill-rule=\"evenodd\" fill-opacity=\"1\" /><path clip-path=\"url(#clip280)\" d=\"M 0 0 M1627.91 1508.44 Q1624.3 1508.44 1622.47 1512 Q1620.66 1515.55 1620.66 1522.67 Q1620.66 1529.78 1622.47 1533.35 Q1624.3 1536.89 1627.91 1536.89 Q1631.54 1536.89 1633.35 1533.35 Q1635.18 1529.78 1635.18 1522.67 Q1635.18 1515.55 1633.35 1512 Q1631.54 1508.44 1627.91 1508.44 M1627.91 1504.73 Q1633.72 1504.73 1636.77 1509.34 Q1639.85 1513.92 1639.85 1522.67 Q1639.85 1531.4 1636.77 1536.01 Q1633.72 1540.59 1627.91 1540.59 Q1622.1 1540.59 1619.02 1536.01 Q1615.96 1531.4 1615.96 1522.67 Q1615.96 1513.92 1619.02 1509.34 Q1622.1 1504.73 1627.91 1504.73 Z\" fill=\"#000000\" fill-rule=\"evenodd\" fill-opacity=\"1\" /><path clip-path=\"url(#clip280)\" d=\"M 0 0 M2267.99 1521.29 Q2271.35 1522 2273.22 1524.27 Q2275.12 1526.54 2275.12 1529.87 Q2275.12 1534.99 2271.6 1537.79 Q2268.08 1540.59 2261.6 1540.59 Q2259.42 1540.59 2257.11 1540.15 Q2254.82 1539.73 2252.36 1538.88 L2252.36 1534.36 Q2254.31 1535.5 2256.62 1536.08 Q2258.94 1536.66 2261.46 1536.66 Q2265.86 1536.66 2268.15 1534.92 Q2270.47 1533.18 2270.47 1529.87 Q2270.47 1526.82 2268.31 1525.11 Q2266.18 1523.37 2262.36 1523.37 L2258.34 1523.37 L2258.34 1519.53 L2262.55 1519.53 Q2266 1519.53 2267.83 1518.16 Q2269.66 1516.77 2269.66 1514.18 Q2269.66 1511.52 2267.76 1510.11 Q2265.88 1508.67 2262.36 1508.67 Q2260.44 1508.67 2258.24 1509.09 Q2256.05 1509.5 2253.41 1510.38 L2253.41 1506.22 Q2256.07 1505.48 2258.38 1505.11 Q2260.72 1504.73 2262.78 1504.73 Q2268.11 1504.73 2271.21 1507.17 Q2274.31 1509.57 2274.31 1513.69 Q2274.31 1516.56 2272.67 1518.55 Q2271.02 1520.52 2267.99 1521.29 Z\" fill=\"#000000\" fill-rule=\"evenodd\" fill-opacity=\"1\" /><path clip-path=\"url(#clip280)\" d=\"M 0 0 M2290.19 1508.44 Q2286.58 1508.44 2284.75 1512 Q2282.94 1515.55 2282.94 1522.67 Q2282.94 1529.78 2284.75 1533.35 Q2286.58 1536.89 2290.19 1536.89 Q2293.82 1536.89 2295.63 1533.35 Q2297.46 1529.78 2297.46 1522.67 Q2297.46 1515.55 2295.63 1512 Q2293.82 1508.44 2290.19 1508.44 M2290.19 1504.73 Q2296 1504.73 2299.05 1509.34 Q2302.13 1513.92 2302.13 1522.67 Q2302.13 1531.4 2299.05 1536.01 Q2296 1540.59 2290.19 1540.59 Q2284.38 1540.59 2281.3 1536.01 Q2278.24 1531.4 2278.24 1522.67 Q2278.24 1513.92 2281.3 1509.34 Q2284.38 1504.73 2290.19 1504.73 Z\" fill=\"#000000\" fill-rule=\"evenodd\" fill-opacity=\"1\" /><path clip-path=\"url(#clip280)\" d=\"M 0 0 M2317.2 1508.44 Q2313.59 1508.44 2311.76 1512 Q2309.96 1515.55 2309.96 1522.67 Q2309.96 1529.78 2311.76 1533.35 Q2313.59 1536.89 2317.2 1536.89 Q2320.84 1536.89 2322.64 1533.35 Q2324.47 1529.78 2324.47 1522.67 Q2324.47 1515.55 2322.64 1512 Q2320.84 1508.44 2317.2 1508.44 M2317.2 1504.73 Q2323.01 1504.73 2326.07 1509.34 Q2329.15 1513.92 2329.15 1522.67 Q2329.15 1531.4 2326.07 1536.01 Q2323.01 1540.59 2317.2 1540.59 Q2311.39 1540.59 2308.31 1536.01 Q2305.26 1531.4 2305.26 1522.67 Q2305.26 1513.92 2308.31 1509.34 Q2311.39 1504.73 2317.2 1504.73 Z\" fill=\"#000000\" fill-rule=\"evenodd\" fill-opacity=\"1\" /><path clip-path=\"url(#clip280)\" d=\"M 0 0 M99.5429 1325.95 Q96.3947 1325.95 94.5429 1328.11 Q92.7142 1330.26 92.7142 1334.01 Q92.7142 1337.73 94.5429 1339.91 Q96.3947 1342.06 99.5429 1342.06 Q102.691 1342.06 104.52 1339.91 Q106.372 1337.73 106.372 1334.01 Q106.372 1330.26 104.52 1328.11 Q102.691 1325.95 99.5429 1325.95 M108.825 1311.3 L108.825 1315.56 Q107.066 1314.73 105.26 1314.29 Q103.478 1313.85 101.719 1313.85 Q97.0892 1313.85 94.6355 1316.97 Q92.2049 1320.1 91.8577 1326.42 Q93.2234 1324.4 95.2836 1323.34 Q97.3438 1322.25 99.8206 1322.25 Q105.029 1322.25 108.038 1325.42 Q111.071 1328.57 111.071 1334.01 Q111.071 1339.33 107.922 1342.55 Q104.774 1345.77 99.5429 1345.77 Q93.5475 1345.77 90.3762 1341.18 Q87.205 1336.58 87.205 1327.85 Q87.205 1319.66 91.0938 1314.8 Q94.9827 1309.91 101.534 1309.91 Q103.293 1309.91 105.075 1310.26 Q106.881 1310.61 108.825 1311.3 Z\" fill=\"#000000\" fill-rule=\"evenodd\" fill-opacity=\"1\" /><path clip-path=\"url(#clip280)\" d=\"M 0 0 M126.14 1313.61 Q122.529 1313.61 120.7 1317.18 Q118.895 1320.72 118.895 1327.85 Q118.895 1334.96 120.7 1338.52 Q122.529 1342.06 126.14 1342.06 Q129.774 1342.06 131.58 1338.52 Q133.408 1334.96 133.408 1327.85 Q133.408 1320.72 131.58 1317.18 Q129.774 1313.61 126.14 1313.61 M126.14 1309.91 Q131.95 1309.91 135.006 1314.52 Q138.084 1319.1 138.084 1327.85 Q138.084 1336.58 135.006 1341.18 Q131.95 1345.77 126.14 1345.77 Q120.33 1345.77 117.251 1341.18 Q114.196 1336.58 114.196 1327.85 Q114.196 1319.1 117.251 1314.52 Q120.33 1309.91 126.14 1309.91 Z\" fill=\"#000000\" fill-rule=\"evenodd\" fill-opacity=\"1\" /><path clip-path=\"url(#clip280)\" d=\"M 0 0 M99.2188 1014.8 Q95.8855 1014.8 93.9642 1016.58 Q92.066 1018.37 92.066 1021.49 Q92.066 1024.62 93.9642 1026.4 Q95.8855 1028.18 99.2188 1028.18 Q102.552 1028.18 104.473 1026.4 Q106.395 1024.59 106.395 1021.49 Q106.395 1018.37 104.473 1016.58 Q102.575 1014.8 99.2188 1014.8 M94.5429 1012.81 Q91.5336 1012.07 89.8438 1010.01 Q88.1772 1007.95 88.1772 1004.99 Q88.1772 1000.84 91.117 998.435 Q94.0799 996.027 99.2188 996.027 Q104.381 996.027 107.321 998.435 Q110.26 1000.84 110.26 1004.99 Q110.26 1007.95 108.571 1010.01 Q106.904 1012.07 103.918 1012.81 Q107.297 1013.6 109.172 1015.89 Q111.071 1018.18 111.071 1021.49 Q111.071 1026.51 107.992 1029.2 Q104.936 1031.88 99.2188 1031.88 Q93.5012 1031.88 90.4225 1029.2 Q87.367 1026.51 87.367 1021.49 Q87.367 1018.18 89.2651 1015.89 Q91.1633 1013.6 94.5429 1012.81 M92.8299 1005.43 Q92.8299 1008.11 94.4966 1009.62 Q96.1864 1011.12 99.2188 1011.12 Q102.228 1011.12 103.918 1009.62 Q105.631 1008.11 105.631 1005.43 Q105.631 1002.74 103.918 1001.24 Q102.228 999.731 99.2188 999.731 Q96.1864 999.731 94.4966 1001.24 Q92.8299 1002.74 92.8299 1005.43 Z\" fill=\"#000000\" fill-rule=\"evenodd\" fill-opacity=\"1\" /><path clip-path=\"url(#clip280)\" d=\"M 0 0 M126.14 999.731 Q122.529 999.731 120.7 1003.3 Q118.895 1006.84 118.895 1013.97 Q118.895 1021.07 120.7 1024.64 Q122.529 1028.18 126.14 1028.18 Q129.774 1028.18 131.58 1024.64 Q133.408 1021.07 133.408 1013.97 Q133.408 1006.84 131.58 1003.3 Q129.774 999.731 126.14 999.731 M126.14 996.027 Q131.95 996.027 135.006 1000.63 Q138.084 1005.22 138.084 1013.97 Q138.084 1022.69 135.006 1027.3 Q131.95 1031.88 126.14 1031.88 Q120.33 1031.88 117.251 1027.3 Q114.196 1022.69 114.196 1013.97 Q114.196 1005.22 117.251 1000.63 Q120.33 996.027 126.14 996.027 Z\" fill=\"#000000\" fill-rule=\"evenodd\" fill-opacity=\"1\" /><path clip-path=\"url(#clip280)\" d=\"M 0 0 M64.1495 713.394 L71.7884 713.394 L71.7884 687.028 L63.4782 688.695 L63.4782 684.436 L71.7421 682.769 L76.418 682.769 L76.418 713.394 L84.0568 713.394 L84.0568 717.329 L64.1495 717.329 L64.1495 713.394 Z\" fill=\"#000000\" fill-rule=\"evenodd\" fill-opacity=\"1\" /><path clip-path=\"url(#clip280)\" d=\"M 0 0 M99.1262 685.848 Q95.5151 685.848 93.6864 689.413 Q91.8809 692.954 91.8809 700.084 Q91.8809 707.19 93.6864 710.755 Q95.5151 714.297 99.1262 714.297 Q102.76 714.297 104.566 710.755 Q106.395 707.19 106.395 700.084 Q106.395 692.954 104.566 689.413 Q102.76 685.848 99.1262 685.848 M99.1262 682.144 Q104.936 682.144 107.992 686.75 Q111.071 691.334 111.071 700.084 Q111.071 708.811 107.992 713.417 Q104.936 718 99.1262 718 Q93.316 718 90.2374 713.417 Q87.1818 708.811 87.1818 700.084 Q87.1818 691.334 90.2374 686.75 Q93.316 682.144 99.1262 682.144 Z\" fill=\"#000000\" fill-rule=\"evenodd\" fill-opacity=\"1\" /><path clip-path=\"url(#clip280)\" d=\"M 0 0 M126.14 685.848 Q122.529 685.848 120.7 689.413 Q118.895 692.954 118.895 700.084 Q118.895 707.19 120.7 710.755 Q122.529 714.297 126.14 714.297 Q129.774 714.297 131.58 710.755 Q133.408 707.19 133.408 700.084 Q133.408 692.954 131.58 689.413 Q129.774 685.848 126.14 685.848 M126.14 682.144 Q131.95 682.144 135.006 686.75 Q138.084 691.334 138.084 700.084 Q138.084 708.811 135.006 713.417 Q131.95 718 126.14 718 Q120.33 718 117.251 713.417 Q114.196 708.811 114.196 700.084 Q114.196 691.334 117.251 686.75 Q120.33 682.144 126.14 682.144 Z\" fill=\"#000000\" fill-rule=\"evenodd\" fill-opacity=\"1\" /><path clip-path=\"url(#clip280)\" d=\"M 0 0 M65.7467 399.51 L73.3856 399.51 L73.3856 373.145 L65.0754 374.811 L65.0754 370.552 L73.3393 368.886 L78.0152 368.886 L78.0152 399.51 L85.654 399.51 L85.654 403.446 L65.7467 403.446 L65.7467 399.51 Z\" fill=\"#000000\" fill-rule=\"evenodd\" fill-opacity=\"1\" /><path clip-path=\"url(#clip280)\" d=\"M 0 0 M94.7512 399.51 L111.071 399.51 L111.071 403.446 L89.1262 403.446 L89.1262 399.51 Q91.7883 396.756 96.3716 392.126 Q100.978 387.473 102.159 386.131 Q104.404 383.608 105.284 381.872 Q106.186 380.112 106.186 378.423 Q106.186 375.668 104.242 373.932 Q102.321 372.196 99.2188 372.196 Q97.0197 372.196 94.566 372.96 Q92.1355 373.724 89.3577 375.274 L89.3577 370.552 Q92.1818 369.418 94.6355 368.839 Q97.0892 368.261 99.1262 368.261 Q104.497 368.261 107.691 370.946 Q110.885 373.631 110.885 378.122 Q110.885 380.251 110.075 382.173 Q109.288 384.071 107.182 386.663 Q106.603 387.335 103.501 390.552 Q100.399 393.747 94.7512 399.51 Z\" fill=\"#000000\" fill-rule=\"evenodd\" fill-opacity=\"1\" /><path clip-path=\"url(#clip280)\" d=\"M 0 0 M126.14 371.964 Q122.529 371.964 120.7 375.529 Q118.895 379.071 118.895 386.2 Q118.895 393.307 120.7 396.872 Q122.529 400.413 126.14 400.413 Q129.774 400.413 131.58 396.872 Q133.408 393.307 133.408 386.2 Q133.408 379.071 131.58 375.529 Q129.774 371.964 126.14 371.964 M126.14 368.261 Q131.95 368.261 135.006 372.867 Q138.084 377.45 138.084 386.2 Q138.084 394.927 135.006 399.534 Q131.95 404.117 126.14 404.117 Q120.33 404.117 117.251 399.534 Q114.196 394.927 114.196 386.2 Q114.196 377.45 117.251 372.867 Q120.33 368.261 126.14 368.261 Z\" fill=\"#000000\" fill-rule=\"evenodd\" fill-opacity=\"1\" /><path clip-path=\"url(#clip280)\" d=\"M 0 0 M63.6634 85.6269 L71.3023 85.6269 L71.3023 59.2613 L62.9921 60.928 L62.9921 56.6688 L71.256 55.0021 L75.9319 55.0021 L75.9319 85.6269 L83.5707 85.6269 L83.5707 89.5621 L63.6634 89.5621 L63.6634 85.6269 Z\" fill=\"#000000\" fill-rule=\"evenodd\" fill-opacity=\"1\" /><path clip-path=\"url(#clip280)\" d=\"M 0 0 M101.487 59.0762 L89.6818 77.5251 L101.487 77.5251 L101.487 59.0762 M100.26 55.0021 L106.14 55.0021 L106.14 77.5251 L111.071 77.5251 L111.071 81.414 L106.14 81.414 L106.14 89.5621 L101.487 89.5621 L101.487 81.414 L85.8855 81.414 L85.8855 76.9001 L100.26 55.0021 Z\" fill=\"#000000\" fill-rule=\"evenodd\" fill-opacity=\"1\" /><path clip-path=\"url(#clip280)\" d=\"M 0 0 M126.14 58.0808 Q122.529 58.0808 120.7 61.6456 Q118.895 65.1872 118.895 72.3168 Q118.895 79.4233 120.7 82.9881 Q122.529 86.5297 126.14 86.5297 Q129.774 86.5297 131.58 82.9881 Q133.408 79.4233 133.408 72.3168 Q133.408 65.1872 131.58 61.6456 Q129.774 58.0808 126.14 58.0808 M126.14 54.3771 Q131.95 54.3771 135.006 58.9836 Q138.084 63.5669 138.084 72.3168 Q138.084 81.0436 135.006 85.6501 Q131.95 90.2334 126.14 90.2334 Q120.33 90.2334 117.251 85.6501 Q114.196 81.0436 114.196 72.3168 Q114.196 63.5669 117.251 58.9836 Q120.33 54.3771 126.14 54.3771 Z\" fill=\"#000000\" fill-rule=\"evenodd\" fill-opacity=\"1\" /><polyline clip-path=\"url(#clip282)\" style=\"stroke:#009af9; stroke-width:4; stroke-opacity:1; fill:none\" points=\"\n",
       "  224.084,87.9763 230.973,88.0344 237.862,88.2087 244.751,88.4993 251.64,88.9066 258.529,89.4308 265.418,90.0723 272.307,90.8317 279.196,91.7096 286.085,92.7067 \n",
       "  292.973,93.8237 299.862,95.0618 306.751,96.4218 313.64,97.905 320.529,99.5125 327.418,101.246 334.307,103.107 341.196,105.096 348.085,107.217 354.974,109.47 \n",
       "  361.863,111.858 368.751,114.383 375.64,117.047 382.529,119.853 389.418,122.805 396.307,125.904 403.196,129.155 410.085,132.56 416.974,136.124 423.863,139.85 \n",
       "  430.752,143.743 437.64,147.808 444.529,152.049 451.418,156.472 458.307,161.083 465.196,165.888 472.085,170.895 478.974,176.11 485.863,181.541 492.752,187.198 \n",
       "  499.641,193.09 506.53,199.228 513.418,205.622 520.307,212.286 527.196,219.234 534.085,226.481 540.974,234.045 547.863,241.943 554.752,250.199 561.641,258.835 \n",
       "  568.53,267.88 575.419,277.363 582.307,287.322 589.196,297.797 596.085,308.836 602.974,320.496 609.863,332.844 616.752,345.961 623.641,359.946 630.53,374.923 \n",
       "  637.419,391.048 644.308,408.527 651.197,427.635 658.085,448.759 664.974,472.474 671.863,499.694 678.752,532.06 685.641,573.136 692.53,635 \n",
       "  \"/>\n",
       "<polyline clip-path=\"url(#clip282)\" style=\"stroke:#e26f46; stroke-width:4; stroke-opacity:1; fill:none\" points=\"\n",
       "  224.084,87.9763 230.973,87.9908 237.862,88.0344 244.751,88.107 251.64,88.2086 258.529,88.3394 265.418,88.4992 272.307,88.6881 279.196,88.9061 286.085,89.1532 \n",
       "  292.973,89.4295 299.862,89.735 306.751,90.0696 313.64,90.4335 320.529,90.8267 327.418,91.2492 334.307,91.701 341.196,92.1823 348.085,92.6929 354.974,93.2331 \n",
       "  361.863,93.8028 368.751,94.4021 375.64,95.031 382.529,95.6896 389.418,96.378 396.307,97.0962 403.196,97.8444 410.085,98.6225 416.974,99.4307 423.863,100.269 \n",
       "  430.752,101.137 437.64,102.036 444.529,102.965 451.418,103.925 458.307,104.915 465.196,105.936 472.085,106.988 478.974,108.07 485.863,109.184 492.752,110.329 \n",
       "  499.641,111.504 506.53,112.711 513.418,113.95 520.307,115.22 527.196,116.522 534.085,117.856 540.974,119.221 547.863,120.619 554.752,122.049 561.641,123.511 \n",
       "  568.53,125.006 575.419,126.534 582.307,128.095 589.196,129.688 596.085,131.315 602.974,132.975 609.863,134.669 616.752,136.396 623.641,138.158 630.53,139.953 \n",
       "  637.419,141.783 644.308,143.647 651.197,145.547 658.085,147.481 664.974,149.45 671.863,151.454 678.752,153.495 685.641,155.571 692.53,157.683 699.419,159.831 \n",
       "  706.308,162.017 713.197,164.239 720.086,166.498 726.974,168.794 733.863,171.128 740.752,173.501 747.641,175.911 754.53,178.36 761.419,180.848 768.308,183.375 \n",
       "  775.197,185.941 782.086,188.548 788.975,191.194 795.864,193.881 802.752,196.609 809.641,199.378 816.53,202.189 823.419,205.041 830.308,207.936 837.197,210.874 \n",
       "  844.086,213.855 850.975,216.88 857.864,219.949 864.753,223.062 871.641,226.22 878.53,229.423 885.419,232.673 892.308,235.969 899.197,239.311 906.086,242.701 \n",
       "  912.975,246.139 919.864,249.626 926.753,253.161 933.642,256.746 940.531,260.382 947.419,264.068 954.308,267.805 961.197,271.595 968.086,275.437 974.975,279.333 \n",
       "  981.864,283.283 988.753,287.287 995.642,291.347 1002.53,295.464 1009.42,299.637 1016.31,303.869 1023.2,308.159 1030.09,312.508 1036.98,316.918 1043.86,321.389 \n",
       "  1050.75,325.923 1057.64,330.519 1064.53,335.18 1071.42,339.906 1078.31,344.699 1085.2,349.558 1092.09,354.486 1098.98,359.484 1105.86,364.552 1112.75,369.693 \n",
       "  1119.64,374.906 1126.53,380.194 1133.42,385.559 1140.31,391 1147.2,396.521 1154.09,402.122 1160.98,407.805 1167.86,413.571 1174.75,419.423 1181.64,425.361 \n",
       "  1188.53,431.389 1195.42,437.507 1202.31,443.718 1209.2,450.023 1216.09,456.426 1222.98,462.928 1229.86,469.531 1236.75,476.238 1243.64,483.051 1250.53,489.973 \n",
       "  1257.42,497.007 1264.31,504.156 1271.2,511.422 1278.09,518.809 1284.98,526.321 1291.86,533.96 1298.75,541.73 1305.64,549.635 1312.53,557.679 1319.42,565.867 \n",
       "  1326.31,574.202 1333.2,582.69 1340.09,591.336 1346.98,600.145 1353.86,609.122 1360.75,618.273 1367.64,627.605 1374.53,637.125 1381.42,646.84 1388.31,656.757 \n",
       "  1395.2,666.884 1402.09,677.231 1408.98,687.806 1415.86,698.621 1422.75,709.685 1429.64,721.01 1436.53,732.61 1443.42,744.499 1450.31,756.69 1457.2,769.201 \n",
       "  1464.09,782.051 1470.98,795.257 1477.87,808.844 1484.75,822.834 1491.64,837.255 1498.53,852.137 1505.42,867.513 1512.31,883.423 1519.2,899.91 1526.09,917.022 \n",
       "  1532.98,934.819 1539.87,953.367 1546.75,972.743 1553.64,993.043 1560.53,1014.38 1567.42,1036.89 1574.31,1060.74 1581.2,1086.15 1588.09,1113.41 1594.98,1142.89 \n",
       "  1601.87,1175.13 1608.75,1210.91 1615.64,1251.5 1622.53,1299.11 1629.42,1358.57 1636.31,1445.72 \n",
       "  \"/>\n",
       "<polyline clip-path=\"url(#clip282)\" style=\"stroke:#3da44d; stroke-width:4; stroke-opacity:1; fill:none\" points=\"\n",
       "  224.084,87.9763 230.973,87.9827 237.862,88.0021 244.751,88.0344 251.64,88.0795 258.529,88.1376 265.418,88.2086 272.307,88.2926 279.196,88.3894 286.085,88.4991 \n",
       "  292.973,88.6218 299.862,88.7574 306.751,88.906 313.64,89.0675 320.529,89.2419 327.418,89.4292 334.307,89.6296 341.196,89.8428 348.085,90.0691 354.974,90.3083 \n",
       "  361.863,90.5605 368.751,90.8257 375.64,91.1039 382.529,91.3951 389.418,91.6993 396.307,92.0166 403.196,92.3469 410.085,92.6902 416.974,93.0466 423.863,93.4161 \n",
       "  430.752,93.7986 437.64,94.1943 444.529,94.603 451.418,95.0249 458.307,95.4599 465.196,95.908 472.085,96.3694 478.974,96.8438 485.863,97.3315 492.752,97.8324 \n",
       "  499.641,98.3466 506.53,98.8739 513.418,99.4146 520.307,99.9685 527.196,100.536 534.085,101.116 540.974,101.71 547.863,102.317 554.752,102.938 561.641,103.572 \n",
       "  568.53,104.219 575.419,104.88 582.307,105.554 589.196,106.242 596.085,106.943 602.974,107.658 609.863,108.387 616.752,109.129 623.641,109.884 630.53,110.653 \n",
       "  637.419,111.436 644.308,112.233 651.197,113.043 658.085,113.867 664.974,114.704 671.863,115.556 678.752,116.421 685.641,117.3 692.53,118.193 699.419,119.1 \n",
       "  706.308,120.021 713.197,120.956 720.086,121.905 726.974,122.868 733.863,123.845 740.752,124.836 747.641,125.842 754.53,126.861 761.419,127.895 768.308,128.943 \n",
       "  775.197,130.005 782.086,131.081 788.975,132.172 795.864,133.277 802.752,134.397 809.641,135.531 816.53,136.68 823.419,137.844 830.308,139.021 837.197,140.214 \n",
       "  844.086,141.421 850.975,142.643 857.864,143.88 864.753,145.132 871.641,146.398 878.53,147.68 885.419,148.976 892.308,150.288 899.197,151.614 906.086,152.956 \n",
       "  912.975,154.313 919.864,155.685 926.753,157.072 933.642,158.475 940.531,159.893 947.419,161.326 954.308,162.775 961.197,164.239 968.086,165.72 974.975,167.215 \n",
       "  981.864,168.727 988.753,170.254 995.642,171.797 1002.53,173.356 1009.42,174.931 1016.31,176.522 1023.2,178.129 1030.09,179.753 1036.98,181.392 1043.86,183.048 \n",
       "  1050.75,184.72 1057.64,186.409 1064.53,188.114 1071.42,189.835 1078.31,191.574 1085.2,193.329 1092.09,195.101 1098.98,196.889 1105.86,198.695 1112.75,200.517 \n",
       "  1119.64,202.357 1126.53,204.214 1133.42,206.088 1140.31,207.98 1147.2,209.889 1154.09,211.815 1160.98,213.759 1167.86,215.721 1174.75,217.7 1181.64,219.698 \n",
       "  1188.53,221.713 1195.42,223.746 1202.31,225.798 1209.2,227.867 1216.09,229.956 1222.98,232.062 1229.86,234.187 1236.75,236.33 1243.64,238.493 1250.53,240.674 \n",
       "  1257.42,242.874 1264.31,245.093 1271.2,247.331 1278.09,249.589 1284.98,251.866 1291.86,254.162 1298.75,256.478 1305.64,258.814 1312.53,261.169 1319.42,263.545 \n",
       "  1326.31,265.94 1333.2,268.356 1340.09,270.792 1346.98,273.248 1353.86,275.725 1360.75,278.223 1367.64,280.742 1374.53,283.281 1381.42,285.842 1388.31,288.424 \n",
       "  1395.2,291.027 1402.09,293.652 1408.98,296.299 1415.86,298.967 1422.75,301.658 1429.64,304.37 1436.53,307.105 1443.42,309.863 1450.31,312.642 1457.2,315.445 \n",
       "  1464.09,318.271 1470.98,321.12 1477.87,323.992 1484.75,326.887 1491.64,329.807 1498.53,332.75 1505.42,335.717 1512.31,338.708 1519.2,341.724 1526.09,344.764 \n",
       "  1532.98,347.829 1539.87,350.919 1546.75,354.034 1553.64,357.175 1560.53,360.341 1567.42,363.533 1574.31,366.751 1581.2,369.995 1588.09,373.266 1594.98,376.564 \n",
       "  1601.87,379.888 1608.75,383.24 1615.64,386.619 1622.53,390.026 1629.42,393.46 1636.31,396.923 1643.2,400.415 1650.09,403.935 1656.98,407.484 1663.87,411.062 \n",
       "  1670.75,414.67 1677.64,418.308 1684.53,421.976 1691.42,425.675 1698.31,429.404 1705.2,433.164 1712.09,436.955 1718.98,440.779 1725.87,444.634 1732.75,448.522 \n",
       "  1739.64,452.442 1746.53,456.396 1753.42,460.383 1760.31,464.403 1767.2,468.458 1774.09,472.548 1780.98,476.672 1787.87,480.832 1794.75,485.027 1801.64,489.259 \n",
       "  1808.53,493.528 1815.42,497.833 1822.31,502.176 1829.2,506.557 1836.09,510.976 1842.98,515.434 1849.87,519.932 1856.75,524.469 1863.64,529.047 1870.53,533.666 \n",
       "  1877.42,538.326 1884.31,543.028 1891.2,547.773 1898.09,552.561 1904.98,557.393 1911.87,562.269 1918.75,567.19 1925.64,572.157 1932.53,577.17 1939.42,582.231 \n",
       "  1946.31,587.338 1953.2,592.495 1960.09,597.7 1966.98,602.955 1973.87,608.261 1980.76,613.619 1987.64,619.028 1994.53,624.491 2001.42,630.008 2008.31,635.58 \n",
       "  2015.2,641.208 2022.09,646.892 2028.98,652.634 2035.87,658.435 2042.76,664.296 2049.64,670.217 2056.53,676.201 2063.42,682.248 2070.31,688.359 2077.2,694.535 \n",
       "  2084.09,700.779 2090.98,707.09 2097.87,713.471 2104.76,719.923 2111.64,726.447 2118.53,733.046 2125.42,739.719 2132.31,746.47 2139.2,753.299 2146.09,760.209 \n",
       "  2152.98,767.201 2159.87,774.278 2166.76,781.44 2173.64,788.691 2180.53,796.032 2187.42,803.466 2194.31,810.994 2201.2,818.62 2208.09,826.346 2214.98,834.175 \n",
       "  2221.87,842.108 2228.76,850.15 2235.64,858.303 2242.53,866.571 2249.42,874.957 2256.31,883.464 2263.2,892.096 2270.09,900.857 2276.98,909.751 2283.87,918.783 \n",
       "  2290.76,927.957 \n",
       "  \"/>\n",
       "</svg>\n"
      ]
     },
     "execution_count": 249,
     "metadata": {},
     "output_type": "execute_result"
    }
   ],
   "source": [
    "plot([Z for Z in 0:1:68], Z -> ε(1,0,Z=Z, m0=139), background_color=\"darkgrey\", legend=false)\n",
    "plot!([Z for Z in 0:1:205], Z -> ε(2,1,Z=Z, m0=139))\n",
    "plot!([Z for Z in 0:1:300], Z -> ε(3,2,Z=Z, m0=139))"
   ]
  },
  {
   "cell_type": "markdown",
   "metadata": {},
   "source": [
    "### 4th Step\n",
    "feed the energies values back into the previous formulation"
   ]
  },
  {
   "cell_type": "code",
   "execution_count": 250,
   "metadata": {},
   "outputs": [
    {
     "data": {
      "text/plain": [
       "β (generic function with 2 methods)"
      ]
     },
     "execution_count": 250,
     "metadata": {},
     "output_type": "execute_result"
    }
   ],
   "source": [
    "β(n,l; kw...) = 2*sqrt(m0^2*c^4 - ε(n,l; kw...)^2)/(ħ*c)"
   ]
  },
  {
   "cell_type": "code",
   "execution_count": 251,
   "metadata": {},
   "outputs": [
    {
     "data": {
      "text/plain": [
       "λ (generic function with 2 methods)"
      ]
     },
     "execution_count": 251,
     "metadata": {},
     "output_type": "execute_result"
    }
   ],
   "source": [
    "function ρ(r,n,l; kw...)\n",
    "    return β(n,l; kw...)*r >= 0 ? β(n,l; kw...)*r : error(\"ρ must be +VE!\")\n",
    "end\n",
    "Z = 1\n",
    "l = 0\n",
    "μ(Z) = sqrt((l+1/2)^2 - (Z*α)^2)\n",
    "λ(n,l; kw...) = -m0*c^2 ≤ ε(n,l; kw...) ≤ m0*c^2 ? (2Z*α*ε(n,l; kw...))/(ħ*c*β(n,l; kw...)) : error(\"Not a bund state\")"
   ]
  },
  {
   "cell_type": "code",
   "execution_count": 252,
   "metadata": {},
   "outputs": [
    {
     "data": {
      "text/plain": [
       "ν (generic function with 1 method)"
      ]
     },
     "execution_count": 252,
     "metadata": {},
     "output_type": "execute_result"
    }
   ],
   "source": [
    "ν(Z) = 1/2 + μ(Z)"
   ]
  },
  {
   "cell_type": "code",
   "execution_count": 253,
   "metadata": {},
   "outputs": [
    {
     "data": {
      "text/plain": [
       "f (generic function with 2 methods)"
      ]
     },
     "execution_count": 253,
     "metadata": {},
     "output_type": "execute_result"
    }
   ],
   "source": [
    "function f(r,n,l; N=10, a0=1, kw...)\n",
    "    try Z == Int catch nothing end == nothing ? Z = 10 : Z = Z\n",
    "    S = Float64[]\n",
    "    a = (2Z*α*ε(n,l; kw...))/(ħ*c*β(n,l; kw...))\n",
    "    b = 2*μ(Z) + 1\n",
    "    \n",
    "    push!(S, a0)\n",
    "    \n",
    "    for i in 2:N\n",
    "        push!(S, S[i-1]*((a+i-1)*ρ(r,n,l; kw...))/(b+i-1))\n",
    "    end\n",
    "    return sum(S)\n",
    "end"
   ]
  },
  {
   "cell_type": "code",
   "execution_count": 254,
   "metadata": {},
   "outputs": [
    {
     "data": {
      "text/plain": [
       "R (generic function with 2 methods)"
      ]
     },
     "execution_count": 254,
     "metadata": {},
     "output_type": "execute_result"
    }
   ],
   "source": [
    "function R(r,n,l; kw...)\n",
    "    return ρ(r,n,l; kw...)^(ν(Z))*exp(-ρ(r,n,l; kw...)/2)*f(r,n,l; kw...)\n",
    "end"
   ]
  },
  {
   "cell_type": "code",
   "execution_count": 255,
   "metadata": {},
   "outputs": [
    {
     "data": {
      "image/svg+xml": [
       "<?xml version=\"1.0\" encoding=\"utf-8\"?>\n",
       "<svg xmlns=\"http://www.w3.org/2000/svg\" xmlns:xlink=\"http://www.w3.org/1999/xlink\" width=\"600\" height=\"400\" viewBox=\"0 0 2400 1600\">\n",
       "<defs>\n",
       "  <clipPath id=\"clip320\">\n",
       "    <rect x=\"0\" y=\"0\" width=\"2400\" height=\"1600\"/>\n",
       "  </clipPath>\n",
       "</defs>\n",
       "<path clip-path=\"url(#clip320)\" d=\"\n",
       "M0 1600 L2400 1600 L2400 0 L0 0  Z\n",
       "  \" fill=\"#a9a9a9\" fill-rule=\"evenodd\" fill-opacity=\"1\"/>\n",
       "<defs>\n",
       "  <clipPath id=\"clip321\">\n",
       "    <rect x=\"480\" y=\"0\" width=\"1681\" height=\"1600\"/>\n",
       "  </clipPath>\n",
       "</defs>\n",
       "<path clip-path=\"url(#clip320)\" d=\"\n",
       "M215.001 1486.45 L2352.76 1486.45 L2352.76 47.2441 L215.001 47.2441  Z\n",
       "  \" fill=\"#a9a9a9\" fill-rule=\"evenodd\" fill-opacity=\"1\"/>\n",
       "<defs>\n",
       "  <clipPath id=\"clip322\">\n",
       "    <rect x=\"215\" y=\"47\" width=\"2139\" height=\"1440\"/>\n",
       "  </clipPath>\n",
       "</defs>\n",
       "<polyline clip-path=\"url(#clip322)\" style=\"stroke:#000000; stroke-width:2; stroke-opacity:0.1; fill:none\" points=\"\n",
       "  273.486,1486.45 273.486,47.2441 \n",
       "  \"/>\n",
       "<polyline clip-path=\"url(#clip322)\" style=\"stroke:#000000; stroke-width:2; stroke-opacity:0.1; fill:none\" points=\"\n",
       "  777.674,1486.45 777.674,47.2441 \n",
       "  \"/>\n",
       "<polyline clip-path=\"url(#clip322)\" style=\"stroke:#000000; stroke-width:2; stroke-opacity:0.1; fill:none\" points=\"\n",
       "  1281.86,1486.45 1281.86,47.2441 \n",
       "  \"/>\n",
       "<polyline clip-path=\"url(#clip322)\" style=\"stroke:#000000; stroke-width:2; stroke-opacity:0.1; fill:none\" points=\"\n",
       "  1786.05,1486.45 1786.05,47.2441 \n",
       "  \"/>\n",
       "<polyline clip-path=\"url(#clip322)\" style=\"stroke:#000000; stroke-width:2; stroke-opacity:0.1; fill:none\" points=\"\n",
       "  2290.24,1486.45 2290.24,47.2441 \n",
       "  \"/>\n",
       "<polyline clip-path=\"url(#clip322)\" style=\"stroke:#000000; stroke-width:2; stroke-opacity:0.1; fill:none\" points=\"\n",
       "  215.001,1445.72 2352.76,1445.72 \n",
       "  \"/>\n",
       "<polyline clip-path=\"url(#clip322)\" style=\"stroke:#000000; stroke-width:2; stroke-opacity:0.1; fill:none\" points=\"\n",
       "  215.001,1143.92 2352.76,1143.92 \n",
       "  \"/>\n",
       "<polyline clip-path=\"url(#clip322)\" style=\"stroke:#000000; stroke-width:2; stroke-opacity:0.1; fill:none\" points=\"\n",
       "  215.001,842.12 2352.76,842.12 \n",
       "  \"/>\n",
       "<polyline clip-path=\"url(#clip322)\" style=\"stroke:#000000; stroke-width:2; stroke-opacity:0.1; fill:none\" points=\"\n",
       "  215.001,540.322 2352.76,540.322 \n",
       "  \"/>\n",
       "<polyline clip-path=\"url(#clip322)\" style=\"stroke:#000000; stroke-width:2; stroke-opacity:0.1; fill:none\" points=\"\n",
       "  215.001,238.524 2352.76,238.524 \n",
       "  \"/>\n",
       "<polyline clip-path=\"url(#clip320)\" style=\"stroke:#000000; stroke-width:4; stroke-opacity:1; fill:none\" points=\"\n",
       "  215.001,1486.45 2352.76,1486.45 \n",
       "  \"/>\n",
       "<polyline clip-path=\"url(#clip320)\" style=\"stroke:#000000; stroke-width:4; stroke-opacity:1; fill:none\" points=\"\n",
       "  215.001,1486.45 215.001,47.2441 \n",
       "  \"/>\n",
       "<polyline clip-path=\"url(#clip320)\" style=\"stroke:#000000; stroke-width:4; stroke-opacity:1; fill:none\" points=\"\n",
       "  273.486,1486.45 273.486,1469.18 \n",
       "  \"/>\n",
       "<polyline clip-path=\"url(#clip320)\" style=\"stroke:#000000; stroke-width:4; stroke-opacity:1; fill:none\" points=\"\n",
       "  777.674,1486.45 777.674,1469.18 \n",
       "  \"/>\n",
       "<polyline clip-path=\"url(#clip320)\" style=\"stroke:#000000; stroke-width:4; stroke-opacity:1; fill:none\" points=\"\n",
       "  1281.86,1486.45 1281.86,1469.18 \n",
       "  \"/>\n",
       "<polyline clip-path=\"url(#clip320)\" style=\"stroke:#000000; stroke-width:4; stroke-opacity:1; fill:none\" points=\"\n",
       "  1786.05,1486.45 1786.05,1469.18 \n",
       "  \"/>\n",
       "<polyline clip-path=\"url(#clip320)\" style=\"stroke:#000000; stroke-width:4; stroke-opacity:1; fill:none\" points=\"\n",
       "  2290.24,1486.45 2290.24,1469.18 \n",
       "  \"/>\n",
       "<polyline clip-path=\"url(#clip320)\" style=\"stroke:#000000; stroke-width:4; stroke-opacity:1; fill:none\" points=\"\n",
       "  215.001,1445.72 240.654,1445.72 \n",
       "  \"/>\n",
       "<polyline clip-path=\"url(#clip320)\" style=\"stroke:#000000; stroke-width:4; stroke-opacity:1; fill:none\" points=\"\n",
       "  215.001,1143.92 240.654,1143.92 \n",
       "  \"/>\n",
       "<polyline clip-path=\"url(#clip320)\" style=\"stroke:#000000; stroke-width:4; stroke-opacity:1; fill:none\" points=\"\n",
       "  215.001,842.12 240.654,842.12 \n",
       "  \"/>\n",
       "<polyline clip-path=\"url(#clip320)\" style=\"stroke:#000000; stroke-width:4; stroke-opacity:1; fill:none\" points=\"\n",
       "  215.001,540.322 240.654,540.322 \n",
       "  \"/>\n",
       "<polyline clip-path=\"url(#clip320)\" style=\"stroke:#000000; stroke-width:4; stroke-opacity:1; fill:none\" points=\"\n",
       "  215.001,238.524 240.654,238.524 \n",
       "  \"/>\n",
       "<path clip-path=\"url(#clip320)\" d=\"M 0 0 M255.003 1508.44 Q251.392 1508.44 249.563 1512 Q247.757 1515.55 247.757 1522.67 Q247.757 1529.78 249.563 1533.35 Q251.392 1536.89 255.003 1536.89 Q258.637 1536.89 260.443 1533.35 Q262.271 1529.78 262.271 1522.67 Q262.271 1515.55 260.443 1512 Q258.637 1508.44 255.003 1508.44 M255.003 1504.73 Q260.813 1504.73 263.868 1509.34 Q266.947 1513.92 266.947 1522.67 Q266.947 1531.4 263.868 1536.01 Q260.813 1540.59 255.003 1540.59 Q249.193 1540.59 246.114 1536.01 Q243.058 1531.4 243.058 1522.67 Q243.058 1513.92 246.114 1509.34 Q249.193 1504.73 255.003 1504.73 Z\" fill=\"#000000\" fill-rule=\"evenodd\" fill-opacity=\"1\" /><path clip-path=\"url(#clip320)\" d=\"M 0 0 M272.017 1534.04 L276.901 1534.04 L276.901 1539.92 L272.017 1539.92 L272.017 1534.04 Z\" fill=\"#000000\" fill-rule=\"evenodd\" fill-opacity=\"1\" /><path clip-path=\"url(#clip320)\" d=\"M 0 0 M291.97 1508.44 Q288.359 1508.44 286.53 1512 Q284.725 1515.55 284.725 1522.67 Q284.725 1529.78 286.53 1533.35 Q288.359 1536.89 291.97 1536.89 Q295.604 1536.89 297.41 1533.35 Q299.239 1529.78 299.239 1522.67 Q299.239 1515.55 297.41 1512 Q295.604 1508.44 291.97 1508.44 M291.97 1504.73 Q297.78 1504.73 300.836 1509.34 Q303.915 1513.92 303.915 1522.67 Q303.915 1531.4 300.836 1536.01 Q297.78 1540.59 291.97 1540.59 Q286.16 1540.59 283.081 1536.01 Q280.026 1531.4 280.026 1522.67 Q280.026 1513.92 283.081 1509.34 Q286.16 1504.73 291.97 1504.73 Z\" fill=\"#000000\" fill-rule=\"evenodd\" fill-opacity=\"1\" /><path clip-path=\"url(#clip320)\" d=\"M 0 0 M754.341 1535.98 L770.66 1535.98 L770.66 1539.92 L748.716 1539.92 L748.716 1535.98 Q751.378 1533.23 755.961 1528.6 Q760.568 1523.95 761.748 1522.61 Q763.994 1520.08 764.873 1518.35 Q765.776 1516.59 765.776 1514.9 Q765.776 1512.14 763.831 1510.41 Q761.91 1508.67 758.808 1508.67 Q756.609 1508.67 754.156 1509.43 Q751.725 1510.2 748.947 1511.75 L748.947 1507.03 Q751.771 1505.89 754.225 1505.31 Q756.679 1504.73 758.716 1504.73 Q764.086 1504.73 767.281 1507.42 Q770.475 1510.11 770.475 1514.6 Q770.475 1516.73 769.665 1518.65 Q768.878 1520.54 766.771 1523.14 Q766.193 1523.81 763.091 1527.03 Q759.989 1530.22 754.341 1535.98 Z\" fill=\"#000000\" fill-rule=\"evenodd\" fill-opacity=\"1\" /><path clip-path=\"url(#clip320)\" d=\"M 0 0 M775.73 1534.04 L780.614 1534.04 L780.614 1539.92 L775.73 1539.92 L775.73 1534.04 Z\" fill=\"#000000\" fill-rule=\"evenodd\" fill-opacity=\"1\" /><path clip-path=\"url(#clip320)\" d=\"M 0 0 M785.73 1505.36 L804.086 1505.36 L804.086 1509.3 L790.012 1509.3 L790.012 1517.77 Q791.03 1517.42 792.049 1517.26 Q793.067 1517.07 794.086 1517.07 Q799.873 1517.07 803.253 1520.24 Q806.632 1523.42 806.632 1528.83 Q806.632 1534.41 803.16 1537.51 Q799.688 1540.59 793.368 1540.59 Q791.192 1540.59 788.924 1540.22 Q786.679 1539.85 784.271 1539.11 L784.271 1534.41 Q786.355 1535.54 788.577 1536.1 Q790.799 1536.66 793.276 1536.66 Q797.28 1536.66 799.618 1534.55 Q801.956 1532.44 801.956 1528.83 Q801.956 1525.22 799.618 1523.11 Q797.28 1521.01 793.276 1521.01 Q791.401 1521.01 789.526 1521.42 Q787.674 1521.84 785.73 1522.72 L785.73 1505.36 Z\" fill=\"#000000\" fill-rule=\"evenodd\" fill-opacity=\"1\" /><path clip-path=\"url(#clip320)\" d=\"M 0 0 M1253.66 1505.36 L1272.01 1505.36 L1272.01 1509.3 L1257.94 1509.3 L1257.94 1517.77 Q1258.96 1517.42 1259.98 1517.26 Q1260.99 1517.07 1262.01 1517.07 Q1267.8 1517.07 1271.18 1520.24 Q1274.56 1523.42 1274.56 1528.83 Q1274.56 1534.41 1271.09 1537.51 Q1267.61 1540.59 1261.29 1540.59 Q1259.12 1540.59 1256.85 1540.22 Q1254.6 1539.85 1252.2 1539.11 L1252.2 1534.41 Q1254.28 1535.54 1256.5 1536.1 Q1258.73 1536.66 1261.2 1536.66 Q1265.21 1536.66 1267.54 1534.55 Q1269.88 1532.44 1269.88 1528.83 Q1269.88 1525.22 1267.54 1523.11 Q1265.21 1521.01 1261.2 1521.01 Q1259.33 1521.01 1257.45 1521.42 Q1255.6 1521.84 1253.66 1522.72 L1253.66 1505.36 Z\" fill=\"#000000\" fill-rule=\"evenodd\" fill-opacity=\"1\" /><path clip-path=\"url(#clip320)\" d=\"M 0 0 M1279.63 1534.04 L1284.51 1534.04 L1284.51 1539.92 L1279.63 1539.92 L1279.63 1534.04 Z\" fill=\"#000000\" fill-rule=\"evenodd\" fill-opacity=\"1\" /><path clip-path=\"url(#clip320)\" d=\"M 0 0 M1299.58 1508.44 Q1295.97 1508.44 1294.14 1512 Q1292.34 1515.55 1292.34 1522.67 Q1292.34 1529.78 1294.14 1533.35 Q1295.97 1536.89 1299.58 1536.89 Q1303.22 1536.89 1305.02 1533.35 Q1306.85 1529.78 1306.85 1522.67 Q1306.85 1515.55 1305.02 1512 Q1303.22 1508.44 1299.58 1508.44 M1299.58 1504.73 Q1305.39 1504.73 1308.45 1509.34 Q1311.53 1513.92 1311.53 1522.67 Q1311.53 1531.4 1308.45 1536.01 Q1305.39 1540.59 1299.58 1540.59 Q1293.77 1540.59 1290.69 1536.01 Q1287.64 1531.4 1287.64 1522.67 Q1287.64 1513.92 1290.69 1509.34 Q1293.77 1504.73 1299.58 1504.73 Z\" fill=\"#000000\" fill-rule=\"evenodd\" fill-opacity=\"1\" /><path clip-path=\"url(#clip320)\" d=\"M 0 0 M1756.95 1505.36 L1779.17 1505.36 L1779.17 1507.35 L1766.63 1539.92 L1761.74 1539.92 L1773.55 1509.3 L1756.95 1509.3 L1756.95 1505.36 Z\" fill=\"#000000\" fill-rule=\"evenodd\" fill-opacity=\"1\" /><path clip-path=\"url(#clip320)\" d=\"M 0 0 M1784.24 1534.04 L1789.13 1534.04 L1789.13 1539.92 L1784.24 1539.92 L1784.24 1534.04 Z\" fill=\"#000000\" fill-rule=\"evenodd\" fill-opacity=\"1\" /><path clip-path=\"url(#clip320)\" d=\"M 0 0 M1794.24 1505.36 L1812.6 1505.36 L1812.6 1509.3 L1798.53 1509.3 L1798.53 1517.77 Q1799.54 1517.42 1800.56 1517.26 Q1801.58 1517.07 1802.6 1517.07 Q1808.39 1517.07 1811.77 1520.24 Q1815.15 1523.42 1815.15 1528.83 Q1815.15 1534.41 1811.67 1537.51 Q1808.2 1540.59 1801.88 1540.59 Q1799.71 1540.59 1797.44 1540.22 Q1795.19 1539.85 1792.79 1539.11 L1792.79 1534.41 Q1794.87 1535.54 1797.09 1536.1 Q1799.31 1536.66 1801.79 1536.66 Q1805.79 1536.66 1808.13 1534.55 Q1810.47 1532.44 1810.47 1528.83 Q1810.47 1525.22 1808.13 1523.11 Q1805.79 1521.01 1801.79 1521.01 Q1799.91 1521.01 1798.04 1521.42 Q1796.19 1521.84 1794.24 1522.72 L1794.24 1505.36 Z\" fill=\"#000000\" fill-rule=\"evenodd\" fill-opacity=\"1\" /><path clip-path=\"url(#clip320)\" d=\"M 0 0 M2248.63 1535.98 L2256.27 1535.98 L2256.27 1509.62 L2247.96 1511.29 L2247.96 1507.03 L2256.22 1505.36 L2260.9 1505.36 L2260.9 1535.98 L2268.54 1535.98 L2268.54 1539.92 L2248.63 1539.92 L2248.63 1535.98 Z\" fill=\"#000000\" fill-rule=\"evenodd\" fill-opacity=\"1\" /><path clip-path=\"url(#clip320)\" d=\"M 0 0 M2283.6 1508.44 Q2279.99 1508.44 2278.16 1512 Q2276.36 1515.55 2276.36 1522.67 Q2276.36 1529.78 2278.16 1533.35 Q2279.99 1536.89 2283.6 1536.89 Q2287.24 1536.89 2289.04 1533.35 Q2290.87 1529.78 2290.87 1522.67 Q2290.87 1515.55 2289.04 1512 Q2287.24 1508.44 2283.6 1508.44 M2283.6 1504.73 Q2289.41 1504.73 2292.47 1509.34 Q2295.55 1513.92 2295.55 1522.67 Q2295.55 1531.4 2292.47 1536.01 Q2289.41 1540.59 2283.6 1540.59 Q2277.79 1540.59 2274.72 1536.01 Q2271.66 1531.4 2271.66 1522.67 Q2271.66 1513.92 2274.72 1509.34 Q2277.79 1504.73 2283.6 1504.73 Z\" fill=\"#000000\" fill-rule=\"evenodd\" fill-opacity=\"1\" /><path clip-path=\"url(#clip320)\" d=\"M 0 0 M2300.62 1534.04 L2305.5 1534.04 L2305.5 1539.92 L2300.62 1539.92 L2300.62 1534.04 Z\" fill=\"#000000\" fill-rule=\"evenodd\" fill-opacity=\"1\" /><path clip-path=\"url(#clip320)\" d=\"M 0 0 M2320.57 1508.44 Q2316.96 1508.44 2315.13 1512 Q2313.33 1515.55 2313.33 1522.67 Q2313.33 1529.78 2315.13 1533.35 Q2316.96 1536.89 2320.57 1536.89 Q2324.21 1536.89 2326.01 1533.35 Q2327.84 1529.78 2327.84 1522.67 Q2327.84 1515.55 2326.01 1512 Q2324.21 1508.44 2320.57 1508.44 M2320.57 1504.73 Q2326.38 1504.73 2329.44 1509.34 Q2332.52 1513.92 2332.52 1522.67 Q2332.52 1531.4 2329.44 1536.01 Q2326.38 1540.59 2320.57 1540.59 Q2314.76 1540.59 2311.68 1536.01 Q2308.63 1531.4 2308.63 1522.67 Q2308.63 1513.92 2311.68 1509.34 Q2314.76 1504.73 2320.57 1504.73 Z\" fill=\"#000000\" fill-rule=\"evenodd\" fill-opacity=\"1\" /><path clip-path=\"url(#clip320)\" d=\"M 0 0 M179.056 1431.51 Q175.445 1431.51 173.617 1435.08 Q171.811 1438.62 171.811 1445.75 Q171.811 1452.86 173.617 1456.42 Q175.445 1459.96 179.056 1459.96 Q182.691 1459.96 184.496 1456.42 Q186.325 1452.86 186.325 1445.75 Q186.325 1438.62 184.496 1435.08 Q182.691 1431.51 179.056 1431.51 M179.056 1427.81 Q184.866 1427.81 187.922 1432.42 Q191.001 1437 191.001 1445.75 Q191.001 1454.48 187.922 1459.08 Q184.866 1463.67 179.056 1463.67 Q173.246 1463.67 170.167 1459.08 Q167.112 1454.48 167.112 1445.75 Q167.112 1437 170.167 1432.42 Q173.246 1427.81 179.056 1427.81 Z\" fill=\"#000000\" fill-rule=\"evenodd\" fill-opacity=\"1\" /><path clip-path=\"url(#clip320)\" d=\"M 0 0 M77.0357 1163.71 L93.3551 1163.71 L93.3551 1167.65 L71.4108 1167.65 L71.4108 1163.71 Q74.0728 1160.96 78.6561 1156.33 Q83.2626 1151.67 84.4431 1150.33 Q86.6885 1147.81 87.5681 1146.07 Q88.4709 1144.31 88.4709 1142.62 Q88.4709 1139.87 86.5264 1138.13 Q84.6051 1136.4 81.5033 1136.4 Q79.3042 1136.4 76.8506 1137.16 Q74.42 1137.92 71.6423 1139.47 L71.6423 1134.75 Q74.4663 1133.62 76.92 1133.04 Q79.3737 1132.46 81.4107 1132.46 Q86.7811 1132.46 89.9755 1135.15 Q93.1699 1137.83 93.1699 1142.32 Q93.1699 1144.45 92.3597 1146.37 Q91.5727 1148.27 89.4662 1150.86 Q88.8875 1151.53 85.7857 1154.75 Q82.6839 1157.95 77.0357 1163.71 Z\" fill=\"#000000\" fill-rule=\"evenodd\" fill-opacity=\"1\" /><path clip-path=\"url(#clip320)\" d=\"M 0 0 M126.596 1142.18 L116.017 1152.81 L126.596 1163.39 L123.841 1166.19 L113.216 1155.56 L102.591 1166.19 L99.8597 1163.39 L110.415 1152.81 L99.8597 1142.18 L102.591 1139.38 L113.216 1150.01 L123.841 1139.38 L126.596 1142.18 Z\" fill=\"#000000\" fill-rule=\"evenodd\" fill-opacity=\"1\" /><path clip-path=\"url(#clip320)\" d=\"M 0 0 M132.475 1163.71 L140.114 1163.71 L140.114 1137.34 L131.804 1139.01 L131.804 1134.75 L140.068 1133.09 L144.744 1133.09 L144.744 1163.71 L152.383 1163.71 L152.383 1167.65 L132.475 1167.65 L132.475 1163.71 Z\" fill=\"#000000\" fill-rule=\"evenodd\" fill-opacity=\"1\" /><path clip-path=\"url(#clip320)\" d=\"M 0 0 M167.452 1136.16 Q163.841 1136.16 162.012 1139.73 Q160.207 1143.27 160.207 1150.4 Q160.207 1157.51 162.012 1161.07 Q163.841 1164.61 167.452 1164.61 Q171.086 1164.61 172.892 1161.07 Q174.72 1157.51 174.72 1150.4 Q174.72 1143.27 172.892 1139.73 Q171.086 1136.16 167.452 1136.16 M167.452 1132.46 Q173.262 1132.46 176.318 1137.07 Q179.396 1141.65 179.396 1150.4 Q179.396 1159.13 176.318 1163.73 Q173.262 1168.32 167.452 1168.32 Q161.642 1168.32 158.563 1163.73 Q155.508 1159.13 155.508 1150.4 Q155.508 1141.65 158.563 1137.07 Q161.642 1132.46 167.452 1132.46 Z\" fill=\"#000000\" fill-rule=\"evenodd\" fill-opacity=\"1\" /><path clip-path=\"url(#clip320)\" d=\"M 0 0 M179.396 1111.97 L191.001 1111.97 L191.001 1112.87 L184.456 1127.67 L181.898 1127.67 L188.067 1113.75 L179.396 1113.75 L179.396 1111.97 Z\" fill=\"#000000\" fill-rule=\"evenodd\" fill-opacity=\"1\" /><path clip-path=\"url(#clip320)\" d=\"M 0 0 M83.7718 835.361 L71.9663 853.81 L83.7718 853.81 L83.7718 835.361 M82.545 831.287 L88.4246 831.287 L88.4246 853.81 L93.3551 853.81 L93.3551 857.699 L88.4246 857.699 L88.4246 865.847 L83.7718 865.847 L83.7718 857.699 L68.17 857.699 L68.17 853.185 L82.545 831.287 Z\" fill=\"#000000\" fill-rule=\"evenodd\" fill-opacity=\"1\" /><path clip-path=\"url(#clip320)\" d=\"M 0 0 M126.596 840.385 L116.017 851.01 L126.596 861.588 L123.841 864.389 L113.216 853.764 L102.591 864.389 L99.8597 861.588 L110.415 851.01 L99.8597 840.385 L102.591 837.584 L113.216 848.209 L123.841 837.584 L126.596 840.385 Z\" fill=\"#000000\" fill-rule=\"evenodd\" fill-opacity=\"1\" /><path clip-path=\"url(#clip320)\" d=\"M 0 0 M132.475 861.912 L140.114 861.912 L140.114 835.547 L131.804 837.213 L131.804 832.954 L140.068 831.287 L144.744 831.287 L144.744 861.912 L152.383 861.912 L152.383 865.847 L132.475 865.847 L132.475 861.912 Z\" fill=\"#000000\" fill-rule=\"evenodd\" fill-opacity=\"1\" /><path clip-path=\"url(#clip320)\" d=\"M 0 0 M167.452 834.366 Q163.841 834.366 162.012 837.931 Q160.207 841.473 160.207 848.602 Q160.207 855.709 162.012 859.273 Q163.841 862.815 167.452 862.815 Q171.086 862.815 172.892 859.273 Q174.72 855.709 174.72 848.602 Q174.72 841.473 172.892 837.931 Q171.086 834.366 167.452 834.366 M167.452 830.662 Q173.262 830.662 176.318 835.269 Q179.396 839.852 179.396 848.602 Q179.396 857.329 176.318 861.935 Q173.262 866.519 167.452 866.519 Q161.642 866.519 158.563 861.935 Q155.508 857.329 155.508 848.602 Q155.508 839.852 158.563 835.269 Q161.642 830.662 167.452 830.662 Z\" fill=\"#000000\" fill-rule=\"evenodd\" fill-opacity=\"1\" /><path clip-path=\"url(#clip320)\" d=\"M 0 0 M179.396 810.169 L191.001 810.169 L191.001 811.072 L184.456 825.873 L181.898 825.873 L188.067 811.956 L179.396 811.956 L179.396 810.169 Z\" fill=\"#000000\" fill-rule=\"evenodd\" fill-opacity=\"1\" /><path clip-path=\"url(#clip320)\" d=\"M 0 0 M81.8274 544.906 Q78.6793 544.906 76.8274 547.059 Q74.9987 549.212 74.9987 552.962 Q74.9987 556.688 76.8274 558.864 Q78.6793 561.017 81.8274 561.017 Q84.9755 561.017 86.8042 558.864 Q88.6561 556.688 88.6561 552.962 Q88.6561 549.212 86.8042 547.059 Q84.9755 544.906 81.8274 544.906 M91.1097 530.253 L91.1097 534.513 Q89.3505 533.679 87.5449 533.239 Q85.7625 532.8 84.0033 532.8 Q79.3737 532.8 76.92 535.925 Q74.4895 539.05 74.1422 545.369 Q75.508 543.355 77.5681 542.29 Q79.6283 541.202 82.1052 541.202 Q87.3135 541.202 90.3227 544.374 Q93.3551 547.522 93.3551 552.962 Q93.3551 558.286 90.207 561.503 Q87.0588 564.721 81.8274 564.721 Q75.832 564.721 72.6608 560.138 Q69.4895 555.531 69.4895 546.804 Q69.4895 538.61 73.3784 533.749 Q77.2672 528.865 83.8181 528.865 Q85.5774 528.865 87.3598 529.212 Q89.1653 529.559 91.1097 530.253 Z\" fill=\"#000000\" fill-rule=\"evenodd\" fill-opacity=\"1\" /><path clip-path=\"url(#clip320)\" d=\"M 0 0 M126.596 538.587 L116.017 549.212 L126.596 559.79 L123.841 562.591 L113.216 551.966 L102.591 562.591 L99.8597 559.79 L110.415 549.212 L99.8597 538.587 L102.591 535.786 L113.216 546.411 L123.841 535.786 L126.596 538.587 Z\" fill=\"#000000\" fill-rule=\"evenodd\" fill-opacity=\"1\" /><path clip-path=\"url(#clip320)\" d=\"M 0 0 M132.475 560.114 L140.114 560.114 L140.114 533.749 L131.804 535.415 L131.804 531.156 L140.068 529.49 L144.744 529.49 L144.744 560.114 L152.383 560.114 L152.383 564.05 L132.475 564.05 L132.475 560.114 Z\" fill=\"#000000\" fill-rule=\"evenodd\" fill-opacity=\"1\" /><path clip-path=\"url(#clip320)\" d=\"M 0 0 M167.452 532.568 Q163.841 532.568 162.012 536.133 Q160.207 539.675 160.207 546.804 Q160.207 553.911 162.012 557.475 Q163.841 561.017 167.452 561.017 Q171.086 561.017 172.892 557.475 Q174.72 553.911 174.72 546.804 Q174.72 539.675 172.892 536.133 Q171.086 532.568 167.452 532.568 M167.452 528.865 Q173.262 528.865 176.318 533.471 Q179.396 538.054 179.396 546.804 Q179.396 555.531 176.318 560.138 Q173.262 564.721 167.452 564.721 Q161.642 564.721 158.563 560.138 Q155.508 555.531 155.508 546.804 Q155.508 538.054 158.563 533.471 Q161.642 528.865 167.452 528.865 Z\" fill=\"#000000\" fill-rule=\"evenodd\" fill-opacity=\"1\" /><path clip-path=\"url(#clip320)\" d=\"M 0 0 M179.396 508.371 L191.001 508.371 L191.001 509.274 L184.456 524.076 L181.898 524.076 L188.067 510.158 L179.396 510.158 L179.396 508.371 Z\" fill=\"#000000\" fill-rule=\"evenodd\" fill-opacity=\"1\" /><path clip-path=\"url(#clip320)\" d=\"M 0 0 M81.5033 245.84 Q78.17 245.84 76.2487 247.622 Q74.3506 249.404 74.3506 252.529 Q74.3506 255.654 76.2487 257.437 Q78.17 259.219 81.5033 259.219 Q84.8366 259.219 86.7579 257.437 Q88.6792 255.631 88.6792 252.529 Q88.6792 249.404 86.7579 247.622 Q84.8598 245.84 81.5033 245.84 M76.8274 243.849 Q73.8182 243.108 72.1284 241.048 Q70.4617 238.988 70.4617 236.025 Q70.4617 231.881 73.4015 229.474 Q76.3645 227.067 81.5033 227.067 Q86.6653 227.067 89.6051 229.474 Q92.5449 231.881 92.5449 236.025 Q92.5449 238.988 90.8551 241.048 Q89.1885 243.108 86.2024 243.849 Q89.582 244.636 91.457 246.928 Q93.3551 249.219 93.3551 252.529 Q93.3551 257.553 90.2764 260.238 Q87.2209 262.923 81.5033 262.923 Q75.7857 262.923 72.7071 260.238 Q69.6515 257.553 69.6515 252.529 Q69.6515 249.219 71.5497 246.928 Q73.4478 244.636 76.8274 243.849 M75.1145 236.465 Q75.1145 239.15 76.7811 240.654 Q78.4709 242.159 81.5033 242.159 Q84.5126 242.159 86.2024 240.654 Q87.9153 239.15 87.9153 236.465 Q87.9153 233.78 86.2024 232.275 Q84.5126 230.77 81.5033 230.77 Q78.4709 230.77 76.7811 232.275 Q75.1145 233.78 75.1145 236.465 Z\" fill=\"#000000\" fill-rule=\"evenodd\" fill-opacity=\"1\" /><path clip-path=\"url(#clip320)\" d=\"M 0 0 M126.596 236.789 L116.017 247.414 L126.596 257.992 L123.841 260.793 L113.216 250.168 L102.591 260.793 L99.8597 257.992 L110.415 247.414 L99.8597 236.789 L102.591 233.988 L113.216 244.613 L123.841 233.988 L126.596 236.789 Z\" fill=\"#000000\" fill-rule=\"evenodd\" fill-opacity=\"1\" /><path clip-path=\"url(#clip320)\" d=\"M 0 0 M132.475 258.316 L140.114 258.316 L140.114 231.951 L131.804 233.617 L131.804 229.358 L140.068 227.692 L144.744 227.692 L144.744 258.316 L152.383 258.316 L152.383 262.252 L132.475 262.252 L132.475 258.316 Z\" fill=\"#000000\" fill-rule=\"evenodd\" fill-opacity=\"1\" /><path clip-path=\"url(#clip320)\" d=\"M 0 0 M167.452 230.77 Q163.841 230.77 162.012 234.335 Q160.207 237.877 160.207 245.006 Q160.207 252.113 162.012 255.678 Q163.841 259.219 167.452 259.219 Q171.086 259.219 172.892 255.678 Q174.72 252.113 174.72 245.006 Q174.72 237.877 172.892 234.335 Q171.086 230.77 167.452 230.77 M167.452 227.067 Q173.262 227.067 176.318 231.673 Q179.396 236.256 179.396 245.006 Q179.396 253.733 176.318 258.34 Q173.262 262.923 167.452 262.923 Q161.642 262.923 158.563 258.34 Q155.508 253.733 155.508 245.006 Q155.508 236.256 158.563 231.673 Q161.642 227.067 167.452 227.067 Z\" fill=\"#000000\" fill-rule=\"evenodd\" fill-opacity=\"1\" /><path clip-path=\"url(#clip320)\" d=\"M 0 0 M179.396 206.573 L191.001 206.573 L191.001 207.476 L184.456 222.278 L181.898 222.278 L188.067 208.36 L179.396 208.36 L179.396 206.573 Z\" fill=\"#000000\" fill-rule=\"evenodd\" fill-opacity=\"1\" /><polyline clip-path=\"url(#clip322)\" style=\"stroke:#009af9; stroke-width:4; stroke-opacity:1; fill:none\" points=\"\n",
       "  275.503,1445.72 277.52,1445.72 279.537,1445.72 281.553,1445.72 283.57,1445.72 285.587,1445.72 287.604,1445.72 289.62,1445.72 291.637,1445.71 293.654,1445.71 \n",
       "  295.671,1445.71 297.687,1445.7 299.704,1445.69 301.721,1445.68 303.738,1445.65 305.754,1445.6 307.771,1445.53 309.788,1445.43 311.805,1445.29 313.821,1445.08 \n",
       "  315.838,1444.8 317.855,1444.42 319.872,1443.91 321.888,1443.26 323.905,1442.41 325.922,1441.35 327.939,1440.02 329.955,1438.38 331.972,1436.39 333.989,1433.98 \n",
       "  336.006,1431.12 338.022,1427.73 340.039,1423.76 342.056,1419.15 344.073,1413.83 346.089,1407.75 348.106,1400.85 350.123,1393.06 352.14,1384.33 354.156,1374.6 \n",
       "  356.173,1363.84 358.19,1351.98 360.207,1338.99 362.223,1324.84 364.24,1309.5 366.257,1292.94 368.274,1275.16 370.29,1256.14 372.307,1235.89 374.324,1214.42 \n",
       "  376.341,1191.75 378.357,1167.89 380.374,1142.89 382.391,1116.78 384.408,1089.62 386.424,1061.46 388.441,1032.36 390.458,1002.39 392.475,971.634 394.491,940.167 \n",
       "  396.508,908.075 398.525,875.449 400.542,842.384 402.558,808.976 404.575,775.326 406.592,741.535 408.609,707.706 410.625,673.941 412.642,640.343 414.659,607.016 \n",
       "  416.676,574.059 418.692,541.572 420.709,509.651 422.726,478.39 424.743,447.879 426.759,418.205 428.776,389.45 430.793,361.691 432.81,335.002 434.826,309.451 \n",
       "  436.843,285.099 438.86,262.004 440.877,240.219 442.893,219.787 444.91,200.75 446.927,183.141 448.944,166.99 450.96,152.318 452.977,139.144 454.994,127.479 \n",
       "  457.011,117.33 459.027,108.697 461.044,101.576 463.061,95.9591 465.078,91.8327 467.094,89.1791 469.111,87.9763 471.128,88.1985 473.145,89.8164 475.161,92.7971 \n",
       "  477.178,97.1048 479.195,102.701 481.212,109.544 483.228,117.59 485.245,126.794 487.262,137.109 489.279,148.485 491.295,160.873 493.312,174.222 495.329,188.479 \n",
       "  497.346,203.593 499.362,219.51 501.379,236.178 503.396,253.544 505.413,271.555 507.429,290.159 509.446,309.305 511.463,328.941 513.48,349.019 515.496,369.489 \n",
       "  517.513,390.302 519.53,411.413 521.547,432.776 523.563,454.348 525.58,476.084 527.597,497.946 529.614,519.892 531.63,541.886 533.647,563.891 535.664,585.873 \n",
       "  537.681,607.798 539.697,629.635 541.714,651.356 543.731,672.932 545.748,694.336 547.764,715.545 549.781,736.536 551.798,757.287 553.815,777.779 555.831,797.993 \n",
       "  557.848,817.914 559.865,837.525 561.882,856.814 563.898,875.767 565.915,894.374 567.932,912.626 569.949,930.513 571.965,948.028 573.982,965.166 575.999,981.921 \n",
       "  578.016,998.289 580.032,1014.27 582.049,1029.85 584.066,1045.05 586.083,1059.85 588.099,1074.25 590.116,1088.27 592.133,1101.89 594.15,1115.13 596.166,1127.98 \n",
       "  598.183,1140.45 600.2,1152.54 602.217,1164.27 604.233,1175.62 606.25,1186.61 608.267,1197.24 610.284,1207.53 612.3,1217.47 614.317,1227.07 616.334,1236.34 \n",
       "  618.351,1245.29 620.367,1253.91 622.384,1262.23 624.401,1270.25 626.418,1277.97 628.434,1285.41 630.451,1292.56 632.468,1299.44 634.485,1306.06 636.501,1312.41 \n",
       "  638.518,1318.52 640.535,1324.38 642.552,1330.01 644.568,1335.41 646.585,1340.59 648.602,1345.56 650.619,1350.32 652.635,1354.87 654.652,1359.24 656.669,1363.41 \n",
       "  658.686,1367.41 660.702,1371.24 662.719,1374.89 664.736,1378.39 666.753,1381.72 668.769,1384.91 670.786,1387.96 672.803,1390.87 674.82,1393.64 676.836,1396.28 \n",
       "  678.853,1398.81 680.87,1401.21 682.887,1403.51 684.903,1405.69 686.92,1407.77 688.937,1409.75 690.954,1411.63 692.97,1413.43 694.987,1415.13 697.004,1416.76 \n",
       "  699.021,1418.3 701.037,1419.77 703.054,1421.16 705.071,1422.48 707.088,1423.74 709.104,1424.93 711.121,1426.07 713.138,1427.14 715.155,1428.16 717.171,1429.13 \n",
       "  719.188,1430.05 721.205,1430.92 723.222,1431.74 725.238,1432.52 727.255,1433.26 729.272,1433.96 731.289,1434.62 733.305,1435.25 735.322,1435.85 737.339,1436.41 \n",
       "  739.356,1436.94 741.373,1437.44 743.389,1437.92 745.406,1438.37 747.423,1438.79 749.44,1439.2 751.456,1439.57 753.473,1439.93 755.49,1440.27 757.507,1440.59 \n",
       "  759.523,1440.89 761.54,1441.18 763.557,1441.45 765.574,1441.7 767.59,1441.94 769.607,1442.16 771.624,1442.38 773.641,1442.58 775.657,1442.76 777.674,1442.94 \n",
       "  779.691,1443.11 781.708,1443.27 783.724,1443.42 785.741,1443.56 787.758,1443.69 789.775,1443.81 791.791,1443.93 793.808,1444.04 795.825,1444.14 797.842,1444.24 \n",
       "  799.858,1444.33 801.875,1444.42 803.892,1444.5 805.909,1444.57 807.925,1444.64 809.942,1444.71 811.959,1444.77 813.976,1444.83 815.992,1444.89 818.009,1444.94 \n",
       "  820.026,1444.99 822.043,1445.04 824.059,1445.08 826.076,1445.12 828.093,1445.16 830.11,1445.19 832.126,1445.23 834.143,1445.26 836.16,1445.29 838.177,1445.31 \n",
       "  840.193,1445.34 842.21,1445.36 844.227,1445.39 846.244,1445.41 848.26,1445.43 850.277,1445.45 852.294,1445.46 854.311,1445.48 856.327,1445.5 858.344,1445.51 \n",
       "  860.361,1445.52 862.378,1445.54 864.394,1445.55 866.411,1445.56 868.428,1445.57 870.445,1445.58 872.461,1445.59 874.478,1445.6 876.495,1445.6 878.512,1445.61 \n",
       "  880.528,1445.62 882.545,1445.63 884.562,1445.63 886.579,1445.64 888.595,1445.64 890.612,1445.65 892.629,1445.65 894.646,1445.66 896.662,1445.66 898.679,1445.66 \n",
       "  900.696,1445.67 902.713,1445.67 904.729,1445.67 906.746,1445.68 908.763,1445.68 910.78,1445.68 912.796,1445.68 914.813,1445.69 916.83,1445.69 918.847,1445.69 \n",
       "  920.863,1445.69 922.88,1445.69 924.897,1445.7 926.914,1445.7 928.93,1445.7 930.947,1445.7 932.964,1445.7 934.981,1445.7 936.997,1445.7 939.014,1445.7 \n",
       "  941.031,1445.7 943.048,1445.7 945.064,1445.71 947.081,1445.71 949.098,1445.71 951.115,1445.71 953.131,1445.71 955.148,1445.71 957.165,1445.71 959.182,1445.71 \n",
       "  961.198,1445.71 963.215,1445.71 965.232,1445.71 967.249,1445.71 969.265,1445.71 971.282,1445.71 973.299,1445.71 975.316,1445.71 977.332,1445.71 979.349,1445.71 \n",
       "  981.366,1445.71 983.383,1445.71 985.399,1445.71 987.416,1445.71 989.433,1445.71 991.45,1445.71 993.466,1445.71 995.483,1445.71 997.5,1445.71 999.517,1445.71 \n",
       "  1001.53,1445.71 1003.55,1445.71 1005.57,1445.71 1007.58,1445.71 1009.6,1445.71 1011.62,1445.71 1013.63,1445.71 1015.65,1445.71 1017.67,1445.71 1019.68,1445.72 \n",
       "  1021.7,1445.72 1023.72,1445.72 1025.73,1445.72 1027.75,1445.72 1029.77,1445.72 1031.78,1445.72 1033.8,1445.72 1035.82,1445.72 1037.83,1445.72 1039.85,1445.72 \n",
       "  1041.87,1445.72 1043.89,1445.72 1045.9,1445.72 1047.92,1445.72 1049.94,1445.72 1051.95,1445.72 1053.97,1445.72 1055.99,1445.72 1058,1445.72 1060.02,1445.72 \n",
       "  1062.04,1445.72 1064.05,1445.72 1066.07,1445.72 1068.09,1445.72 1070.1,1445.72 1072.12,1445.72 1074.14,1445.72 1076.15,1445.72 1078.17,1445.72 1080.19,1445.72 \n",
       "  1082.2,1445.72 1084.22,1445.72 1086.24,1445.72 1088.25,1445.72 1090.27,1445.72 1092.29,1445.72 1094.3,1445.72 1096.32,1445.72 1098.34,1445.72 1100.35,1445.72 \n",
       "  1102.37,1445.72 1104.39,1445.72 1106.4,1445.72 1108.42,1445.72 1110.44,1445.72 1112.45,1445.72 1114.47,1445.72 1116.49,1445.72 1118.5,1445.72 1120.52,1445.72 \n",
       "  1122.54,1445.72 1124.56,1445.72 1126.57,1445.72 1128.59,1445.72 1130.61,1445.72 1132.62,1445.72 1134.64,1445.72 1136.66,1445.72 1138.67,1445.72 1140.69,1445.72 \n",
       "  1142.71,1445.72 1144.72,1445.72 1146.74,1445.72 1148.76,1445.72 1150.77,1445.72 1152.79,1445.72 1154.81,1445.72 1156.82,1445.72 1158.84,1445.72 1160.86,1445.72 \n",
       "  1162.87,1445.72 1164.89,1445.72 1166.91,1445.72 1168.92,1445.72 1170.94,1445.72 1172.96,1445.72 1174.97,1445.72 1176.99,1445.72 1179.01,1445.72 1181.02,1445.72 \n",
       "  1183.04,1445.72 1185.06,1445.72 1187.07,1445.72 1189.09,1445.72 1191.11,1445.72 1193.12,1445.72 1195.14,1445.72 1197.16,1445.72 1199.17,1445.72 1201.19,1445.72 \n",
       "  1203.21,1445.72 1205.23,1445.72 1207.24,1445.72 1209.26,1445.72 1211.28,1445.72 1213.29,1445.72 1215.31,1445.72 1217.33,1445.72 1219.34,1445.72 1221.36,1445.72 \n",
       "  1223.38,1445.72 1225.39,1445.72 1227.41,1445.72 1229.43,1445.72 1231.44,1445.72 1233.46,1445.72 1235.48,1445.72 1237.49,1445.72 1239.51,1445.72 1241.53,1445.72 \n",
       "  1243.54,1445.72 1245.56,1445.72 1247.58,1445.72 1249.59,1445.72 1251.61,1445.72 1253.63,1445.72 1255.64,1445.72 1257.66,1445.72 1259.68,1445.72 1261.69,1445.72 \n",
       "  1263.71,1445.72 1265.73,1445.72 1267.74,1445.72 1269.76,1445.72 1271.78,1445.72 1273.79,1445.72 1275.81,1445.72 1277.83,1445.72 1279.84,1445.72 1281.86,1445.72 \n",
       "  1283.88,1445.72 1285.9,1445.72 1287.91,1445.72 1289.93,1445.72 1291.95,1445.72 1293.96,1445.72 1295.98,1445.72 1298,1445.72 1300.01,1445.72 1302.03,1445.72 \n",
       "  1304.05,1445.72 1306.06,1445.72 1308.08,1445.72 1310.1,1445.72 1312.11,1445.72 1314.13,1445.72 1316.15,1445.72 1318.16,1445.72 1320.18,1445.72 1322.2,1445.72 \n",
       "  1324.21,1445.72 1326.23,1445.72 1328.25,1445.72 1330.26,1445.72 1332.28,1445.72 1334.3,1445.72 1336.31,1445.72 1338.33,1445.72 1340.35,1445.72 1342.36,1445.72 \n",
       "  1344.38,1445.72 1346.4,1445.72 1348.41,1445.72 1350.43,1445.72 1352.45,1445.72 1354.46,1445.72 1356.48,1445.72 1358.5,1445.72 1360.51,1445.72 1362.53,1445.72 \n",
       "  1364.55,1445.72 1366.57,1445.72 1368.58,1445.72 1370.6,1445.72 1372.62,1445.72 1374.63,1445.72 1376.65,1445.72 1378.67,1445.72 1380.68,1445.72 1382.7,1445.72 \n",
       "  1384.72,1445.72 1386.73,1445.72 1388.75,1445.72 1390.77,1445.72 1392.78,1445.72 1394.8,1445.72 1396.82,1445.72 1398.83,1445.72 1400.85,1445.72 1402.87,1445.72 \n",
       "  1404.88,1445.72 1406.9,1445.72 1408.92,1445.72 1410.93,1445.72 1412.95,1445.72 1414.97,1445.72 1416.98,1445.72 1419,1445.72 1421.02,1445.72 1423.03,1445.72 \n",
       "  1425.05,1445.72 1427.07,1445.72 1429.08,1445.72 1431.1,1445.72 1433.12,1445.72 1435.13,1445.72 1437.15,1445.72 1439.17,1445.72 1441.18,1445.72 1443.2,1445.72 \n",
       "  1445.22,1445.72 1447.24,1445.72 1449.25,1445.72 1451.27,1445.72 1453.29,1445.72 1455.3,1445.72 1457.32,1445.72 1459.34,1445.72 1461.35,1445.72 1463.37,1445.72 \n",
       "  1465.39,1445.72 1467.4,1445.72 1469.42,1445.72 1471.44,1445.72 1473.45,1445.72 1475.47,1445.72 1477.49,1445.72 1479.5,1445.72 1481.52,1445.72 1483.54,1445.72 \n",
       "  1485.55,1445.72 1487.57,1445.72 1489.59,1445.72 1491.6,1445.72 1493.62,1445.72 1495.64,1445.72 1497.65,1445.72 1499.67,1445.72 1501.69,1445.72 1503.7,1445.72 \n",
       "  1505.72,1445.72 1507.74,1445.72 1509.75,1445.72 1511.77,1445.72 1513.79,1445.72 1515.8,1445.72 1517.82,1445.72 1519.84,1445.72 1521.85,1445.72 1523.87,1445.72 \n",
       "  1525.89,1445.72 1527.91,1445.72 1529.92,1445.72 1531.94,1445.72 1533.96,1445.72 1535.97,1445.72 1537.99,1445.72 1540.01,1445.72 1542.02,1445.72 1544.04,1445.72 \n",
       "  1546.06,1445.72 1548.07,1445.72 1550.09,1445.72 1552.11,1445.72 1554.12,1445.72 1556.14,1445.72 1558.16,1445.72 1560.17,1445.72 1562.19,1445.72 1564.21,1445.72 \n",
       "  1566.22,1445.72 1568.24,1445.72 1570.26,1445.72 1572.27,1445.72 1574.29,1445.72 1576.31,1445.72 1578.32,1445.72 1580.34,1445.72 1582.36,1445.72 1584.37,1445.72 \n",
       "  1586.39,1445.72 1588.41,1445.72 1590.42,1445.72 1592.44,1445.72 1594.46,1445.72 1596.47,1445.72 1598.49,1445.72 1600.51,1445.72 1602.52,1445.72 1604.54,1445.72 \n",
       "  1606.56,1445.72 1608.58,1445.72 1610.59,1445.72 1612.61,1445.72 1614.63,1445.72 1616.64,1445.72 1618.66,1445.72 1620.68,1445.72 1622.69,1445.72 1624.71,1445.72 \n",
       "  1626.73,1445.72 1628.74,1445.72 1630.76,1445.72 1632.78,1445.72 1634.79,1445.72 1636.81,1445.72 1638.83,1445.72 1640.84,1445.72 1642.86,1445.72 1644.88,1445.72 \n",
       "  1646.89,1445.72 1648.91,1445.72 1650.93,1445.72 1652.94,1445.72 1654.96,1445.72 1656.98,1445.72 1658.99,1445.72 1661.01,1445.72 1663.03,1445.72 1665.04,1445.72 \n",
       "  1667.06,1445.72 1669.08,1445.72 1671.09,1445.72 1673.11,1445.72 1675.13,1445.72 1677.14,1445.72 1679.16,1445.72 1681.18,1445.72 1683.19,1445.72 1685.21,1445.72 \n",
       "  1687.23,1445.72 1689.25,1445.72 1691.26,1445.72 1693.28,1445.72 1695.3,1445.72 1697.31,1445.72 1699.33,1445.72 1701.35,1445.72 1703.36,1445.72 1705.38,1445.72 \n",
       "  1707.4,1445.72 1709.41,1445.72 1711.43,1445.72 1713.45,1445.72 1715.46,1445.72 1717.48,1445.72 1719.5,1445.72 1721.51,1445.72 1723.53,1445.72 1725.55,1445.72 \n",
       "  1727.56,1445.72 1729.58,1445.72 1731.6,1445.72 1733.61,1445.72 1735.63,1445.72 1737.65,1445.72 1739.66,1445.72 1741.68,1445.72 1743.7,1445.72 1745.71,1445.72 \n",
       "  1747.73,1445.72 1749.75,1445.72 1751.76,1445.72 1753.78,1445.72 1755.8,1445.72 1757.81,1445.72 1759.83,1445.72 1761.85,1445.72 1763.86,1445.72 1765.88,1445.72 \n",
       "  1767.9,1445.72 1769.92,1445.72 1771.93,1445.72 1773.95,1445.72 1775.97,1445.72 1777.98,1445.72 1780,1445.72 1782.02,1445.72 1784.03,1445.72 1786.05,1445.72 \n",
       "  1788.07,1445.72 1790.08,1445.72 1792.1,1445.72 1794.12,1445.72 1796.13,1445.72 1798.15,1445.72 1800.17,1445.72 1802.18,1445.72 1804.2,1445.72 1806.22,1445.72 \n",
       "  1808.23,1445.72 1810.25,1445.72 1812.27,1445.72 1814.28,1445.72 1816.3,1445.72 1818.32,1445.72 1820.33,1445.72 1822.35,1445.72 1824.37,1445.72 1826.38,1445.72 \n",
       "  1828.4,1445.72 1830.42,1445.72 1832.43,1445.72 1834.45,1445.72 1836.47,1445.72 1838.48,1445.72 1840.5,1445.72 1842.52,1445.72 1844.53,1445.72 1846.55,1445.72 \n",
       "  1848.57,1445.72 1850.59,1445.72 1852.6,1445.72 1854.62,1445.72 1856.64,1445.72 1858.65,1445.72 1860.67,1445.72 1862.69,1445.72 1864.7,1445.72 1866.72,1445.72 \n",
       "  1868.74,1445.72 1870.75,1445.72 1872.77,1445.72 1874.79,1445.72 1876.8,1445.72 1878.82,1445.72 1880.84,1445.72 1882.85,1445.72 1884.87,1445.72 1886.89,1445.72 \n",
       "  1888.9,1445.72 1890.92,1445.72 1892.94,1445.72 1894.95,1445.72 1896.97,1445.72 1898.99,1445.72 1901,1445.72 1903.02,1445.72 1905.04,1445.72 1907.05,1445.72 \n",
       "  1909.07,1445.72 1911.09,1445.72 1913.1,1445.72 1915.12,1445.72 1917.14,1445.72 1919.15,1445.72 1921.17,1445.72 1923.19,1445.72 1925.2,1445.72 1927.22,1445.72 \n",
       "  1929.24,1445.72 1931.26,1445.72 1933.27,1445.72 1935.29,1445.72 1937.31,1445.72 1939.32,1445.72 1941.34,1445.72 1943.36,1445.72 1945.37,1445.72 1947.39,1445.72 \n",
       "  1949.41,1445.72 1951.42,1445.72 1953.44,1445.72 1955.46,1445.72 1957.47,1445.72 1959.49,1445.72 1961.51,1445.72 1963.52,1445.72 1965.54,1445.72 1967.56,1445.72 \n",
       "  1969.57,1445.72 1971.59,1445.72 1973.61,1445.72 1975.62,1445.72 1977.64,1445.72 1979.66,1445.72 1981.67,1445.72 1983.69,1445.72 1985.71,1445.72 1987.72,1445.72 \n",
       "  1989.74,1445.72 1991.76,1445.72 1993.77,1445.72 1995.79,1445.72 1997.81,1445.72 1999.82,1445.72 2001.84,1445.72 2003.86,1445.72 2005.87,1445.72 2007.89,1445.72 \n",
       "  2009.91,1445.72 2011.93,1445.72 2013.94,1445.72 2015.96,1445.72 2017.98,1445.72 2019.99,1445.72 2022.01,1445.72 2024.03,1445.72 2026.04,1445.72 2028.06,1445.72 \n",
       "  2030.08,1445.72 2032.09,1445.72 2034.11,1445.72 2036.13,1445.72 2038.14,1445.72 2040.16,1445.72 2042.18,1445.72 2044.19,1445.72 2046.21,1445.72 2048.23,1445.72 \n",
       "  2050.24,1445.72 2052.26,1445.72 2054.28,1445.72 2056.29,1445.72 2058.31,1445.72 2060.33,1445.72 2062.34,1445.72 2064.36,1445.72 2066.38,1445.72 2068.39,1445.72 \n",
       "  2070.41,1445.72 2072.43,1445.72 2074.44,1445.72 2076.46,1445.72 2078.48,1445.72 2080.49,1445.72 2082.51,1445.72 2084.53,1445.72 2086.54,1445.72 2088.56,1445.72 \n",
       "  2090.58,1445.72 2092.6,1445.72 2094.61,1445.72 2096.63,1445.72 2098.65,1445.72 2100.66,1445.72 2102.68,1445.72 2104.7,1445.72 2106.71,1445.72 2108.73,1445.72 \n",
       "  2110.75,1445.72 2112.76,1445.72 2114.78,1445.72 2116.8,1445.72 2118.81,1445.72 2120.83,1445.72 2122.85,1445.72 2124.86,1445.72 2126.88,1445.72 2128.9,1445.72 \n",
       "  2130.91,1445.72 2132.93,1445.72 2134.95,1445.72 2136.96,1445.72 2138.98,1445.72 2141,1445.72 2143.01,1445.72 2145.03,1445.72 2147.05,1445.72 2149.06,1445.72 \n",
       "  2151.08,1445.72 2153.1,1445.72 2155.11,1445.72 2157.13,1445.72 2159.15,1445.72 2161.16,1445.72 2163.18,1445.72 2165.2,1445.72 2167.21,1445.72 2169.23,1445.72 \n",
       "  2171.25,1445.72 2173.27,1445.72 2175.28,1445.72 2177.3,1445.72 2179.32,1445.72 2181.33,1445.72 2183.35,1445.72 2185.37,1445.72 2187.38,1445.72 2189.4,1445.72 \n",
       "  2191.42,1445.72 2193.43,1445.72 2195.45,1445.72 2197.47,1445.72 2199.48,1445.72 2201.5,1445.72 2203.52,1445.72 2205.53,1445.72 2207.55,1445.72 2209.57,1445.72 \n",
       "  2211.58,1445.72 2213.6,1445.72 2215.62,1445.72 2217.63,1445.72 2219.65,1445.72 2221.67,1445.72 2223.68,1445.72 2225.7,1445.72 2227.72,1445.72 2229.73,1445.72 \n",
       "  2231.75,1445.72 2233.77,1445.72 2235.78,1445.72 2237.8,1445.72 2239.82,1445.72 2241.83,1445.72 2243.85,1445.72 2245.87,1445.72 2247.88,1445.72 2249.9,1445.72 \n",
       "  2251.92,1445.72 2253.94,1445.72 2255.95,1445.72 2257.97,1445.72 2259.99,1445.72 2262,1445.72 2264.02,1445.72 2266.04,1445.72 2268.05,1445.72 2270.07,1445.72 \n",
       "  2272.09,1445.72 2274.1,1445.72 2276.12,1445.72 2278.14,1445.72 2280.15,1445.72 2282.17,1445.72 2284.19,1445.72 2286.2,1445.72 2288.22,1445.72 2290.24,1445.72 \n",
       "  2292.25,1445.72 \n",
       "  \"/>\n",
       "<path clip-path=\"url(#clip320)\" d=\"\n",
       "M1989.74 251.724 L2280.76 251.724 L2280.76 130.764 L1989.74 130.764  Z\n",
       "  \" fill=\"#a9a9a9\" fill-rule=\"evenodd\" fill-opacity=\"1\"/>\n",
       "<polyline clip-path=\"url(#clip320)\" style=\"stroke:#000000; stroke-width:4; stroke-opacity:1; fill:none\" points=\"\n",
       "  1989.74,251.724 2280.76,251.724 2280.76,130.764 1989.74,130.764 1989.74,251.724 \n",
       "  \"/>\n",
       "<polyline clip-path=\"url(#clip320)\" style=\"stroke:#009af9; stroke-width:4; stroke-opacity:1; fill:none\" points=\"\n",
       "  2013.74,191.244 2157.74,191.244 \n",
       "  \"/>\n",
       "<path clip-path=\"url(#clip320)\" d=\"M 0 0 M2195.58 210.931 Q2193.77 215.561 2192.06 216.973 Q2190.35 218.385 2187.48 218.385 L2184.08 218.385 L2184.08 214.82 L2186.58 214.82 Q2188.33 214.82 2189.31 213.987 Q2190.28 213.154 2191.46 210.052 L2192.22 208.107 L2181.74 182.598 L2186.25 182.598 L2194.35 202.876 L2202.46 182.598 L2206.97 182.598 L2195.58 210.931 Z\" fill=\"#000000\" fill-rule=\"evenodd\" fill-opacity=\"1\" /><path clip-path=\"url(#clip320)\" d=\"M 0 0 M2212.85 204.589 L2220.49 204.589 L2220.49 178.223 L2212.18 179.89 L2212.18 175.631 L2220.44 173.964 L2225.12 173.964 L2225.12 204.589 L2232.76 204.589 L2232.76 208.524 L2212.85 208.524 L2212.85 204.589 Z\" fill=\"#000000\" fill-rule=\"evenodd\" fill-opacity=\"1\" /></svg>\n"
      ]
     },
     "execution_count": 255,
     "metadata": {},
     "output_type": "execute_result"
    }
   ],
   "source": [
    "plot([r for r in 0.01:0.01:10.01], r -> R(r,1,0; Z=10), background_color=\"darkgrey\")"
   ]
  }
 ],
 "metadata": {
  "@webio": {
   "lastCommId": null,
   "lastKernelId": null
  },
  "kernelspec": {
   "display_name": "Julia 1.2.0",
   "language": "julia",
   "name": "julia-1.2"
  },
  "language_info": {
   "file_extension": ".jl",
   "mimetype": "application/julia",
   "name": "julia",
   "version": "1.2.0"
  }
 },
 "nbformat": 4,
 "nbformat_minor": 4
}
